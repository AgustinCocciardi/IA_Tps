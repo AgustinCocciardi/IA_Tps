{
  "nbformat": 4,
  "nbformat_minor": 0,
  "metadata": {
    "colab": {
      "provenance": [],
      "collapsed_sections": [
        "B8Od8ogkXEGV"
      ],
      "include_colab_link": true
    },
    "kernelspec": {
      "name": "python3",
      "display_name": "Python 3"
    },
    "language_info": {
      "name": "python"
    },
    "accelerator": "GPU"
  },
  "cells": [
    {
      "cell_type": "markdown",
      "metadata": {
        "id": "view-in-github",
        "colab_type": "text"
      },
      "source": [
        "<a href=\"https://colab.research.google.com/github/AgustinCocciardi/IA_Tps/blob/main/Con_Normalizacion_Trabajo_Pr%C3%A1ctico_ML_Regresi%C3%B3n_Predicci%C3%B3n_Energy_Efficiency.ipynb\" target=\"_parent\"><img src=\"https://colab.research.google.com/assets/colab-badge.svg\" alt=\"Open In Colab\"/></a>"
      ]
    },
    {
      "cell_type": "markdown",
      "source": [
        "# Trabajo Práctico ML - Regresión Lineal - Predicción - Eficiencia Energética\n",
        "\n",
        "---\n",
        "\n"
      ],
      "metadata": {
        "id": "B8Od8ogkXEGV"
      }
    },
    {
      "cell_type": "markdown",
      "source": [
        "Este dataset lo obtuvimos del repositorio de aprendizaje automático de UCI.\n",
        "https://archive.ics.uci.edu/ml/datasets/energy+efficiency\n",
        "\n",
        "Este estudio analizó la evaluación de los requisitos de carga de calefacción y carga de refrigeración de los edificios (es decir, la eficiencia energética) en función de los parámetros del edificio.\n",
        "\n",
        "Realizamos análisis energéticos utilizando 12 formas de edificios diferentes. Los edificios se diferencian en cuanto a la superficie acristalada, la distribución de la superficie acristalada y la orientación, entre otros parámetros.\n",
        "\n",
        "Features:\n",
        "- Relative_Compactness\n",
        "- Surface_Area\n",
        "- Wall_Area\n",
        "- Roof_Area\n",
        "- Overall_Height\n",
        "- Orientation\n",
        "- Glazing_Area\n",
        "- Glazing_Area_Distribution\n",
        "\n",
        "Predict:\n",
        "Heating_Load\n",
        "Cooling_Load"
      ],
      "metadata": {
        "id": "H0Vhq9JzXQsS"
      }
    },
    {
      "cell_type": "markdown",
      "source": [
        "# Contenido Teórico y Práctico para Desarrollo del Trabajo Práctico"
      ],
      "metadata": {
        "id": "_0ku4_uKYse7"
      }
    },
    {
      "cell_type": "markdown",
      "source": [
        "**Importación Librerías**"
      ],
      "metadata": {
        "id": "LbNpFlX1r91H"
      }
    },
    {
      "cell_type": "code",
      "source": [
        "import numpy as np\n",
        "import pandas as pd\n",
        "import seaborn as sns\n",
        "import matplotlib.pyplot as plt\n",
        "from sklearn.linear_model import LinearRegression\n",
        "from sklearn.model_selection import train_test_split\n",
        "\n",
        "# LINK SKLEARN LINEAR REGRESSION: https://scikit-learn.org/stable/search.html?q=linear+regression"
      ],
      "metadata": {
        "id": "0NCr9Yt2TOTH"
      },
      "execution_count": 2,
      "outputs": []
    },
    {
      "cell_type": "markdown",
      "source": [
        "**Carga Dataset**"
      ],
      "metadata": {
        "id": "uUwe2HCrsKGO"
      }
    },
    {
      "cell_type": "code",
      "source": [
        "dataset = pd.read_csv('/content/03_Energy-Efficiency_Dataset.csv')"
      ],
      "metadata": {
        "id": "hPgg0FWsTmci"
      },
      "execution_count": 3,
      "outputs": []
    },
    {
      "cell_type": "markdown",
      "source": [
        "**Análisis Dataset**"
      ],
      "metadata": {
        "id": "dO1Cx1M1sdpH"
      }
    },
    {
      "cell_type": "code",
      "source": [
        "print('ENERGY EFFICIENCY DATASET - HEAD: \\n', dataset.head(5))"
      ],
      "metadata": {
        "id": "Ut6OInq0Tth_",
        "colab": {
          "base_uri": "https://localhost:8080/"
        },
        "outputId": "92c38a82-edcf-4458-d1b3-a1efdb5c695c"
      },
      "execution_count": 4,
      "outputs": [
        {
          "output_type": "stream",
          "name": "stdout",
          "text": [
            "ENERGY EFFICIENCY DATASET - HEAD: \n",
            "    Relative_Compactness  Surface_Area  Wall_Area  Roof_Area  Overall_Height  \\\n",
            "0                  0.98         514.5      294.0     110.25             7.0   \n",
            "1                  0.98         514.5      294.0     110.25             7.0   \n",
            "2                  0.98         514.5      294.0     110.25             7.0   \n",
            "3                  0.98         514.5      294.0     110.25             7.0   \n",
            "4                  0.90         563.5      318.5     122.50             7.0   \n",
            "\n",
            "   Orientation  Glazing_Area  Glazing_Area_Distribution  Heating_Load  \\\n",
            "0            2           0.0                          0         15.55   \n",
            "1            3           0.0                          0         15.55   \n",
            "2            4           0.0                          0         15.55   \n",
            "3            5           0.0                          0         15.55   \n",
            "4            2           0.0                          0         20.84   \n",
            "\n",
            "   Cooling_Load  \n",
            "0         21.33  \n",
            "1         21.33  \n",
            "2         21.33  \n",
            "3         21.33  \n",
            "4         28.28  \n"
          ]
        }
      ]
    },
    {
      "cell_type": "code",
      "source": [
        "print('ENERGY EFFICIENCY DATASET - SHAPE: ', dataset.shape)"
      ],
      "metadata": {
        "id": "f8m4ashrscgz",
        "colab": {
          "base_uri": "https://localhost:8080/"
        },
        "outputId": "b988b9b2-fcdd-4c0c-e37c-88848f66a0fd"
      },
      "execution_count": 5,
      "outputs": [
        {
          "output_type": "stream",
          "name": "stdout",
          "text": [
            "ENERGY EFFICIENCY DATASET - SHAPE:  (768, 10)\n"
          ]
        }
      ]
    },
    {
      "cell_type": "code",
      "source": [
        "print('ENERGY EFFICIENCY DATASET - INFO: \\n', dataset.info())"
      ],
      "metadata": {
        "id": "NY4stKwVso12",
        "colab": {
          "base_uri": "https://localhost:8080/"
        },
        "outputId": "b0b9a0e5-7f53-423c-fa3e-9b6cca55d5f2"
      },
      "execution_count": 6,
      "outputs": [
        {
          "output_type": "stream",
          "name": "stdout",
          "text": [
            "<class 'pandas.core.frame.DataFrame'>\n",
            "RangeIndex: 768 entries, 0 to 767\n",
            "Data columns (total 10 columns):\n",
            " #   Column                     Non-Null Count  Dtype  \n",
            "---  ------                     --------------  -----  \n",
            " 0   Relative_Compactness       768 non-null    float64\n",
            " 1   Surface_Area               768 non-null    float64\n",
            " 2   Wall_Area                  768 non-null    float64\n",
            " 3   Roof_Area                  768 non-null    float64\n",
            " 4   Overall_Height             768 non-null    float64\n",
            " 5   Orientation                768 non-null    int64  \n",
            " 6   Glazing_Area               768 non-null    float64\n",
            " 7   Glazing_Area_Distribution  768 non-null    int64  \n",
            " 8   Heating_Load               768 non-null    float64\n",
            " 9   Cooling_Load               768 non-null    float64\n",
            "dtypes: float64(8), int64(2)\n",
            "memory usage: 60.1 KB\n",
            "ENERGY EFFICIENCY DATASET - INFO: \n",
            " None\n"
          ]
        }
      ]
    },
    {
      "cell_type": "code",
      "source": [
        "print('ENERGY EFFICIENCY DATASET - STATISTICS: \\n', dataset.describe())"
      ],
      "metadata": {
        "id": "kbVdzkujsrMY",
        "colab": {
          "base_uri": "https://localhost:8080/"
        },
        "outputId": "0486d243-d53a-4e86-993b-c8a9bf14d8bb"
      },
      "execution_count": 7,
      "outputs": [
        {
          "output_type": "stream",
          "name": "stdout",
          "text": [
            "ENERGY EFFICIENCY DATASET - STATISTICS: \n",
            "        Relative_Compactness  Surface_Area   Wall_Area   Roof_Area  \\\n",
            "count            768.000000    768.000000  768.000000  768.000000   \n",
            "mean               0.764167    671.708333  318.500000  176.604167   \n",
            "std                0.105777     88.086116   43.626481   45.165950   \n",
            "min                0.620000    514.500000  245.000000  110.250000   \n",
            "25%                0.682500    606.375000  294.000000  140.875000   \n",
            "50%                0.750000    673.750000  318.500000  183.750000   \n",
            "75%                0.830000    741.125000  343.000000  220.500000   \n",
            "max                0.980000    808.500000  416.500000  220.500000   \n",
            "\n",
            "       Overall_Height  Orientation  Glazing_Area  Glazing_Area_Distribution  \\\n",
            "count       768.00000   768.000000    768.000000                  768.00000   \n",
            "mean          5.25000     3.500000      0.234375                    2.81250   \n",
            "std           1.75114     1.118763      0.133221                    1.55096   \n",
            "min           3.50000     2.000000      0.000000                    0.00000   \n",
            "25%           3.50000     2.750000      0.100000                    1.75000   \n",
            "50%           5.25000     3.500000      0.250000                    3.00000   \n",
            "75%           7.00000     4.250000      0.400000                    4.00000   \n",
            "max           7.00000     5.000000      0.400000                    5.00000   \n",
            "\n",
            "       Heating_Load  Cooling_Load  \n",
            "count    768.000000    768.000000  \n",
            "mean      22.307201     24.587760  \n",
            "std       10.090196      9.513306  \n",
            "min        6.010000     10.900000  \n",
            "25%       12.992500     15.620000  \n",
            "50%       18.950000     22.080000  \n",
            "75%       31.667500     33.132500  \n",
            "max       43.100000     48.030000  \n"
          ]
        }
      ]
    },
    {
      "cell_type": "markdown",
      "source": [
        "**Análisis Datos**"
      ],
      "metadata": {
        "id": "WnFUvM0as4a1"
      }
    },
    {
      "cell_type": "markdown",
      "source": [
        "Coeficientes Correlación (Ver referencia: [correlation matrix](https://www.geeksforgeeks.org/create-a-correlation-matrix-using-python/))\n",
        "Un coeficiente de correlación (normalmente denominado r) es un número único que describe el alcance de la relación lineal entre dos variables. Un valor de +1 indica una linealidad perfecta (las dos variables se mueven juntas, como \"altura en pulgadas\" y \"altura en centímetros\"). Un valor de r = 0 indica que no hay correlación (las variables son independientes) y r = -1 indica que las variables están inversamente correlacionadas (un aumento en una variable se asocia con una disminución en la otra)."
      ],
      "metadata": {
        "id": "4tEpEVHSQ027"
      }
    },
    {
      "cell_type": "code",
      "source": [
        "cormat = dataset.corr()\n",
        "print('ENERGY EFFICIENCY DATASET - CORRELATION MATRIX: \\n', round(cormat,2))\n",
        "sns.heatmap(cormat);"
      ],
      "metadata": {
        "id": "zqDM-UVSQxOO",
        "colab": {
          "base_uri": "https://localhost:8080/",
          "height": 1000
        },
        "outputId": "3aecbc3e-d5c4-4904-b79a-e1fa5c6a31a7"
      },
      "execution_count": 8,
      "outputs": [
        {
          "output_type": "stream",
          "name": "stdout",
          "text": [
            "ENERGY EFFICIENCY DATASET - CORRELATION MATRIX: \n",
            "                            Relative_Compactness  Surface_Area  Wall_Area  \\\n",
            "Relative_Compactness                       1.00         -0.99      -0.20   \n",
            "Surface_Area                              -0.99          1.00       0.20   \n",
            "Wall_Area                                 -0.20          0.20       1.00   \n",
            "Roof_Area                                 -0.87          0.88      -0.29   \n",
            "Overall_Height                             0.83         -0.86       0.28   \n",
            "Orientation                                0.00         -0.00      -0.00   \n",
            "Glazing_Area                              -0.00          0.00      -0.00   \n",
            "Glazing_Area_Distribution                 -0.00          0.00       0.00   \n",
            "Heating_Load                               0.62         -0.66       0.46   \n",
            "Cooling_Load                               0.63         -0.67       0.43   \n",
            "\n",
            "                           Roof_Area  Overall_Height  Orientation  \\\n",
            "Relative_Compactness           -0.87            0.83         0.00   \n",
            "Surface_Area                    0.88           -0.86        -0.00   \n",
            "Wall_Area                      -0.29            0.28        -0.00   \n",
            "Roof_Area                       1.00           -0.97        -0.00   \n",
            "Overall_Height                 -0.97            1.00         0.00   \n",
            "Orientation                    -0.00            0.00         1.00   \n",
            "Glazing_Area                   -0.00            0.00        -0.00   \n",
            "Glazing_Area_Distribution      -0.00           -0.00        -0.00   \n",
            "Heating_Load                   -0.86            0.89        -0.00   \n",
            "Cooling_Load                   -0.86            0.90         0.01   \n",
            "\n",
            "                           Glazing_Area  Glazing_Area_Distribution  \\\n",
            "Relative_Compactness              -0.00                      -0.00   \n",
            "Surface_Area                       0.00                       0.00   \n",
            "Wall_Area                         -0.00                       0.00   \n",
            "Roof_Area                         -0.00                      -0.00   \n",
            "Overall_Height                     0.00                      -0.00   \n",
            "Orientation                       -0.00                      -0.00   \n",
            "Glazing_Area                       1.00                       0.21   \n",
            "Glazing_Area_Distribution          0.21                       1.00   \n",
            "Heating_Load                       0.27                       0.09   \n",
            "Cooling_Load                       0.21                       0.05   \n",
            "\n",
            "                           Heating_Load  Cooling_Load  \n",
            "Relative_Compactness               0.62          0.63  \n",
            "Surface_Area                      -0.66         -0.67  \n",
            "Wall_Area                          0.46          0.43  \n",
            "Roof_Area                         -0.86         -0.86  \n",
            "Overall_Height                     0.89          0.90  \n",
            "Orientation                       -0.00          0.01  \n",
            "Glazing_Area                       0.27          0.21  \n",
            "Glazing_Area_Distribution          0.09          0.05  \n",
            "Heating_Load                       1.00          0.98  \n",
            "Cooling_Load                       0.98          1.00  \n"
          ]
        },
        {
          "output_type": "display_data",
          "data": {
            "text/plain": [
              "<Figure size 640x480 with 2 Axes>"
            ],
            "image/png": "[encoded data removed]"
          },
          "metadata": {}
        }
      ]
    },
    {
      "cell_type": "markdown",
      "source": [
        "Visualización de Relación Lineal entre Pares de Features"
      ],
      "metadata": {
        "id": "aw2AJ4PKSOr7"
      }
    },
    {
      "cell_type": "code",
      "source": [
        "sns.pairplot(dataset[[\n",
        "'Relative_Compactness',\n",
        "'Surface_Area',\n",
        "'Wall_Area',\n",
        "'Roof_Area',\n",
        "'Overall_Height',\n",
        "'Orientation',\n",
        "'Glazing_Area',\n",
        "'Glazing_Area_Distribution',\n",
        "'Heating_Load',\n",
        "'Cooling_Load',\n",
        " ]]);"
      ],
      "metadata": {
        "id": "CjGzod_nSLx3"
      },
      "execution_count": null,
      "outputs": []
    },
    {
      "cell_type": "markdown",
      "source": [
        "Otra técnica utilizada para identificar relación entre features para seleccionar las más relevantes podemos investigar [mutual_info de scikit learn](https://scikit-learn.org/stable/modules/generated/sklearn.feature_selection.mutual_info_regression.html#sklearn.feature_selection.mutual_info_regression) y [ejemplo](https://guhanesvar.medium.com/feature-selection-based-on-mutual-information-gain-for-classification-and-regression-d0f86ea5262a)"
      ],
      "metadata": {
        "id": "oERQ9wu_0QYV"
      }
    },
    {
      "cell_type": "code",
      "source": [
        "x = dataset.drop(labels=['Heating_Load','Cooling_Load'], axis=1)\n",
        "x"
      ],
      "metadata": {
        "id": "tQkP29Q81WKv",
        "colab": {
          "base_uri": "https://localhost:8080/",
          "height": 424
        },
        "outputId": "ea0498c4-5f6b-4b59-c12d-2441133e4afc"
      },
      "execution_count": 9,
      "outputs": [
        {
          "output_type": "execute_result",
          "data": {
            "text/plain": [
              "     Relative_Compactness  Surface_Area  Wall_Area  Roof_Area  Overall_Height  \\\n",
              "0                    0.98         514.5      294.0     110.25             7.0   \n",
              "1                    0.98         514.5      294.0     110.25             7.0   \n",
              "2                    0.98         514.5      294.0     110.25             7.0   \n",
              "3                    0.98         514.5      294.0     110.25             7.0   \n",
              "4                    0.90         563.5      318.5     122.50             7.0   \n",
              "..                    ...           ...        ...        ...             ...   \n",
              "763                  0.64         784.0      343.0     220.50             3.5   \n",
              "764                  0.62         808.5      367.5     220.50             3.5   \n",
              "765                  0.62         808.5      367.5     220.50             3.5   \n",
              "766                  0.62         808.5      367.5     220.50             3.5   \n",
              "767                  0.62         808.5      367.5     220.50             3.5   \n",
              "\n",
              "     Orientation  Glazing_Area  Glazing_Area_Distribution  \n",
              "0              2           0.0                          0  \n",
              "1              3           0.0                          0  \n",
              "2              4           0.0                          0  \n",
              "3              5           0.0                          0  \n",
              "4              2           0.0                          0  \n",
              "..           ...           ...                        ...  \n",
              "763            5           0.4                          5  \n",
              "764            2           0.4                          5  \n",
              "765            3           0.4                          5  \n",
              "766            4           0.4                          5  \n",
              "767            5           0.4                          5  \n",
              "\n",
              "[768 rows x 8 columns]"
            ],
            "text/html": [
              "\n",
              "  <div id=\"df-9f7fdebe-0440-4cb1-b21b-de5b1d307164\" class=\"colab-df-container\">\n",
              "    <div>\n",
              "<style scoped>\n",
              "    .dataframe tbody tr th:only-of-type {\n",
              "        vertical-align: middle;\n",
              "    }\n",
              "\n",
              "    .dataframe tbody tr th {\n",
              "        vertical-align: top;\n",
              "    }\n",
              "\n",
              "    .dataframe thead th {\n",
              "        text-align: right;\n",
              "    }\n",
              "</style>\n",
              "<table border=\"1\" class=\"dataframe\">\n",
              "  <thead>\n",
              "    <tr style=\"text-align: right;\">\n",
              "      <th></th>\n",
              "      <th>Relative_Compactness</th>\n",
              "      <th>Surface_Area</th>\n",
              "      <th>Wall_Area</th>\n",
              "      <th>Roof_Area</th>\n",
              "      <th>Overall_Height</th>\n",
              "      <th>Orientation</th>\n",
              "      <th>Glazing_Area</th>\n",
              "      <th>Glazing_Area_Distribution</th>\n",
              "    </tr>\n",
              "  </thead>\n",
              "  <tbody>\n",
              "    <tr>\n",
              "      <th>0</th>\n",
              "      <td>0.98</td>\n",
              "      <td>514.5</td>\n",
              "      <td>294.0</td>\n",
              "      <td>110.25</td>\n",
              "      <td>7.0</td>\n",
              "      <td>2</td>\n",
              "      <td>0.0</td>\n",
              "      <td>0</td>\n",
              "    </tr>\n",
              "    <tr>\n",
              "      <th>1</th>\n",
              "      <td>0.98</td>\n",
              "      <td>514.5</td>\n",
              "      <td>294.0</td>\n",
              "      <td>110.25</td>\n",
              "      <td>7.0</td>\n",
              "      <td>3</td>\n",
              "      <td>0.0</td>\n",
              "      <td>0</td>\n",
              "    </tr>\n",
              "    <tr>\n",
              "      <th>2</th>\n",
              "      <td>0.98</td>\n",
              "      <td>514.5</td>\n",
              "      <td>294.0</td>\n",
              "      <td>110.25</td>\n",
              "      <td>7.0</td>\n",
              "      <td>4</td>\n",
              "      <td>0.0</td>\n",
              "      <td>0</td>\n",
              "    </tr>\n",
              "    <tr>\n",
              "      <th>3</th>\n",
              "      <td>0.98</td>\n",
              "      <td>514.5</td>\n",
              "      <td>294.0</td>\n",
              "      <td>110.25</td>\n",
              "      <td>7.0</td>\n",
              "      <td>5</td>\n",
              "      <td>0.0</td>\n",
              "      <td>0</td>\n",
              "    </tr>\n",
              "    <tr>\n",
              "      <th>4</th>\n",
              "      <td>0.90</td>\n",
              "      <td>563.5</td>\n",
              "      <td>318.5</td>\n",
              "      <td>122.50</td>\n",
              "      <td>7.0</td>\n",
              "      <td>2</td>\n",
              "      <td>0.0</td>\n",
              "      <td>0</td>\n",
              "    </tr>\n",
              "    <tr>\n",
              "      <th>...</th>\n",
              "      <td>...</td>\n",
              "      <td>...</td>\n",
              "      <td>...</td>\n",
              "      <td>...</td>\n",
              "      <td>...</td>\n",
              "      <td>...</td>\n",
              "      <td>...</td>\n",
              "      <td>...</td>\n",
              "    </tr>\n",
              "    <tr>\n",
              "      <th>763</th>\n",
              "      <td>0.64</td>\n",
              "      <td>784.0</td>\n",
              "      <td>343.0</td>\n",
              "      <td>220.50</td>\n",
              "      <td>3.5</td>\n",
              "      <td>5</td>\n",
              "      <td>0.4</td>\n",
              "      <td>5</td>\n",
              "    </tr>\n",
              "    <tr>\n",
              "      <th>764</th>\n",
              "      <td>0.62</td>\n",
              "      <td>808.5</td>\n",
              "      <td>367.5</td>\n",
              "      <td>220.50</td>\n",
              "      <td>3.5</td>\n",
              "      <td>2</td>\n",
              "      <td>0.4</td>\n",
              "      <td>5</td>\n",
              "    </tr>\n",
              "    <tr>\n",
              "      <th>765</th>\n",
              "      <td>0.62</td>\n",
              "      <td>808.5</td>\n",
              "      <td>367.5</td>\n",
              "      <td>220.50</td>\n",
              "      <td>3.5</td>\n",
              "      <td>3</td>\n",
              "      <td>0.4</td>\n",
              "      <td>5</td>\n",
              "    </tr>\n",
              "    <tr>\n",
              "      <th>766</th>\n",
              "      <td>0.62</td>\n",
              "      <td>808.5</td>\n",
              "      <td>367.5</td>\n",
              "      <td>220.50</td>\n",
              "      <td>3.5</td>\n",
              "      <td>4</td>\n",
              "      <td>0.4</td>\n",
              "      <td>5</td>\n",
              "    </tr>\n",
              "    <tr>\n",
              "      <th>767</th>\n",
              "      <td>0.62</td>\n",
              "      <td>808.5</td>\n",
              "      <td>367.5</td>\n",
              "      <td>220.50</td>\n",
              "      <td>3.5</td>\n",
              "      <td>5</td>\n",
              "      <td>0.4</td>\n",
              "      <td>5</td>\n",
              "    </tr>\n",
              "  </tbody>\n",
              "</table>\n",
              "<p>768 rows × 8 columns</p>\n",
              "</div>\n",
              "    <div class=\"colab-df-buttons\">\n",
              "\n",
              "  <div class=\"colab-df-container\">\n",
              "    <button class=\"colab-df-convert\" onclick=\"convertToInteractive('df-9f7fdebe-0440-4cb1-b21b-de5b1d307164')\"\n",
              "            title=\"Convert this dataframe to an interactive table.\"\n",
              "            style=\"display:none;\">\n",
              "\n",
              "  <svg xmlns=\"http://www.w3.org/2000/svg\" height=\"24px\" viewBox=\"0 -960 960 960\">\n",
              "    <path d=\"M120-120v-720h720v720H120Zm60-500h600v-160H180v160Zm220 220h160v-160H400v160Zm0 220h160v-160H400v160ZM180-400h160v-160H180v160Zm440 0h160v-160H620v160ZM180-180h160v-160H180v160Zm440 0h160v-160H620v160Z\"/>\n",
              "  </svg>\n",
              "    </button>\n",
              "\n",
              "  <style>\n",
              "    .colab-df-container {\n",
              "      display:flex;\n",
              "      gap: 12px;\n",
              "    }\n",
              "\n",
              "    .colab-df-convert {\n",
              "      background-color: #E8F0FE;\n",
              "      border: none;\n",
              "      border-radius: 50%;\n",
              "      cursor: pointer;\n",
              "      display: none;\n",
              "      fill: #1967D2;\n",
              "      height: 32px;\n",
              "      padding: 0 0 0 0;\n",
              "      width: 32px;\n",
              "    }\n",
              "\n",
              "    .colab-df-convert:hover {\n",
              "      background-color: #E2EBFA;\n",
              "      box-shadow: 0px 1px 2px rgba(60, 64, 67, 0.3), 0px 1px 3px 1px rgba(60, 64, 67, 0.15);\n",
              "      fill: #174EA6;\n",
              "    }\n",
              "\n",
              "    .colab-df-buttons div {\n",
              "      margin-bottom: 4px;\n",
              "    }\n",
              "\n",
              "    [theme=dark] .colab-df-convert {\n",
              "      background-color: #3B4455;\n",
              "      fill: #D2E3FC;\n",
              "    }\n",
              "\n",
              "    [theme=dark] .colab-df-convert:hover {\n",
              "      background-color: #434B5C;\n",
              "      box-shadow: 0px 1px 3px 1px rgba(0, 0, 0, 0.15);\n",
              "      filter: drop-shadow(0px 1px 2px rgba(0, 0, 0, 0.3));\n",
              "      fill: #FFFFFF;\n",
              "    }\n",
              "  </style>\n",
              "\n",
              "    <script>\n",
              "      const buttonEl =\n",
              "        document.querySelector('#df-9f7fdebe-0440-4cb1-b21b-de5b1d307164 button.colab-df-convert');\n",
              "      buttonEl.style.display =\n",
              "        google.colab.kernel.accessAllowed ? 'block' : 'none';\n",
              "\n",
              "      async function convertToInteractive(key) {\n",
              "        const element = document.querySelector('#df-9f7fdebe-0440-4cb1-b21b-de5b1d307164');\n",
              "        const dataTable =\n",
              "          await google.colab.kernel.invokeFunction('convertToInteractive',\n",
              "                                                    [key], {});\n",
              "        if (!dataTable) return;\n",
              "\n",
              "        const docLinkHtml = 'Like what you see? Visit the ' +\n",
              "          '<a target=\"_blank\" href=https://colab.research.google.com/notebooks/data_table.ipynb>data table notebook</a>'\n",
              "          + ' to learn more about interactive tables.';\n",
              "        element.innerHTML = '';\n",
              "        dataTable['output_type'] = 'display_data';\n",
              "        await google.colab.output.renderOutput(dataTable, element);\n",
              "        const docLink = document.createElement('div');\n",
              "        docLink.innerHTML = docLinkHtml;\n",
              "        element.appendChild(docLink);\n",
              "      }\n",
              "    </script>\n",
              "  </div>\n",
              "\n",
              "\n",
              "<div id=\"df-6fa4c39e-bf52-4e3e-bc3f-7313d92a4d94\">\n",
              "  <button class=\"colab-df-quickchart\" onclick=\"quickchart('df-6fa4c39e-bf52-4e3e-bc3f-7313d92a4d94')\"\n",
              "            title=\"Suggest charts.\"\n",
              "            style=\"display:none;\">\n",
              "\n",
              "<svg xmlns=\"http://www.w3.org/2000/svg\" height=\"24px\"viewBox=\"0 0 24 24\"\n",
              "     width=\"24px\">\n",
              "    <g>\n",
              "        <path d=\"M19 3H5c-1.1 0-2 .9-2 2v14c0 1.1.9 2 2 2h14c1.1 0 2-.9 2-2V5c0-1.1-.9-2-2-2zM9 17H7v-7h2v7zm4 0h-2V7h2v10zm4 0h-2v-4h2v4z\"/>\n",
              "    </g>\n",
              "</svg>\n",
              "  </button>\n",
              "\n",
              "<style>\n",
              "  .colab-df-quickchart {\n",
              "      --bg-color: #E8F0FE;\n",
              "      --fill-color: #1967D2;\n",
              "      --hover-bg-color: #E2EBFA;\n",
              "      --hover-fill-color: #174EA6;\n",
              "      --disabled-fill-color: #AAA;\n",
              "      --disabled-bg-color: #DDD;\n",
              "  }\n",
              "\n",
              "  [theme=dark] .colab-df-quickchart {\n",
              "      --bg-color: #3B4455;\n",
              "      --fill-color: #D2E3FC;\n",
              "      --hover-bg-color: #434B5C;\n",
              "      --hover-fill-color: #FFFFFF;\n",
              "      --disabled-bg-color: #3B4455;\n",
              "      --disabled-fill-color: #666;\n",
              "  }\n",
              "\n",
              "  .colab-df-quickchart {\n",
              "    background-color: var(--bg-color);\n",
              "    border: none;\n",
              "    border-radius: 50%;\n",
              "    cursor: pointer;\n",
              "    display: none;\n",
              "    fill: var(--fill-color);\n",
              "    height: 32px;\n",
              "    padding: 0;\n",
              "    width: 32px;\n",
              "  }\n",
              "\n",
              "  .colab-df-quickchart:hover {\n",
              "    background-color: var(--hover-bg-color);\n",
              "    box-shadow: 0 1px 2px rgba(60, 64, 67, 0.3), 0 1px 3px 1px rgba(60, 64, 67, 0.15);\n",
              "    fill: var(--button-hover-fill-color);\n",
              "  }\n",
              "\n",
              "  .colab-df-quickchart-complete:disabled,\n",
              "  .colab-df-quickchart-complete:disabled:hover {\n",
              "    background-color: var(--disabled-bg-color);\n",
              "    fill: var(--disabled-fill-color);\n",
              "    box-shadow: none;\n",
              "  }\n",
              "\n",
              "  .colab-df-spinner {\n",
              "    border: 2px solid var(--fill-color);\n",
              "    border-color: transparent;\n",
              "    border-bottom-color: var(--fill-color);\n",
              "    animation:\n",
              "      spin 1s steps(1) infinite;\n",
              "  }\n",
              "\n",
              "  @keyframes spin {\n",
              "    0% {\n",
              "      border-color: transparent;\n",
              "      border-bottom-color: var(--fill-color);\n",
              "      border-left-color: var(--fill-color);\n",
              "    }\n",
              "    20% {\n",
              "      border-color: transparent;\n",
              "      border-left-color: var(--fill-color);\n",
              "      border-top-color: var(--fill-color);\n",
              "    }\n",
              "    30% {\n",
              "      border-color: transparent;\n",
              "      border-left-color: var(--fill-color);\n",
              "      border-top-color: var(--fill-color);\n",
              "      border-right-color: var(--fill-color);\n",
              "    }\n",
              "    40% {\n",
              "      border-color: transparent;\n",
              "      border-right-color: var(--fill-color);\n",
              "      border-top-color: var(--fill-color);\n",
              "    }\n",
              "    60% {\n",
              "      border-color: transparent;\n",
              "      border-right-color: var(--fill-color);\n",
              "    }\n",
              "    80% {\n",
              "      border-color: transparent;\n",
              "      border-right-color: var(--fill-color);\n",
              "      border-bottom-color: var(--fill-color);\n",
              "    }\n",
              "    90% {\n",
              "      border-color: transparent;\n",
              "      border-bottom-color: var(--fill-color);\n",
              "    }\n",
              "  }\n",
              "</style>\n",
              "\n",
              "  <script>\n",
              "    async function quickchart(key) {\n",
              "      const quickchartButtonEl =\n",
              "        document.querySelector('#' + key + ' button');\n",
              "      quickchartButtonEl.disabled = true;  // To prevent multiple clicks.\n",
              "      quickchartButtonEl.classList.add('colab-df-spinner');\n",
              "      try {\n",
              "        const charts = await google.colab.kernel.invokeFunction(\n",
              "            'suggestCharts', [key], {});\n",
              "      } catch (error) {\n",
              "        console.error('Error during call to suggestCharts:', error);\n",
              "      }\n",
              "      quickchartButtonEl.classList.remove('colab-df-spinner');\n",
              "      quickchartButtonEl.classList.add('colab-df-quickchart-complete');\n",
              "    }\n",
              "    (() => {\n",
              "      let quickchartButtonEl =\n",
              "        document.querySelector('#df-6fa4c39e-bf52-4e3e-bc3f-7313d92a4d94 button');\n",
              "      quickchartButtonEl.style.display =\n",
              "        google.colab.kernel.accessAllowed ? 'block' : 'none';\n",
              "    })();\n",
              "  </script>\n",
              "</div>\n",
              "    </div>\n",
              "  </div>\n"
            ]
          },
          "metadata": {},
          "execution_count": 9
        }
      ]
    },
    {
      "cell_type": "code",
      "source": [
        "y = dataset['Heating_Load']\n",
        "y"
      ],
      "metadata": {
        "id": "VEbLOjuq1WKv",
        "colab": {
          "base_uri": "https://localhost:8080/"
        },
        "outputId": "d8b54050-ffa2-4bd7-acf0-ec17a80b119f"
      },
      "execution_count": 10,
      "outputs": [
        {
          "output_type": "execute_result",
          "data": {
            "text/plain": [
              "0      15.55\n",
              "1      15.55\n",
              "2      15.55\n",
              "3      15.55\n",
              "4      20.84\n",
              "       ...  \n",
              "763    17.88\n",
              "764    16.54\n",
              "765    16.44\n",
              "766    16.48\n",
              "767    16.64\n",
              "Name: Heating_Load, Length: 768, dtype: float64"
            ]
          },
          "metadata": {},
          "execution_count": 10
        }
      ]
    },
    {
      "cell_type": "code",
      "source": [
        "x_train_features, x_test_features, y_train_features, y_test_features = train_test_split(x, y, test_size=0.2, random_state=0, shuffle=True)"
      ],
      "metadata": {
        "id": "P0TI6SLO1WKw"
      },
      "execution_count": 11,
      "outputs": []
    },
    {
      "cell_type": "code",
      "source": [
        "from sklearn.feature_selection import mutual_info_regression\n",
        "mutual_info = mutual_info_regression(x_train_features, y_train_features)\n",
        "print('ENERGY EFFICIENCY DATASET - FEATURE COLS - MUTUAL INFO: \\n', mutual_info)"
      ],
      "metadata": {
        "id": "jKfgQi301WKw",
        "colab": {
          "base_uri": "https://localhost:8080/"
        },
        "outputId": "c3a517a9-b152-4969-c596-b0b5617b8915"
      },
      "execution_count": 12,
      "outputs": [
        {
          "output_type": "stream",
          "name": "stdout",
          "text": [
            "ENERGY EFFICIENCY DATASET - FEATURE COLS - MUTUAL INFO: \n",
            " [1.63405195 1.63256722 1.03934521 0.84808436 0.65233021 0.\n",
            " 0.6666937  0.16462108]\n"
          ]
        }
      ]
    },
    {
      "cell_type": "code",
      "source": [
        "mutual_info = pd.Series(mutual_info)\n",
        "mutual_info.index = x_train_features.columns\n",
        "mutual_info.sort_values(ascending=False)"
      ],
      "metadata": {
        "id": "k4Jz_MG-1WKw",
        "colab": {
          "base_uri": "https://localhost:8080/"
        },
        "outputId": "1ef6f42c-f5e9-4349-ffa5-5ffbeabed68f"
      },
      "execution_count": 13,
      "outputs": [
        {
          "output_type": "execute_result",
          "data": {
            "text/plain": [
              "Relative_Compactness         1.634052\n",
              "Surface_Area                 1.632567\n",
              "Wall_Area                    1.039345\n",
              "Roof_Area                    0.848084\n",
              "Glazing_Area                 0.666694\n",
              "Overall_Height               0.652330\n",
              "Glazing_Area_Distribution    0.164621\n",
              "Orientation                  0.000000\n",
              "dtype: float64"
            ]
          },
          "metadata": {},
          "execution_count": 13
        }
      ]
    },
    {
      "cell_type": "code",
      "source": [
        "mutual_info.sort_values(ascending=False).plot.bar(figsize=(15,5))"
      ],
      "metadata": {
        "id": "FZZbFjJh1WKx",
        "colab": {
          "base_uri": "https://localhost:8080/",
          "height": 628
        },
        "outputId": "07d37a28-bc93-4006-a575-c3e2c777c959"
      },
      "execution_count": 14,
      "outputs": [
        {
          "output_type": "execute_result",
          "data": {
            "text/plain": [
              "<Axes: >"
            ]
          },
          "metadata": {},
          "execution_count": 14
        },
        {
          "output_type": "display_data",
          "data": {
            "text/plain": [
              "<Figure size 1500x500 with 1 Axes>"
            ],
            "image/png": "[encoded data removed]"
          },
          "metadata": {}
        }
      ]
    },
    {
      "cell_type": "markdown",
      "source": [
        "**Determinación Features Cols**"
      ],
      "metadata": {
        "id": "hBw4C6o9t66q"
      }
    },
    {
      "cell_type": "code",
      "source": [
        "feature_cols = [\n",
        "'Cooling_Load',\n",
        "'Roof_Area',\n",
        "'Overall_Height']\n",
        "x = dataset[feature_cols]\n",
        "print('ENERGY EFFICIENCY DATASET - X (FEATURES COLS): \\n', x)\n",
        "y = dataset.Heating_Load\n",
        "print('ENERGY EFFICIENCY DATASET - Y (PREDICTION LABEL): \\n', y)"
      ],
      "metadata": {
        "id": "ZulA5udzVSDm",
        "colab": {
          "base_uri": "https://localhost:8080/"
        },
        "outputId": "d3165b41-d111-4293-ad9b-74e65e401c6b"
      },
      "execution_count": 15,
      "outputs": [
        {
          "output_type": "stream",
          "name": "stdout",
          "text": [
            "ENERGY EFFICIENCY DATASET - X (FEATURES COLS): \n",
            "      Cooling_Load  Roof_Area  Overall_Height\n",
            "0           21.33     110.25             7.0\n",
            "1           21.33     110.25             7.0\n",
            "2           21.33     110.25             7.0\n",
            "3           21.33     110.25             7.0\n",
            "4           28.28     122.50             7.0\n",
            "..            ...        ...             ...\n",
            "763         21.40     220.50             3.5\n",
            "764         16.88     220.50             3.5\n",
            "765         17.11     220.50             3.5\n",
            "766         16.61     220.50             3.5\n",
            "767         16.03     220.50             3.5\n",
            "\n",
            "[768 rows x 3 columns]\n",
            "ENERGY EFFICIENCY DATASET - Y (PREDICTION LABEL): \n",
            " 0      15.55\n",
            "1      15.55\n",
            "2      15.55\n",
            "3      15.55\n",
            "4      20.84\n",
            "       ...  \n",
            "763    17.88\n",
            "764    16.54\n",
            "765    16.44\n",
            "766    16.48\n",
            "767    16.64\n",
            "Name: Heating_Load, Length: 768, dtype: float64\n"
          ]
        }
      ]
    },
    {
      "cell_type": "markdown",
      "source": [
        "**Separación Set de Datos**"
      ],
      "metadata": {
        "id": "L0SO77ZDuile"
      }
    },
    {
      "cell_type": "code",
      "source": [
        "set_test_size = 0.2"
      ],
      "metadata": {
        "id": "iXOgWW4GboFN"
      },
      "execution_count": 16,
      "outputs": []
    },
    {
      "cell_type": "code",
      "source": [
        "x_train, x_test, y_train, y_test = train_test_split(x, y, test_size=set_test_size, random_state=0, shuffle=True)"
      ],
      "metadata": {
        "id": "twV--yvlWwnb"
      },
      "execution_count": 17,
      "outputs": []
    },
    {
      "cell_type": "code",
      "source": [
        "x_train = x_train.values"
      ],
      "metadata": {
        "id": "5CBSyPUWXyxE"
      },
      "execution_count": 18,
      "outputs": []
    },
    {
      "cell_type": "code",
      "source": [
        "x_train"
      ],
      "metadata": {
        "id": "-k8NFBkU4vBG",
        "colab": {
          "base_uri": "https://localhost:8080/"
        },
        "outputId": "9ecb84b1-698b-40b5-c6d2-1055dd67166b"
      },
      "execution_count": 19,
      "outputs": [
        {
          "output_type": "execute_result",
          "data": {
            "text/plain": [
              "array([[ 17.03, 220.5 ,   3.5 ],\n",
              "       [ 34.17, 122.5 ,   7.  ],\n",
              "       [ 33.01, 122.5 ,   7.  ],\n",
              "       ...,\n",
              "       [ 35.04, 122.5 ,   7.  ],\n",
              "       [ 17.47, 220.5 ,   3.5 ],\n",
              "       [ 28.2 , 147.  ,   7.  ]])"
            ]
          },
          "metadata": {},
          "execution_count": 19
        }
      ]
    },
    {
      "cell_type": "code",
      "source": [
        "y_train = y_train.values"
      ],
      "metadata": {
        "id": "bYateBV1hxSw"
      },
      "execution_count": 20,
      "outputs": []
    },
    {
      "cell_type": "code",
      "source": [
        "x_test = x_test.values"
      ],
      "metadata": {
        "id": "TaKpTTmfh0GH"
      },
      "execution_count": 21,
      "outputs": []
    },
    {
      "cell_type": "code",
      "source": [
        "x_test"
      ],
      "metadata": {
        "id": "9yH-8IY945YD",
        "colab": {
          "base_uri": "https://localhost:8080/"
        },
        "outputId": "d31fe1d0-a9a7-4885-e329-ad92093155d5"
      },
      "execution_count": 22,
      "outputs": [
        {
          "output_type": "execute_result",
          "data": {
            "text/plain": [
              "array([[ 17.63, 220.5 ,   3.5 ],\n",
              "       [ 13.57, 220.5 ,   3.5 ],\n",
              "       [ 34.62, 147.  ,   7.  ],\n",
              "       [ 21.16, 147.  ,   7.  ],\n",
              "       [ 33.34, 110.25,   7.  ],\n",
              "       [ 34.2 , 122.5 ,   7.  ],\n",
              "       [ 30.18, 110.25,   7.  ],\n",
              "       [ 30.34, 147.  ,   7.  ],\n",
              "       [ 29.82, 147.  ,   7.  ],\n",
              "       [ 24.61, 147.  ,   7.  ],\n",
              "       [ 11.67, 220.5 ,   3.5 ],\n",
              "       [ 38.35, 147.  ,   7.  ],\n",
              "       [ 14.65, 220.5 ,   3.5 ],\n",
              "       [ 39.41, 147.  ,   7.  ],\n",
              "       [ 37.7 , 147.  ,   7.  ],\n",
              "       [ 31.06, 147.  ,   7.  ],\n",
              "       [ 13.87, 220.5 ,   3.5 ],\n",
              "       [ 34.33, 122.5 ,   7.  ],\n",
              "       [ 15.38, 220.5 ,   3.5 ],\n",
              "       [ 15.4 , 220.5 ,   3.5 ],\n",
              "       [ 14.38, 220.5 ,   3.5 ],\n",
              "       [ 33.13, 110.25,   7.  ],\n",
              "       [ 14.14, 220.5 ,   3.5 ],\n",
              "       [ 43.86, 147.  ,   7.  ],\n",
              "       [ 11.17, 220.5 ,   3.5 ],\n",
              "       [ 17.37, 220.5 ,   3.5 ],\n",
              "       [ 14.47, 220.5 ,   3.5 ],\n",
              "       [ 16.69, 220.5 ,   3.5 ],\n",
              "       [ 14.27, 220.5 ,   3.5 ],\n",
              "       [ 37.54, 147.  ,   7.  ],\n",
              "       [ 13.97, 220.5 ,   3.5 ],\n",
              "       [ 16.14, 220.5 ,   3.5 ],\n",
              "       [ 46.44, 147.  ,   7.  ],\n",
              "       [ 16.22, 220.5 ,   3.5 ],\n",
              "       [ 29.78, 110.25,   7.  ],\n",
              "       [ 36.07, 122.5 ,   7.  ],\n",
              "       [ 16.08, 220.5 ,   3.5 ],\n",
              "       [ 36.93, 122.5 ,   7.  ],\n",
              "       [ 17.2 , 220.5 ,   3.5 ],\n",
              "       [ 16.78, 220.5 ,   3.5 ],\n",
              "       [ 13.7 , 220.5 ,   3.5 ],\n",
              "       [ 36.77, 147.  ,   7.  ],\n",
              "       [ 17.2 , 220.5 ,   3.5 ],\n",
              "       [ 26.41, 147.  ,   7.  ],\n",
              "       [ 27.3 , 147.  ,   7.  ],\n",
              "       [ 26.02, 110.25,   7.  ],\n",
              "       [ 13.89, 220.5 ,   3.5 ],\n",
              "       [ 15.17, 220.5 ,   3.5 ],\n",
              "       [ 32.83, 122.5 ,   7.  ],\n",
              "       [ 31.  , 147.  ,   7.  ],\n",
              "       [ 33.94, 110.25,   7.  ],\n",
              "       [ 14.27, 220.5 ,   3.5 ],\n",
              "       [ 34.05, 122.5 ,   7.  ],\n",
              "       [ 17.64, 220.5 ,   3.5 ],\n",
              "       [ 37.2 , 122.5 ,   7.  ],\n",
              "       [ 13.7 , 220.5 ,   3.5 ],\n",
              "       [ 21.33, 110.25,   7.  ],\n",
              "       [ 31.39, 147.  ,   7.  ],\n",
              "       [ 37.26, 147.  ,   7.  ],\n",
              "       [ 16.9 , 220.5 ,   3.5 ],\n",
              "       [ 18.1 , 220.5 ,   3.5 ],\n",
              "       [ 14.91, 220.5 ,   3.5 ],\n",
              "       [ 33.86, 110.25,   7.  ],\n",
              "       [ 13.72, 220.5 ,   3.5 ],\n",
              "       [ 15.85, 220.5 ,   3.5 ],\n",
              "       [ 14.49, 220.5 ,   3.5 ],\n",
              "       [ 45.97, 147.  ,   7.  ],\n",
              "       [ 14.55, 220.5 ,   3.5 ],\n",
              "       [ 32.04, 147.  ,   7.  ],\n",
              "       [ 36.87, 147.  ,   7.  ],\n",
              "       [ 32.78, 110.25,   7.  ],\n",
              "       [ 13.79, 220.5 ,   3.5 ],\n",
              "       [ 24.77, 147.  ,   7.  ],\n",
              "       [ 16.86, 220.5 ,   3.5 ],\n",
              "       [ 19.48, 220.5 ,   3.5 ],\n",
              "       [ 29.88, 147.  ,   7.  ],\n",
              "       [ 32.95, 110.25,   7.  ],\n",
              "       [ 43.73, 147.  ,   7.  ],\n",
              "       [ 32.88, 110.25,   7.  ],\n",
              "       [ 17.1 , 220.5 ,   3.5 ],\n",
              "       [ 40.66, 122.5 ,   7.  ],\n",
              "       [ 30.08, 122.5 ,   7.  ],\n",
              "       [ 13.72, 220.5 ,   3.5 ],\n",
              "       [ 14.61, 220.5 ,   3.5 ],\n",
              "       [ 32.54, 147.  ,   7.  ],\n",
              "       [ 26.72, 147.  ,   7.  ],\n",
              "       [ 25.88, 110.25,   7.  ],\n",
              "       [ 30.93, 147.  ,   7.  ],\n",
              "       [ 14.37, 220.5 ,   3.5 ],\n",
              "       [ 16.99, 220.5 ,   3.5 ],\n",
              "       [ 16.99, 220.5 ,   3.5 ],\n",
              "       [ 31.28, 147.  ,   7.  ],\n",
              "       [ 15.5 , 220.5 ,   3.5 ],\n",
              "       [ 26.44, 110.25,   7.  ],\n",
              "       [ 39.55, 122.5 ,   7.  ],\n",
              "       [ 17.2 , 220.5 ,   3.5 ],\n",
              "       [ 29.77, 147.  ,   7.  ],\n",
              "       [ 16.44, 220.5 ,   3.5 ],\n",
              "       [ 12.14, 220.5 ,   3.5 ],\n",
              "       [ 37.28, 122.5 ,   7.  ],\n",
              "       [ 35.1 , 147.  ,   7.  ],\n",
              "       [ 28.68, 147.  ,   7.  ],\n",
              "       [ 23.49, 147.  ,   7.  ],\n",
              "       [ 33.87, 122.5 ,   7.  ],\n",
              "       [ 13.5 , 220.5 ,   3.5 ],\n",
              "       [ 28.31, 147.  ,   7.  ],\n",
              "       [ 38.56, 147.  ,   7.  ],\n",
              "       [ 16.14, 220.5 ,   3.5 ],\n",
              "       [ 15.42, 220.5 ,   3.5 ],\n",
              "       [ 21.33, 110.25,   7.  ],\n",
              "       [ 20.82, 220.5 ,   3.5 ],\n",
              "       [ 33.89, 122.5 ,   7.  ],\n",
              "       [ 32.28, 147.  ,   7.  ],\n",
              "       [ 19.29, 220.5 ,   3.5 ],\n",
              "       [ 14.94, 220.5 ,   3.5 ],\n",
              "       [ 19.29, 220.5 ,   3.5 ],\n",
              "       [ 14.87, 220.5 ,   3.5 ],\n",
              "       [ 43.14, 147.  ,   7.  ],\n",
              "       [ 27.33, 147.  ,   7.  ],\n",
              "       [ 39.37, 122.5 ,   7.  ],\n",
              "       [ 33.14, 122.5 ,   7.  ],\n",
              "       [ 15.18, 220.5 ,   3.5 ],\n",
              "       [ 15.44, 220.5 ,   3.5 ],\n",
              "       [ 34.94, 122.5 ,   7.  ],\n",
              "       [ 14.74, 220.5 ,   3.5 ],\n",
              "       [ 39.85, 122.5 ,   7.  ],\n",
              "       [ 16.9 , 220.5 ,   3.5 ],\n",
              "       [ 30.1 , 110.25,   7.  ],\n",
              "       [ 14.92, 220.5 ,   3.5 ],\n",
              "       [ 29.69, 147.  ,   7.  ],\n",
              "       [ 33.67, 122.5 ,   7.  ],\n",
              "       [ 26.37, 110.25,   7.  ],\n",
              "       [ 41.86, 147.  ,   7.  ],\n",
              "       [ 13.79, 220.5 ,   3.5 ],\n",
              "       [ 36.15, 122.5 ,   7.  ],\n",
              "       [ 12.23, 220.5 ,   3.5 ],\n",
              "       [ 28.43, 147.  ,   7.  ],\n",
              "       [ 26.47, 110.25,   7.  ],\n",
              "       [ 34.35, 122.5 ,   7.  ],\n",
              "       [ 15.47, 220.5 ,   3.5 ],\n",
              "       [ 21.08, 220.5 ,   3.5 ],\n",
              "       [ 22.72, 220.5 ,   3.5 ],\n",
              "       [ 29.34, 122.5 ,   7.  ],\n",
              "       [ 13.8 , 220.5 ,   3.5 ],\n",
              "       [ 41.68, 147.  ,   7.  ],\n",
              "       [ 16.  , 220.5 ,   3.5 ],\n",
              "       [ 32.92, 122.5 ,   7.  ],\n",
              "       [ 37.45, 122.5 ,   7.  ],\n",
              "       [ 14.92, 220.5 ,   3.5 ],\n",
              "       [ 15.41, 220.5 ,   3.5 ],\n",
              "       [ 30.  , 110.25,   7.  ],\n",
              "       [ 15.  , 220.5 ,   3.5 ],\n",
              "       [ 14.75, 220.5 ,   3.5 ],\n",
              "       [ 15.32, 220.5 ,   3.5 ]])"
            ]
          },
          "metadata": {},
          "execution_count": 22
        }
      ]
    },
    {
      "cell_type": "code",
      "source": [
        "y_test = y_test.values"
      ],
      "metadata": {
        "id": "ov5xjWUsh2z0"
      },
      "execution_count": 23,
      "outputs": []
    },
    {
      "cell_type": "markdown",
      "source": [
        "**Normalizacion**"
      ],
      "metadata": {
        "id": "PkqEh4OO3GES"
      }
    },
    {
      "cell_type": "markdown",
      "source": [
        "Normalización por Escalado de Características.\n",
        "\n",
        "Referencia: https://www.youtube.com/watch?v=YWSCQxenjo0&list=PLcNHLC-YNYt8GThRSgF31IVSNe7zmsQr7&index=8"
      ],
      "metadata": {
        "id": "0AWYfcJM3IZQ"
      }
    },
    {
      "cell_type": "code",
      "source": [
        "from sklearn.preprocessing import StandardScaler"
      ],
      "metadata": {
        "id": "bxlVl51-3MS6"
      },
      "execution_count": 24,
      "outputs": []
    },
    {
      "cell_type": "code",
      "source": [
        "ss = StandardScaler()"
      ],
      "metadata": {
        "id": "p73pvd0c3OJd"
      },
      "execution_count": 25,
      "outputs": []
    },
    {
      "cell_type": "code",
      "source": [
        "ss.fit(x_train)"
      ],
      "metadata": {
        "colab": {
          "base_uri": "https://localhost:8080/",
          "height": 75
        },
        "id": "WlA6aoPx3QDd",
        "outputId": "42ea614c-6463-431e-a6e9-3b1eb358465f"
      },
      "execution_count": 26,
      "outputs": [
        {
          "output_type": "execute_result",
          "data": {
            "text/plain": [
              "StandardScaler()"
            ],
            "text/html": [
              "<style>#sk-container-id-1 {color: black;background-color: white;}#sk-container-id-1 pre{padding: 0;}#sk-container-id-1 div.sk-toggleable {background-color: white;}#sk-container-id-1 label.sk-toggleable__label {cursor: pointer;display: block;width: 100%;margin-bottom: 0;padding: 0.3em;box-sizing: border-box;text-align: center;}#sk-container-id-1 label.sk-toggleable__label-arrow:before {content: \"▸\";float: left;margin-right: 0.25em;color: #696969;}#sk-container-id-1 label.sk-toggleable__label-arrow:hover:before {color: black;}#sk-container-id-1 div.sk-estimator:hover label.sk-toggleable__label-arrow:before {color: black;}#sk-container-id-1 div.sk-toggleable__content {max-height: 0;max-width: 0;overflow: hidden;text-align: left;background-color: #f0f8ff;}#sk-container-id-1 div.sk-toggleable__content pre {margin: 0.2em;color: black;border-radius: 0.25em;background-color: #f0f8ff;}#sk-container-id-1 input.sk-toggleable__control:checked~div.sk-toggleable__content {max-height: 200px;max-width: 100%;overflow: auto;}#sk-container-id-1 input.sk-toggleable__control:checked~label.sk-toggleable__label-arrow:before {content: \"▾\";}#sk-container-id-1 div.sk-estimator input.sk-toggleable__control:checked~label.sk-toggleable__label {background-color: #d4ebff;}#sk-container-id-1 div.sk-label input.sk-toggleable__control:checked~label.sk-toggleable__label {background-color: #d4ebff;}#sk-container-id-1 input.sk-hidden--visually {border: 0;clip: rect(1px 1px 1px 1px);clip: rect(1px, 1px, 1px, 1px);height: 1px;margin: -1px;overflow: hidden;padding: 0;position: absolute;width: 1px;}#sk-container-id-1 div.sk-estimator {font-family: monospace;background-color: #f0f8ff;border: 1px dotted black;border-radius: 0.25em;box-sizing: border-box;margin-bottom: 0.5em;}#sk-container-id-1 div.sk-estimator:hover {background-color: #d4ebff;}#sk-container-id-1 div.sk-parallel-item::after {content: \"\";width: 100%;border-bottom: 1px solid gray;flex-grow: 1;}#sk-container-id-1 div.sk-label:hover label.sk-toggleable__label {background-color: #d4ebff;}#sk-container-id-1 div.sk-serial::before {content: \"\";position: absolute;border-left: 1px solid gray;box-sizing: border-box;top: 0;bottom: 0;left: 50%;z-index: 0;}#sk-container-id-1 div.sk-serial {display: flex;flex-direction: column;align-items: center;background-color: white;padding-right: 0.2em;padding-left: 0.2em;position: relative;}#sk-container-id-1 div.sk-item {position: relative;z-index: 1;}#sk-container-id-1 div.sk-parallel {display: flex;align-items: stretch;justify-content: center;background-color: white;position: relative;}#sk-container-id-1 div.sk-item::before, #sk-container-id-1 div.sk-parallel-item::before {content: \"\";position: absolute;border-left: 1px solid gray;box-sizing: border-box;top: 0;bottom: 0;left: 50%;z-index: -1;}#sk-container-id-1 div.sk-parallel-item {display: flex;flex-direction: column;z-index: 1;position: relative;background-color: white;}#sk-container-id-1 div.sk-parallel-item:first-child::after {align-self: flex-end;width: 50%;}#sk-container-id-1 div.sk-parallel-item:last-child::after {align-self: flex-start;width: 50%;}#sk-container-id-1 div.sk-parallel-item:only-child::after {width: 0;}#sk-container-id-1 div.sk-dashed-wrapped {border: 1px dashed gray;margin: 0 0.4em 0.5em 0.4em;box-sizing: border-box;padding-bottom: 0.4em;background-color: white;}#sk-container-id-1 div.sk-label label {font-family: monospace;font-weight: bold;display: inline-block;line-height: 1.2em;}#sk-container-id-1 div.sk-label-container {text-align: center;}#sk-container-id-1 div.sk-container {/* jupyter's `normalize.less` sets `[hidden] { display: none; }` but bootstrap.min.css set `[hidden] { display: none !important; }` so we also need the `!important` here to be able to override the default hidden behavior on the sphinx rendered scikit-learn.org. See: https://github.com/scikit-learn/scikit-learn/issues/21755 */display: inline-block !important;position: relative;}#sk-container-id-1 div.sk-text-repr-fallback {display: none;}</style><div id=\"sk-container-id-1\" class=\"sk-top-container\"><div class=\"sk-text-repr-fallback\"><pre>StandardScaler()</pre><b>In a Jupyter environment, please rerun this cell to show the HTML representation or trust the notebook. <br />On GitHub, the HTML representation is unable to render, please try loading this page with nbviewer.org.</b></div><div class=\"sk-container\" hidden><div class=\"sk-item\"><div class=\"sk-estimator sk-toggleable\"><input class=\"sk-toggleable__control sk-hidden--visually\" id=\"sk-estimator-id-1\" type=\"checkbox\" checked><label for=\"sk-estimator-id-1\" class=\"sk-toggleable__label sk-toggleable__label-arrow\">StandardScaler</label><div class=\"sk-toggleable__content\"><pre>StandardScaler()</pre></div></div></div></div></div>"
            ]
          },
          "metadata": {},
          "execution_count": 26
        }
      ]
    },
    {
      "cell_type": "code",
      "source": [
        "x_train_norm = ss.transform(x_train)\n",
        "x_test_norm = ss.transform(x_test)"
      ],
      "metadata": {
        "id": "R0xKAV7C3SWa"
      },
      "execution_count": 27,
      "outputs": []
    },
    {
      "cell_type": "markdown",
      "source": [
        "**Definición Modelo**"
      ],
      "metadata": {
        "id": "42oN4FXYznYS"
      }
    },
    {
      "cell_type": "code",
      "source": [
        "regressor = LinearRegression()"
      ],
      "metadata": {
        "id": "MNd1AViXYWCA"
      },
      "execution_count": 28,
      "outputs": []
    },
    {
      "cell_type": "markdown",
      "source": [
        "**Entrenamiento Modelo**"
      ],
      "metadata": {
        "id": "Hjim-shYzqDo"
      }
    },
    {
      "cell_type": "code",
      "source": [
        "regressor.fit(x_train_norm, y_train)"
      ],
      "metadata": {
        "id": "xevwore9YbH0",
        "colab": {
          "base_uri": "https://localhost:8080/",
          "height": 75
        },
        "outputId": "551e7a1c-35d2-4e17-8e39-b9b9e1ec3758"
      },
      "execution_count": 29,
      "outputs": [
        {
          "output_type": "execute_result",
          "data": {
            "text/plain": [
              "LinearRegression()"
            ],
            "text/html": [
              "<style>#sk-container-id-2 {color: black;background-color: white;}#sk-container-id-2 pre{padding: 0;}#sk-container-id-2 div.sk-toggleable {background-color: white;}#sk-container-id-2 label.sk-toggleable__label {cursor: pointer;display: block;width: 100%;margin-bottom: 0;padding: 0.3em;box-sizing: border-box;text-align: center;}#sk-container-id-2 label.sk-toggleable__label-arrow:before {content: \"▸\";float: left;margin-right: 0.25em;color: #696969;}#sk-container-id-2 label.sk-toggleable__label-arrow:hover:before {color: black;}#sk-container-id-2 div.sk-estimator:hover label.sk-toggleable__label-arrow:before {color: black;}#sk-container-id-2 div.sk-toggleable__content {max-height: 0;max-width: 0;overflow: hidden;text-align: left;background-color: #f0f8ff;}#sk-container-id-2 div.sk-toggleable__content pre {margin: 0.2em;color: black;border-radius: 0.25em;background-color: #f0f8ff;}#sk-container-id-2 input.sk-toggleable__control:checked~div.sk-toggleable__content {max-height: 200px;max-width: 100%;overflow: auto;}#sk-container-id-2 input.sk-toggleable__control:checked~label.sk-toggleable__label-arrow:before {content: \"▾\";}#sk-container-id-2 div.sk-estimator input.sk-toggleable__control:checked~label.sk-toggleable__label {background-color: #d4ebff;}#sk-container-id-2 div.sk-label input.sk-toggleable__control:checked~label.sk-toggleable__label {background-color: #d4ebff;}#sk-container-id-2 input.sk-hidden--visually {border: 0;clip: rect(1px 1px 1px 1px);clip: rect(1px, 1px, 1px, 1px);height: 1px;margin: -1px;overflow: hidden;padding: 0;position: absolute;width: 1px;}#sk-container-id-2 div.sk-estimator {font-family: monospace;background-color: #f0f8ff;border: 1px dotted black;border-radius: 0.25em;box-sizing: border-box;margin-bottom: 0.5em;}#sk-container-id-2 div.sk-estimator:hover {background-color: #d4ebff;}#sk-container-id-2 div.sk-parallel-item::after {content: \"\";width: 100%;border-bottom: 1px solid gray;flex-grow: 1;}#sk-container-id-2 div.sk-label:hover label.sk-toggleable__label {background-color: #d4ebff;}#sk-container-id-2 div.sk-serial::before {content: \"\";position: absolute;border-left: 1px solid gray;box-sizing: border-box;top: 0;bottom: 0;left: 50%;z-index: 0;}#sk-container-id-2 div.sk-serial {display: flex;flex-direction: column;align-items: center;background-color: white;padding-right: 0.2em;padding-left: 0.2em;position: relative;}#sk-container-id-2 div.sk-item {position: relative;z-index: 1;}#sk-container-id-2 div.sk-parallel {display: flex;align-items: stretch;justify-content: center;background-color: white;position: relative;}#sk-container-id-2 div.sk-item::before, #sk-container-id-2 div.sk-parallel-item::before {content: \"\";position: absolute;border-left: 1px solid gray;box-sizing: border-box;top: 0;bottom: 0;left: 50%;z-index: -1;}#sk-container-id-2 div.sk-parallel-item {display: flex;flex-direction: column;z-index: 1;position: relative;background-color: white;}#sk-container-id-2 div.sk-parallel-item:first-child::after {align-self: flex-end;width: 50%;}#sk-container-id-2 div.sk-parallel-item:last-child::after {align-self: flex-start;width: 50%;}#sk-container-id-2 div.sk-parallel-item:only-child::after {width: 0;}#sk-container-id-2 div.sk-dashed-wrapped {border: 1px dashed gray;margin: 0 0.4em 0.5em 0.4em;box-sizing: border-box;padding-bottom: 0.4em;background-color: white;}#sk-container-id-2 div.sk-label label {font-family: monospace;font-weight: bold;display: inline-block;line-height: 1.2em;}#sk-container-id-2 div.sk-label-container {text-align: center;}#sk-container-id-2 div.sk-container {/* jupyter's `normalize.less` sets `[hidden] { display: none; }` but bootstrap.min.css set `[hidden] { display: none !important; }` so we also need the `!important` here to be able to override the default hidden behavior on the sphinx rendered scikit-learn.org. See: https://github.com/scikit-learn/scikit-learn/issues/21755 */display: inline-block !important;position: relative;}#sk-container-id-2 div.sk-text-repr-fallback {display: none;}</style><div id=\"sk-container-id-2\" class=\"sk-top-container\"><div class=\"sk-text-repr-fallback\"><pre>LinearRegression()</pre><b>In a Jupyter environment, please rerun this cell to show the HTML representation or trust the notebook. <br />On GitHub, the HTML representation is unable to render, please try loading this page with nbviewer.org.</b></div><div class=\"sk-container\" hidden><div class=\"sk-item\"><div class=\"sk-estimator sk-toggleable\"><input class=\"sk-toggleable__control sk-hidden--visually\" id=\"sk-estimator-id-2\" type=\"checkbox\" checked><label for=\"sk-estimator-id-2\" class=\"sk-toggleable__label sk-toggleable__label-arrow\">LinearRegression</label><div class=\"sk-toggleable__content\"><pre>LinearRegression()</pre></div></div></div></div></div>"
            ]
          },
          "metadata": {},
          "execution_count": 29
        }
      ]
    },
    {
      "cell_type": "markdown",
      "source": [
        "**Predicción Resultados**"
      ],
      "metadata": {
        "id": "oxSMpghwzscT"
      }
    },
    {
      "cell_type": "code",
      "source": [
        "y_pred = regressor.predict(x_test_norm)"
      ],
      "metadata": {
        "id": "wV0XpM_Xk347"
      },
      "execution_count": 30,
      "outputs": []
    },
    {
      "cell_type": "code",
      "source": [
        "print('ENERGY EFFICIENCY DATASET - Y PREDICTIONS: \\n', y_pred)"
      ],
      "metadata": {
        "id": "br7-6PFZ0FRn",
        "colab": {
          "base_uri": "https://localhost:8080/"
        },
        "outputId": "35781b6d-6bbd-47e5-e5ae-5564447233ce"
      },
      "execution_count": 31,
      "outputs": [
        {
          "output_type": "stream",
          "name": "stdout",
          "text": [
            "ENERGY EFFICIENCY DATASET - Y PREDICTIONS: \n",
            " [14.79808809 10.9494214  32.26726391 19.50789112 32.0127629  32.5083738\n",
            " 29.01724894 28.21004879 27.71711611 22.77830985  9.14832123 35.80310793\n",
            " 11.97320466 36.80793223 35.18694208 28.89257096 11.23380564 32.63160697\n",
            " 12.6652063  12.68416525 11.71725885 31.81369394 11.48975146 41.02629842\n",
            "  8.6743475  14.55162175 11.80257412 13.90701747 11.61298463 35.03527049\n",
            " 11.32860039 13.38564637 43.47200287 13.46148217 28.63806995 34.28103555\n",
            " 13.32876953 35.09627037 14.39047068 13.99233275 11.07265457 34.30535094\n",
            " 14.39047068 24.48461528 25.32828851 25.07378751 11.25276459 12.46613734\n",
            " 31.20968579 28.83569411 32.58153138 11.61298463 32.36618169 14.80756756\n",
            " 35.35221618 11.07265457 20.62791393 29.20539362 34.7698452  14.10608644\n",
            " 15.24362339 12.219671   32.50569558 11.09161352 13.11074161 11.82153307\n",
            " 43.02646756 11.87840991 29.82155947 34.40014569 31.48191233 11.15796985\n",
            " 22.92998144 14.06816854 16.55179088 27.77399296 31.6430634  40.90306526\n",
            " 31.57670707 14.29567593 38.63211439 28.60283028 11.09161352 11.93528676\n",
            " 30.2955332  24.77847899 24.94107486 28.76933779 11.70777937 14.19140171\n",
            " 14.19140171 29.1011194  12.77896    25.47192544 37.57989271 14.39047068\n",
            " 27.66971874 13.67003061  9.59385654 35.42805198 32.72227869 26.63645601\n",
            " 21.7166087  32.19555114 10.88306508 26.28571545 36.0021769  13.38564637\n",
            " 12.7031242  20.62791393 17.82204048 32.21451009 30.04906686 16.37168087\n",
            " 12.24810942 16.37168087 12.1817531  40.34377625 25.35672694 37.40926216\n",
            " 31.5035495  12.47561681 12.72208315 33.20985492 12.05851993 37.86427694\n",
            " 14.10608644 28.94141314 12.22915047 27.59388294 32.00596165 25.40556912\n",
            " 39.13040351 11.15796985 34.35687135  9.67917181 26.39946914 25.50036387\n",
            " 32.65056592 12.75052158 18.06850682 19.62314065 27.90134916 11.16744932\n",
            " 38.95977297 13.25293373 31.29500106 35.58920304 12.22915047 12.69364473\n",
            " 28.84661839 12.30498627 12.06799941 12.60832946]\n"
          ]
        }
      ]
    },
    {
      "cell_type": "markdown",
      "source": [
        "**Evaluación Modelo**"
      ],
      "metadata": {
        "id": "pFBRmeS30Ww6"
      }
    },
    {
      "cell_type": "code",
      "source": [
        "from sklearn.metrics import mean_squared_error"
      ],
      "metadata": {
        "id": "ep0ewgka0dIS"
      },
      "execution_count": 32,
      "outputs": []
    },
    {
      "cell_type": "markdown",
      "source": [
        "Mean Squared Error (Ver referencia: [mean_squared_error](https://scikit-learn.org/stable/modules/generated/sklearn.metrics.mean_squared_error.html))"
      ],
      "metadata": {
        "id": "bzRDEuw-zDuL"
      }
    },
    {
      "cell_type": "code",
      "source": [
        "print('ENERGY EFFICIENCY DATASET - MEAN SQUARED ERROR: ', mean_squared_error(y_test, y_pred))"
      ],
      "metadata": {
        "id": "JhTbrMB6kv7i",
        "colab": {
          "base_uri": "https://localhost:8080/"
        },
        "outputId": "78e723ec-9fe1-463b-c45b-89750ad87776"
      },
      "execution_count": 33,
      "outputs": [
        {
          "output_type": "stream",
          "name": "stdout",
          "text": [
            "ENERGY EFFICIENCY DATASET - MEAN SQUARED ERROR:  5.760291465213852\n"
          ]
        }
      ]
    },
    {
      "cell_type": "markdown",
      "source": [
        "Coeficientes Regressor (Ver referencia: [regressor.coef_ property](https://scikit-learn.org/stable/tutorial/statistical_inference/supervised_learning.html#linear-regression))"
      ],
      "metadata": {
        "id": "iIsQtPQN1aSh"
      }
    },
    {
      "cell_type": "code",
      "source": [
        "regressor.coef_"
      ],
      "metadata": {
        "id": "L6btZNxym7YA",
        "colab": {
          "base_uri": "https://localhost:8080/"
        },
        "outputId": "24147432-0294-4849-be0a-22516e1c8861"
      },
      "execution_count": 34,
      "outputs": [
        {
          "output_type": "execute_result",
          "data": {
            "text/plain": [
              "array([ 8.96501581, -1.1739696 , -0.27706074])"
            ]
          },
          "metadata": {},
          "execution_count": 34
        }
      ]
    },
    {
      "cell_type": "markdown",
      "source": [
        "Score de Evaluación"
      ],
      "metadata": {
        "id": "ca65Mxeg1kVc"
      }
    },
    {
      "cell_type": "code",
      "source": [
        "regressor.score(x_test_norm, y_test)"
      ],
      "metadata": {
        "id": "nZQ4HH0uZYKu",
        "colab": {
          "base_uri": "https://localhost:8080/"
        },
        "outputId": "352a4977-e636-4960-8cf9-a8001e11e98d"
      },
      "execution_count": 36,
      "outputs": [
        {
          "output_type": "execute_result",
          "data": {
            "text/plain": [
              "0.9478358601264631"
            ]
          },
          "metadata": {},
          "execution_count": 36
        }
      ]
    },
    {
      "cell_type": "markdown",
      "source": [
        "Ver ejemplo para balancear dataset"
      ],
      "metadata": {
        "id": "Pzcc3bwy9lD0"
      }
    },
    {
      "cell_type": "code",
      "source": [
        "from imblearn.over_sampling import RandomOverSampler\n",
        "from collections import Counter\n",
        "over_sampler = RandomOverSampler(random_state=42)\n",
        "x_res_over_sampler, y_res_over_sampler = over_sampler.fit_resample(x_train, y_train)\n",
        "print(f\"Training target statistics: {Counter(y_res_over_sampler)}\")\n",
        "print(f\"Testing target statistics: {Counter(y_test)}\")\n",
        "classes = y_res_over_sampler\n",
        "unique, counts = np.unique(classes, return_counts=True)\n",
        "plt.bar(unique,counts)\n",
        "plt.title('Class Frequency')\n",
        "plt.xlabel('Class')\n",
        "plt.ylabel('Frequency')\n",
        "plt.show()\n",
        "from imblearn.under_sampling import RandomUnderSampler\n",
        "under_sampler = RandomUnderSampler(random_state=42)\n",
        "x_res_under_sampler, y_res_under_sampler = under_sampler.fit_resample(x_train, y_train)\n",
        "print(f\"Training target statistics: {Counter(y_res)}\")\n",
        "print(f\"Testing target statistics: {Counter(y_test)}\")\n",
        "classes = y_res_under_sampler\n",
        "unique, counts = np.unique(classes, return_counts=True)\n",
        "plt.bar(unique,counts)\n",
        "plt.title('Class Frequency')\n",
        "plt.xlabel('Class')\n",
        "plt.ylabel('Frequency')\n",
        "plt.show()"
      ],
      "metadata": {
        "id": "6JVIfoSU9heY"
      },
      "execution_count": null,
      "outputs": []
    }
  ]
}