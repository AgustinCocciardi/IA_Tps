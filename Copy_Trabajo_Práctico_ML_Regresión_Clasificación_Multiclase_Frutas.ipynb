{
  "cells": [
    {
      "cell_type": "markdown",
      "metadata": {
        "id": "view-in-github",
        "colab_type": "text"
      },
      "source": [
        "<a href=\"https://colab.research.google.com/github/AgustinCocciardi/IA_Tps/blob/main/Copy_Trabajo_Pr%C3%A1ctico_ML_Regresi%C3%B3n_Clasificaci%C3%B3n_Multiclase_Frutas.ipynb\" target=\"_parent\"><img src=\"https://colab.research.google.com/assets/colab-badge.svg\" alt=\"Open In Colab\"/></a>"
      ]
    },
    {
      "cell_type": "markdown",
      "metadata": {
        "id": "B8Od8ogkXEGV"
      },
      "source": [
        "# Trabajo Práctico ML - Regresión Logística - Clasificación Multiclase - Frutas\n",
        "---\n",
        "\n"
      ]
    },
    {
      "cell_type": "markdown",
      "metadata": {
        "id": "H0Vhq9JzXQsS"
      },
      "source": [
        "Este dataset lo obtuvimos del siguiente sitio: https://www.muratkoklu.com/datasets/\n",
        "\n",
        "Clasificación de frutos de dátiles en variedades genéticas.\n",
        "En todo el mundo se cultiva una gran cantidad de frutas, cada una de las cuales tiene varios tipos. Los factores que determinan el tipo de fruto son las características de la apariencia externa como el color, la longitud, el diámetro y la forma. La apariencia externa de los frutos es un determinante importante del tipo de fruto. Determinar la variedad de frutas observando su apariencia externa puede requerir experiencia, lo que lleva mucho tiempo y requiere un gran esfuerzo. El objetivo de este estudio es clasificar los tipos de dátiles, es decir, Barhee, Deglet Nour, Sukkary, Rotab Mozafati, Ruthana, Safawi y Sagai, utilizando tres métodos diferentes de aprendizaje automático. Se extrajeron un total de 34 características, incluidas características morfológicas, forma y color."
      ]
    },
    {
      "cell_type": "markdown",
      "metadata": {
        "id": "_0ku4_uKYse7"
      },
      "source": [
        "# Contenido Teórico y Práctico para Desarrollo del Trabajo Práctico"
      ]
    },
    {
      "cell_type": "markdown",
      "metadata": {
        "id": "LbNpFlX1r91H"
      },
      "source": [
        "**Importación Librerías**"
      ]
    },
    {
      "cell_type": "code",
      "execution_count": null,
      "metadata": {
        "id": "0NCr9Yt2TOTH"
      },
      "outputs": [],
      "source": [
        "import numpy as np\n",
        "import pandas as pd\n",
        "import seaborn as sns\n",
        "import matplotlib.pyplot as plt\n",
        "from sklearn import metrics\n",
        "from sklearn.linear_model import LogisticRegression\n",
        "from sklearn.model_selection import train_test_split\n",
        "\n",
        "# LINK SKLEARN LOGISTIC REGRESSION: https://scikit-learn.org/stable/modules/generated/sklearn.linear_model.LogisticRegression.html"
      ]
    },
    {
      "cell_type": "markdown",
      "metadata": {
        "id": "uUwe2HCrsKGO"
      },
      "source": [
        "**Carga Dataset**"
      ]
    },
    {
      "cell_type": "code",
      "execution_count": null,
      "metadata": {
        "id": "6bBoLdX-mdBT"
      },
      "outputs": [],
      "source": [
        "dataset = pd.read_csv('/content/04_Fruit_Datasets.csv')"
      ]
    },
    {
      "cell_type": "markdown",
      "metadata": {
        "id": "dO1Cx1M1sdpH"
      },
      "source": [
        "**Análisis Dataset**"
      ]
    },
    {
      "cell_type": "code",
      "execution_count": null,
      "metadata": {
        "id": "Ut6OInq0Tth_"
      },
      "outputs": [],
      "source": [
        "print('FRUITS DATASET - HEAD: \\n', dataset.head(5))"
      ]
    },
    {
      "cell_type": "code",
      "execution_count": null,
      "metadata": {
        "id": "f8m4ashrscgz",
        "outputId": "dcf227e2-2fc6-4a6b-92ba-d645546b3704",
        "colab": {
          "base_uri": "https://localhost:8080/"
        }
      },
      "outputs": [
        {
          "output_type": "stream",
          "name": "stdout",
          "text": [
            "FRUITS DATASET - SHAPE:  (898, 35)\n"
          ]
        }
      ],
      "source": [
        "print('FRUITS DATASET - SHAPE: ', dataset.shape)"
      ]
    },
    {
      "cell_type": "code",
      "execution_count": null,
      "metadata": {
        "id": "NY4stKwVso12"
      },
      "outputs": [],
      "source": [
        "print('FRUITS DATASET - INFO: \\n', dataset.info())"
      ]
    },
    {
      "cell_type": "code",
      "execution_count": null,
      "metadata": {
        "id": "kbVdzkujsrMY"
      },
      "outputs": [],
      "source": [
        "print('FRUITS DATASET - STATISTICS: \\n', dataset.describe())"
      ]
    },
    {
      "cell_type": "code",
      "execution_count": null,
      "metadata": {
        "id": "SIcocrmBprhn"
      },
      "outputs": [],
      "source": [
        "print('FRUITS DATASET - CANTIDAD DE INSTANCIAS POR CLASE: \\n', dataset.Class.value_counts())"
      ]
    },
    {
      "cell_type": "markdown",
      "source": [
        "**Preprocesamiento de Datos**"
      ],
      "metadata": {
        "id": "8j6Atl-Ij5ou"
      }
    },
    {
      "cell_type": "code",
      "execution_count": null,
      "metadata": {
        "id": "XkP0e36-pRbz"
      },
      "outputs": [],
      "source": [
        "# Numerizamos valores en cadena de texto a valor numérico.\n",
        "# Acomodamos valores de features para facilitar su operatoria.\n",
        "classes = {'BERHI': 0, 'IRAQI': 1, 'SOGAY': 2, 'DEGLET': 3, 'ROTANA': 4, 'SAFAVI': 5, 'DOKOL': 6}\n",
        "\n",
        "# Reemplazamos descripciones de feature por su correspondiente valor numérico.\n",
        "dataset.Class = [classes[item] for item in dataset.Class]\n",
        "print('FRUITS DATASET - CLASS FEATURE NUMERIZED: \\n', dataset)"
      ]
    },
    {
      "cell_type": "code",
      "execution_count": null,
      "metadata": {
        "id": "FMzW9ct6qYYA"
      },
      "outputs": [],
      "source": [
        "print('FRUITS DATASET - CANTIDAD DE INSTANCIAS POR CLASE: \\n', dataset.Class.value_counts())"
      ]
    },
    {
      "cell_type": "code",
      "source": [
        "classes = dataset.Class.values\n",
        "unique, counts = np.unique(classes, return_counts=True)\n",
        "\n",
        "plt.bar(unique,counts)\n",
        "plt.title('Class Frequency')\n",
        "plt.xlabel('Class')\n",
        "plt.ylabel('Frequency')\n",
        "plt.show()"
      ],
      "metadata": {
        "id": "5FG2tSxfxyPN"
      },
      "execution_count": null,
      "outputs": []
    },
    {
      "cell_type": "markdown",
      "metadata": {
        "id": "WnFUvM0as4a1"
      },
      "source": [
        "**Análisis Datos**"
      ]
    },
    {
      "cell_type": "markdown",
      "metadata": {
        "id": "4tEpEVHSQ027"
      },
      "source": [
        "Coeficientes Correlación (Ver referencia: [correlation matrix](https://www.geeksforgeeks.org/create-a-correlation-matrix-using-python/))\n",
        "Un coeficiente de correlación (normalmente denominado r) es un número único que describe el alcance de la relación lineal entre dos variables. Un valor de +1 indica una linealidad perfecta (las dos variables se mueven juntas, como \"altura en pulgadas\" y \"altura en centímetros\"). Un valor de r = 0 indica que no hay correlación (las variables son independientes) y r = -1 indica que las variables están inversamente correlacionadas (un aumento en una variable se asocia con una disminución en la otra)."
      ]
    },
    {
      "cell_type": "code",
      "execution_count": null,
      "metadata": {
        "id": "zqDM-UVSQxOO"
      },
      "outputs": [],
      "source": [
        "cormat = dataset.corr()\n",
        "print('FRUITS DATASET - CORRELATION MATRIX: \\n', round(cormat,2))\n",
        "sns.heatmap(cormat);"
      ]
    },
    {
      "cell_type": "code",
      "execution_count": null,
      "metadata": {
        "id": "YRis4zYFr1R9"
      },
      "outputs": [],
      "source": [
        "# Como primer análisis, seleccionamos aquellas features que tienen un valor de correlación cercano a 1.\n",
        "sns.pairplot(dataset[[\n",
        " 'AREA',\n",
        " 'PERIMETER',\n",
        " 'MAJOR_AXIS',\n",
        " 'MINOR_AXIS',\n",
        " 'EQDIASQ',\n",
        " 'CONVEX_AREA',\n",
        " 'EXTENT'\n",
        " ]]);"
      ]
    },
    {
      "cell_type": "markdown",
      "metadata": {
        "id": "oERQ9wu_0QYV"
      },
      "source": [
        "Otra técnica utilizada para identificar relación entre features para seleccionar las más relevantes podemos investigar [mutual_info de scikit learn](https://scikit-learn.org/stable/modules/generated/sklearn.feature_selection.mutual_info_regression.html#sklearn.feature_selection.mutual_info_regression) y [ejemplo](https://guhanesvar.medium.com/feature-selection-based-on-mutual-information-gain-for-classification-and-regression-d0f86ea5262a)"
      ]
    },
    {
      "cell_type": "code",
      "execution_count": null,
      "metadata": {
        "id": "tQkP29Q81WKv"
      },
      "outputs": [],
      "source": [
        "x_features = dataset.drop(labels=['Class'], axis=1)\n",
        "x_features"
      ]
    },
    {
      "cell_type": "code",
      "execution_count": null,
      "metadata": {
        "id": "VEbLOjuq1WKv"
      },
      "outputs": [],
      "source": [
        "y_features = dataset['Class']\n",
        "y_features"
      ]
    },
    {
      "cell_type": "code",
      "execution_count": null,
      "metadata": {
        "id": "P0TI6SLO1WKw"
      },
      "outputs": [],
      "source": [
        "x_train_mutual_info, x_test_mutual_info, y_train_mutual_info, y_test_mutual_info = train_test_split(x_features, y_features, test_size=0.2, random_state=0, shuffle=True)"
      ]
    },
    {
      "cell_type": "code",
      "execution_count": null,
      "metadata": {
        "id": "jKfgQi301WKw"
      },
      "outputs": [],
      "source": [
        "from sklearn.feature_selection import mutual_info_regression\n",
        "mutual_info = mutual_info_regression(x_train_mutual_info, y_train_mutual_info)\n",
        "print('FRUITS DATASET - MUTUAL INFO: \\n', mutual_info)"
      ]
    },
    {
      "cell_type": "code",
      "execution_count": null,
      "metadata": {
        "id": "k4Jz_MG-1WKw"
      },
      "outputs": [],
      "source": [
        "mutual_info = pd.Series(mutual_info)\n",
        "mutual_info.index = x_train_mutual_info.columns\n",
        "mutual_info.sort_values(ascending=False)"
      ]
    },
    {
      "cell_type": "code",
      "execution_count": null,
      "metadata": {
        "id": "FZZbFjJh1WKx"
      },
      "outputs": [],
      "source": [
        "mutual_info.sort_values(ascending=False).plot.bar(figsize=(15,5))"
      ]
    },
    {
      "cell_type": "markdown",
      "metadata": {
        "id": "hBw4C6o9t66q"
      },
      "source": [
        "**Determinación Features Cols**"
      ]
    },
    {
      "cell_type": "code",
      "source": [
        "# Determinamos las features que vamos a utilizar para analizar y operar.\n",
        "feature_cols = [\n",
        " 'MINOR_AXIS',\n",
        "'MAJOR_AXIS',\n",
        "'AREA',\n",
        "'PERIMETER',\n",
        "'SHAPEFACTOR_2',\n",
        "'MeanRR',\n",
        "'MeanRG',\n",
        "'MeanRB',\n",
        "'SkewRR',\n",
        "'SkewRG']"
      ],
      "metadata": {
        "id": "MpGFi4ecqT3z"
      },
      "execution_count": null,
      "outputs": []
    },
    {
      "cell_type": "code",
      "source": [
        "cormat = dataset[feature_cols].corr()\n",
        "print('FRUITS DATASET - CORRELATION MATRIX: \\n', round(cormat,2))\n",
        "sns.heatmap(cormat);"
      ],
      "metadata": {
        "id": "Lffcz52qi089"
      },
      "execution_count": null,
      "outputs": []
    },
    {
      "cell_type": "code",
      "execution_count": null,
      "metadata": {
        "id": "CjGzod_nSLx3"
      },
      "outputs": [],
      "source": [
        "# Como primer análisis para mutual_info, seleccionamos aquellas features con un valor mayor 0.75\n",
        "sns.pairplot(dataset[feature_cols]);"
      ]
    },
    {
      "cell_type": "code",
      "execution_count": null,
      "metadata": {
        "id": "HesANPJXmpaH"
      },
      "outputs": [],
      "source": [
        "x = dataset[feature_cols]\n",
        "print('FRUITS DATASET - X: \\n', x)\n",
        "y = dataset.Class\n",
        "print('FRUITS DATASET - Y: \\n', y)"
      ]
    },
    {
      "cell_type": "markdown",
      "source": [
        "**Balanceo de Set de Datos**"
      ],
      "metadata": {
        "id": "qGssIG0BmFD6"
      }
    },
    {
      "cell_type": "code",
      "source": [
        "from imblearn.over_sampling import RandomOverSampler\n",
        "from collections import Counter\n",
        "\n",
        "over_sampler = RandomOverSampler(random_state=42)\n",
        "X_res, y_res = over_sampler.fit_resample(x, y)\n",
        "\n",
        "print(f\"Training target statistics: {Counter(y_res)}\")\n",
        "print(f\"Testing target statistics: {Counter(y_test)}\")"
      ],
      "metadata": {
        "id": "IdejjztvmOu5",
        "outputId": "3fb78427-67e0-485b-e3bf-5d0a5e28989b",
        "colab": {
          "base_uri": "https://localhost:8080/"
        }
      },
      "execution_count": null,
      "outputs": [
        {
          "output_type": "stream",
          "name": "stdout",
          "text": [
            "Training target statistics: Counter({0: 204, 3: 204, 6: 204, 1: 204, 4: 204, 5: 204, 2: 204})\n",
            "Testing target statistics: Counter({0: 60, 4: 45, 1: 40, 6: 38, 2: 36, 5: 35, 3: 32})\n"
          ]
        }
      ]
    },
    {
      "cell_type": "markdown",
      "metadata": {
        "id": "L0SO77ZDuile"
      },
      "source": [
        "**Separación Set de Datos**"
      ]
    },
    {
      "cell_type": "code",
      "execution_count": null,
      "metadata": {
        "id": "iXOgWW4GboFN"
      },
      "outputs": [],
      "source": [
        "set_test_size = 0.2"
      ]
    },
    {
      "cell_type": "code",
      "execution_count": null,
      "metadata": {
        "id": "RV7z6n3onKIH"
      },
      "outputs": [],
      "source": [
        "# Obtenemoslos set de datos de entrenamiento y pruebas.\n",
        "x_train, x_test, y_train, y_test = train_test_split(X_res, y_res, test_size=set_test_size, random_state=0, shuffle=True)"
      ]
    },
    {
      "cell_type": "code",
      "execution_count": null,
      "metadata": {
        "id": "5CBSyPUWXyxE"
      },
      "outputs": [],
      "source": [
        "x_train = x_train.values"
      ]
    },
    {
      "cell_type": "code",
      "execution_count": null,
      "metadata": {
        "id": "-k8NFBkU4vBG"
      },
      "outputs": [],
      "source": [
        "x_train"
      ]
    },
    {
      "cell_type": "code",
      "execution_count": null,
      "metadata": {
        "id": "bYateBV1hxSw"
      },
      "outputs": [],
      "source": [
        "y_train = y_train.values"
      ]
    },
    {
      "cell_type": "code",
      "source": [
        "y_train"
      ],
      "metadata": {
        "id": "ufja7l30sr9K",
        "outputId": "2282b6ce-5abf-4c97-8008-b29ef9b6038c",
        "colab": {
          "base_uri": "https://localhost:8080/"
        }
      },
      "execution_count": null,
      "outputs": [
        {
          "output_type": "execute_result",
          "data": {
            "text/plain": [
              "array([0, 3, 6, ..., 2, 4, 5])"
            ]
          },
          "metadata": {},
          "execution_count": 405
        }
      ]
    },
    {
      "cell_type": "code",
      "execution_count": null,
      "metadata": {
        "id": "TaKpTTmfh0GH"
      },
      "outputs": [],
      "source": [
        "x_test = x_test.values"
      ]
    },
    {
      "cell_type": "code",
      "execution_count": null,
      "metadata": {
        "id": "9yH-8IY945YD"
      },
      "outputs": [],
      "source": [
        "x_test"
      ]
    },
    {
      "cell_type": "code",
      "execution_count": null,
      "metadata": {
        "id": "ov5xjWUsh2z0"
      },
      "outputs": [],
      "source": [
        "y_test = y_test.values"
      ]
    },
    {
      "cell_type": "code",
      "source": [
        "y_test"
      ],
      "metadata": {
        "id": "EZS1wdgxsxer"
      },
      "execution_count": null,
      "outputs": []
    },
    {
      "cell_type": "markdown",
      "source": [
        "**Normalizacion Modelo**"
      ],
      "metadata": {
        "id": "BaqsqEpOx1RU"
      }
    },
    {
      "cell_type": "code",
      "source": [
        "data = pd.DataFrame(x_train, columns=feature_cols)"
      ],
      "metadata": {
        "id": "Jh6Z7X_Ux4lH"
      },
      "execution_count": null,
      "outputs": []
    },
    {
      "cell_type": "code",
      "source": [
        "z_scores = (data - data.mean()) / data.std()\n",
        "z_scores"
      ],
      "metadata": {
        "id": "x6TdCpQayJas"
      },
      "execution_count": null,
      "outputs": []
    },
    {
      "cell_type": "code",
      "source": [
        "nuevo_x_train = z_scores.values\n",
        "nuevo_x_train"
      ],
      "metadata": {
        "id": "UvYzK2i5yV-L"
      },
      "execution_count": null,
      "outputs": []
    },
    {
      "cell_type": "code",
      "source": [
        "data = pd.DataFrame(x_test, columns=feature_cols)"
      ],
      "metadata": {
        "id": "hK3y-HFYyooD"
      },
      "execution_count": null,
      "outputs": []
    },
    {
      "cell_type": "code",
      "source": [
        "z_scores = (data - data.mean()) / data.std()\n",
        "z_scores"
      ],
      "metadata": {
        "id": "m6ODZm6HyqII"
      },
      "execution_count": null,
      "outputs": []
    },
    {
      "cell_type": "code",
      "source": [
        "nuevo_x_test = z_scores.values\n",
        "nuevo_x_test"
      ],
      "metadata": {
        "id": "7EqNzqQByt9d"
      },
      "execution_count": null,
      "outputs": []
    },
    {
      "cell_type": "markdown",
      "metadata": {
        "id": "42oN4FXYznYS"
      },
      "source": [
        "**Definición Modelo**"
      ]
    },
    {
      "cell_type": "code",
      "execution_count": null,
      "metadata": {
        "id": "MNd1AViXYWCA"
      },
      "outputs": [],
      "source": [
        "regressor = LogisticRegression(max_iter=8000)"
      ]
    },
    {
      "cell_type": "markdown",
      "metadata": {
        "id": "Hjim-shYzqDo"
      },
      "source": [
        "**Entrenamiento Modelo**"
      ]
    },
    {
      "cell_type": "code",
      "execution_count": null,
      "metadata": {
        "id": "xevwore9YbH0"
      },
      "outputs": [],
      "source": [
        "regressor.fit(nuevo_x_train, y_train)"
      ]
    },
    {
      "cell_type": "markdown",
      "metadata": {
        "id": "oxSMpghwzscT"
      },
      "source": [
        "**Predicción Resultados**"
      ]
    },
    {
      "cell_type": "code",
      "execution_count": null,
      "metadata": {
        "id": "wV0XpM_Xk347"
      },
      "outputs": [],
      "source": [
        "y_pred = regressor.predict(nuevo_x_test)"
      ]
    },
    {
      "cell_type": "code",
      "execution_count": null,
      "metadata": {
        "id": "vzoq5oQLns5q"
      },
      "outputs": [],
      "source": [
        "print('FRUITS DATASET - Y PREDICTIONS: \\n', y_pred)"
      ]
    },
    {
      "cell_type": "markdown",
      "metadata": {
        "id": "pFBRmeS30Ww6"
      },
      "source": [
        "**Evaluación Modelo**"
      ]
    },
    {
      "cell_type": "code",
      "execution_count": null,
      "metadata": {
        "id": "YxKMasscnuw-"
      },
      "outputs": [],
      "source": [
        "cnf_matrix = metrics.confusion_matrix(y_test, y_pred)\n",
        "print('FRUITS DATASET - CONFUSION MATRIX: \\n', cnf_matrix)"
      ]
    },
    {
      "cell_type": "code",
      "execution_count": null,
      "metadata": {
        "id": "Zg6k1OU2oDSU"
      },
      "outputs": [],
      "source": [
        "# Visualizamos matriz de confusión.\n",
        "class_names = [0, 1, 2, 3, 4, 5, 6]\n",
        "fig, ax = plt.subplots()\n",
        "tick_marks = np.arange(len(class_names))\n",
        "plt.xticks(tick_marks, class_names)\n",
        "plt.yticks(tick_marks, class_names)\n",
        "\n",
        "sns.heatmap(pd.DataFrame(cnf_matrix), annot=True, cmap='Blues_r', fmt='g')\n",
        "ax.xaxis.set_label_position('top')\n",
        "plt.tight_layout()\n",
        "plt.title('Confusion Matrix', y=1.1)\n",
        "plt.ylabel('Current Label')\n",
        "plt.xlabel('Predicted Label')"
      ]
    },
    {
      "cell_type": "code",
      "execution_count": null,
      "metadata": {
        "id": "_JEXpt5xb7GI"
      },
      "outputs": [],
      "source": [
        "# Ejecutamos Reporte de Clasificación.\n",
        "from sklearn.metrics import classification_report\n",
        "\n",
        "print('FRUITS DATASET - CLASSIFICATION REPORT: \\n', classification_report(y_test, y_pred))"
      ]
    },
    {
      "cell_type": "code",
      "execution_count": null,
      "metadata": {
        "id": "4WGMbslhpvSu"
      },
      "outputs": [],
      "source": [
        "# Evaluamos Score.\n",
        "print('FRUITS DATASET - ACCURACY SCORE BY METRICS: ', metrics.accuracy_score(y_test, y_pred))"
      ]
    },
    {
      "cell_type": "code",
      "execution_count": null,
      "metadata": {
        "id": "nZQ4HH0uZYKu",
        "outputId": "f7b4e333-c137-4143-a2bf-d5ae8d48fd8b",
        "colab": {
          "base_uri": "https://localhost:8080/"
        }
      },
      "outputs": [
        {
          "output_type": "stream",
          "name": "stdout",
          "text": [
            "FRUITS DATASET - SCORE BY REGRESSOR SCORE:  0.8356643356643356\n"
          ]
        }
      ],
      "source": [
        "print('FRUITS DATASET - SCORE BY REGRESSOR SCORE: ', regressor.score(nuevo_x_test, y_test))"
      ]
    }
  ],
  "metadata": {
    "accelerator": "GPU",
    "colab": {
      "provenance": [],
      "collapsed_sections": [
        "aPzQKHuWAb2s"
      ],
      "include_colab_link": true
    },
    "gpuClass": "standard",
    "kernelspec": {
      "display_name": "Python 3",
      "name": "python3"
    },
    "language_info": {
      "name": "python"
    }
  },
  "nbformat": 4,
  "nbformat_minor": 0
}