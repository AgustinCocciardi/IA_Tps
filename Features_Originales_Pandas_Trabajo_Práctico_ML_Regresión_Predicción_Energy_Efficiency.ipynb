{
  "nbformat": 4,
  "nbformat_minor": 0,
  "metadata": {
    "colab": {
      "provenance": [],
      "collapsed_sections": [
        "B8Od8ogkXEGV"
      ],
      "include_colab_link": true
    },
    "kernelspec": {
      "name": "python3",
      "display_name": "Python 3"
    },
    "language_info": {
      "name": "python"
    },
    "accelerator": "GPU"
  },
  "cells": [
    {
      "cell_type": "markdown",
      "metadata": {
        "id": "view-in-github",
        "colab_type": "text"
      },
      "source": [
        "<a href=\"https://colab.research.google.com/github/AgustinCocciardi/IA_Tps/blob/main/Features_Originales_Pandas_Trabajo_Pr%C3%A1ctico_ML_Regresi%C3%B3n_Predicci%C3%B3n_Energy_Efficiency.ipynb\" target=\"_parent\"><img src=\"https://colab.research.google.com/assets/colab-badge.svg\" alt=\"Open In Colab\"/></a>"
      ]
    },
    {
      "cell_type": "markdown",
      "source": [
        "# Trabajo Práctico ML - Regresión Lineal - Predicción - Eficiencia Energética\n",
        "\n",
        "---\n",
        "\n"
      ],
      "metadata": {
        "id": "B8Od8ogkXEGV"
      }
    },
    {
      "cell_type": "markdown",
      "source": [
        "Este dataset lo obtuvimos del repositorio de aprendizaje automático de UCI.\n",
        "https://archive.ics.uci.edu/ml/datasets/energy+efficiency\n",
        "\n",
        "Este estudio analizó la evaluación de los requisitos de carga de calefacción y carga de refrigeración de los edificios (es decir, la eficiencia energética) en función de los parámetros del edificio.\n",
        "\n",
        "Realizamos análisis energéticos utilizando 12 formas de edificios diferentes. Los edificios se diferencian en cuanto a la superficie acristalada, la distribución de la superficie acristalada y la orientación, entre otros parámetros.\n",
        "\n",
        "Features:\n",
        "- Relative_Compactness\n",
        "- Surface_Area\n",
        "- Wall_Area\n",
        "- Roof_Area\n",
        "- Overall_Height\n",
        "- Orientation\n",
        "- Glazing_Area\n",
        "- Glazing_Area_Distribution\n",
        "\n",
        "Predict:\n",
        "Heating_Load\n",
        "Cooling_Load"
      ],
      "metadata": {
        "id": "H0Vhq9JzXQsS"
      }
    },
    {
      "cell_type": "markdown",
      "source": [
        "# Contenido Teórico y Práctico para Desarrollo del Trabajo Práctico"
      ],
      "metadata": {
        "id": "_0ku4_uKYse7"
      }
    },
    {
      "cell_type": "markdown",
      "source": [
        "**Importación Librerías**"
      ],
      "metadata": {
        "id": "LbNpFlX1r91H"
      }
    },
    {
      "cell_type": "code",
      "source": [
        "import numpy as np\n",
        "import pandas as pd\n",
        "import seaborn as sns\n",
        "import matplotlib.pyplot as plt\n",
        "from sklearn.linear_model import LinearRegression\n",
        "from sklearn.model_selection import train_test_split\n",
        "\n",
        "# LINK SKLEARN LINEAR REGRESSION: https://scikit-learn.org/stable/search.html?q=linear+regression"
      ],
      "metadata": {
        "id": "0NCr9Yt2TOTH"
      },
      "execution_count": 1,
      "outputs": []
    },
    {
      "cell_type": "markdown",
      "source": [
        "**Carga Dataset**"
      ],
      "metadata": {
        "id": "uUwe2HCrsKGO"
      }
    },
    {
      "cell_type": "code",
      "source": [
        "dataset = pd.read_csv('/content/03_Energy-Efficiency_Dataset.csv')"
      ],
      "metadata": {
        "id": "hPgg0FWsTmci"
      },
      "execution_count": 2,
      "outputs": []
    },
    {
      "cell_type": "markdown",
      "source": [
        "**Análisis Dataset**"
      ],
      "metadata": {
        "id": "dO1Cx1M1sdpH"
      }
    },
    {
      "cell_type": "code",
      "source": [
        "print('ENERGY EFFICIENCY DATASET - HEAD: \\n', dataset.head(5))"
      ],
      "metadata": {
        "id": "Ut6OInq0Tth_",
        "colab": {
          "base_uri": "https://localhost:8080/"
        },
        "outputId": "e5818851-fb42-40fe-ad8b-250285e80313"
      },
      "execution_count": 3,
      "outputs": [
        {
          "output_type": "stream",
          "name": "stdout",
          "text": [
            "ENERGY EFFICIENCY DATASET - HEAD: \n",
            "    Relative_Compactness  Surface_Area  Wall_Area  Roof_Area  Overall_Height  \\\n",
            "0                  0.98         514.5      294.0     110.25             7.0   \n",
            "1                  0.98         514.5      294.0     110.25             7.0   \n",
            "2                  0.98         514.5      294.0     110.25             7.0   \n",
            "3                  0.98         514.5      294.0     110.25             7.0   \n",
            "4                  0.90         563.5      318.5     122.50             7.0   \n",
            "\n",
            "   Orientation  Glazing_Area  Glazing_Area_Distribution  Heating_Load  \\\n",
            "0            2           0.0                          0         15.55   \n",
            "1            3           0.0                          0         15.55   \n",
            "2            4           0.0                          0         15.55   \n",
            "3            5           0.0                          0         15.55   \n",
            "4            2           0.0                          0         20.84   \n",
            "\n",
            "   Cooling_Load  \n",
            "0         21.33  \n",
            "1         21.33  \n",
            "2         21.33  \n",
            "3         21.33  \n",
            "4         28.28  \n"
          ]
        }
      ]
    },
    {
      "cell_type": "code",
      "source": [
        "print('ENERGY EFFICIENCY DATASET - SHAPE: ', dataset.shape)"
      ],
      "metadata": {
        "id": "f8m4ashrscgz",
        "colab": {
          "base_uri": "https://localhost:8080/"
        },
        "outputId": "501e5fc9-56d3-4f3b-9cac-854cd7c393c9"
      },
      "execution_count": 4,
      "outputs": [
        {
          "output_type": "stream",
          "name": "stdout",
          "text": [
            "ENERGY EFFICIENCY DATASET - SHAPE:  (768, 10)\n"
          ]
        }
      ]
    },
    {
      "cell_type": "code",
      "source": [
        "print('ENERGY EFFICIENCY DATASET - INFO: \\n', dataset.info())"
      ],
      "metadata": {
        "id": "NY4stKwVso12",
        "colab": {
          "base_uri": "https://localhost:8080/"
        },
        "outputId": "c982c329-2a6f-4a36-d112-9072ae074d38"
      },
      "execution_count": 5,
      "outputs": [
        {
          "output_type": "stream",
          "name": "stdout",
          "text": [
            "<class 'pandas.core.frame.DataFrame'>\n",
            "RangeIndex: 768 entries, 0 to 767\n",
            "Data columns (total 10 columns):\n",
            " #   Column                     Non-Null Count  Dtype  \n",
            "---  ------                     --------------  -----  \n",
            " 0   Relative_Compactness       768 non-null    float64\n",
            " 1   Surface_Area               768 non-null    float64\n",
            " 2   Wall_Area                  768 non-null    float64\n",
            " 3   Roof_Area                  768 non-null    float64\n",
            " 4   Overall_Height             768 non-null    float64\n",
            " 5   Orientation                768 non-null    int64  \n",
            " 6   Glazing_Area               768 non-null    float64\n",
            " 7   Glazing_Area_Distribution  768 non-null    int64  \n",
            " 8   Heating_Load               768 non-null    float64\n",
            " 9   Cooling_Load               768 non-null    float64\n",
            "dtypes: float64(8), int64(2)\n",
            "memory usage: 60.1 KB\n",
            "ENERGY EFFICIENCY DATASET - INFO: \n",
            " None\n"
          ]
        }
      ]
    },
    {
      "cell_type": "code",
      "source": [
        "print('ENERGY EFFICIENCY DATASET - STATISTICS: \\n', dataset.describe())"
      ],
      "metadata": {
        "id": "kbVdzkujsrMY",
        "colab": {
          "base_uri": "https://localhost:8080/"
        },
        "outputId": "1a73ac42-4999-4b6c-aa51-d09fb5a618ed"
      },
      "execution_count": 6,
      "outputs": [
        {
          "output_type": "stream",
          "name": "stdout",
          "text": [
            "ENERGY EFFICIENCY DATASET - STATISTICS: \n",
            "        Relative_Compactness  Surface_Area   Wall_Area   Roof_Area  \\\n",
            "count            768.000000    768.000000  768.000000  768.000000   \n",
            "mean               0.764167    671.708333  318.500000  176.604167   \n",
            "std                0.105777     88.086116   43.626481   45.165950   \n",
            "min                0.620000    514.500000  245.000000  110.250000   \n",
            "25%                0.682500    606.375000  294.000000  140.875000   \n",
            "50%                0.750000    673.750000  318.500000  183.750000   \n",
            "75%                0.830000    741.125000  343.000000  220.500000   \n",
            "max                0.980000    808.500000  416.500000  220.500000   \n",
            "\n",
            "       Overall_Height  Orientation  Glazing_Area  Glazing_Area_Distribution  \\\n",
            "count       768.00000   768.000000    768.000000                  768.00000   \n",
            "mean          5.25000     3.500000      0.234375                    2.81250   \n",
            "std           1.75114     1.118763      0.133221                    1.55096   \n",
            "min           3.50000     2.000000      0.000000                    0.00000   \n",
            "25%           3.50000     2.750000      0.100000                    1.75000   \n",
            "50%           5.25000     3.500000      0.250000                    3.00000   \n",
            "75%           7.00000     4.250000      0.400000                    4.00000   \n",
            "max           7.00000     5.000000      0.400000                    5.00000   \n",
            "\n",
            "       Heating_Load  Cooling_Load  \n",
            "count    768.000000    768.000000  \n",
            "mean      22.307201     24.587760  \n",
            "std       10.090196      9.513306  \n",
            "min        6.010000     10.900000  \n",
            "25%       12.992500     15.620000  \n",
            "50%       18.950000     22.080000  \n",
            "75%       31.667500     33.132500  \n",
            "max       43.100000     48.030000  \n"
          ]
        }
      ]
    },
    {
      "cell_type": "markdown",
      "source": [
        "**Análisis Datos**"
      ],
      "metadata": {
        "id": "WnFUvM0as4a1"
      }
    },
    {
      "cell_type": "markdown",
      "source": [
        "Coeficientes Correlación (Ver referencia: [correlation matrix](https://www.geeksforgeeks.org/create-a-correlation-matrix-using-python/))\n",
        "Un coeficiente de correlación (normalmente denominado r) es un número único que describe el alcance de la relación lineal entre dos variables. Un valor de +1 indica una linealidad perfecta (las dos variables se mueven juntas, como \"altura en pulgadas\" y \"altura en centímetros\"). Un valor de r = 0 indica que no hay correlación (las variables son independientes) y r = -1 indica que las variables están inversamente correlacionadas (un aumento en una variable se asocia con una disminución en la otra)."
      ],
      "metadata": {
        "id": "4tEpEVHSQ027"
      }
    },
    {
      "cell_type": "code",
      "source": [
        "cormat = dataset.corr()\n",
        "print('ENERGY EFFICIENCY DATASET - CORRELATION MATRIX: \\n', round(cormat,2))\n",
        "sns.heatmap(cormat);"
      ],
      "metadata": {
        "id": "zqDM-UVSQxOO",
        "colab": {
          "base_uri": "https://localhost:8080/",
          "height": 1000
        },
        "outputId": "b2b98357-f4b1-46c0-802b-15e248681174"
      },
      "execution_count": 7,
      "outputs": [
        {
          "output_type": "stream",
          "name": "stdout",
          "text": [
            "ENERGY EFFICIENCY DATASET - CORRELATION MATRIX: \n",
            "                            Relative_Compactness  Surface_Area  Wall_Area  \\\n",
            "Relative_Compactness                       1.00         -0.99      -0.20   \n",
            "Surface_Area                              -0.99          1.00       0.20   \n",
            "Wall_Area                                 -0.20          0.20       1.00   \n",
            "Roof_Area                                 -0.87          0.88      -0.29   \n",
            "Overall_Height                             0.83         -0.86       0.28   \n",
            "Orientation                                0.00         -0.00      -0.00   \n",
            "Glazing_Area                              -0.00          0.00      -0.00   \n",
            "Glazing_Area_Distribution                 -0.00          0.00       0.00   \n",
            "Heating_Load                               0.62         -0.66       0.46   \n",
            "Cooling_Load                               0.63         -0.67       0.43   \n",
            "\n",
            "                           Roof_Area  Overall_Height  Orientation  \\\n",
            "Relative_Compactness           -0.87            0.83         0.00   \n",
            "Surface_Area                    0.88           -0.86        -0.00   \n",
            "Wall_Area                      -0.29            0.28        -0.00   \n",
            "Roof_Area                       1.00           -0.97        -0.00   \n",
            "Overall_Height                 -0.97            1.00         0.00   \n",
            "Orientation                    -0.00            0.00         1.00   \n",
            "Glazing_Area                   -0.00            0.00        -0.00   \n",
            "Glazing_Area_Distribution      -0.00           -0.00        -0.00   \n",
            "Heating_Load                   -0.86            0.89        -0.00   \n",
            "Cooling_Load                   -0.86            0.90         0.01   \n",
            "\n",
            "                           Glazing_Area  Glazing_Area_Distribution  \\\n",
            "Relative_Compactness              -0.00                      -0.00   \n",
            "Surface_Area                       0.00                       0.00   \n",
            "Wall_Area                         -0.00                       0.00   \n",
            "Roof_Area                         -0.00                      -0.00   \n",
            "Overall_Height                     0.00                      -0.00   \n",
            "Orientation                       -0.00                      -0.00   \n",
            "Glazing_Area                       1.00                       0.21   \n",
            "Glazing_Area_Distribution          0.21                       1.00   \n",
            "Heating_Load                       0.27                       0.09   \n",
            "Cooling_Load                       0.21                       0.05   \n",
            "\n",
            "                           Heating_Load  Cooling_Load  \n",
            "Relative_Compactness               0.62          0.63  \n",
            "Surface_Area                      -0.66         -0.67  \n",
            "Wall_Area                          0.46          0.43  \n",
            "Roof_Area                         -0.86         -0.86  \n",
            "Overall_Height                     0.89          0.90  \n",
            "Orientation                       -0.00          0.01  \n",
            "Glazing_Area                       0.27          0.21  \n",
            "Glazing_Area_Distribution          0.09          0.05  \n",
            "Heating_Load                       1.00          0.98  \n",
            "Cooling_Load                       0.98          1.00  \n"
          ]
        },
        {
          "output_type": "display_data",
          "data": {
            "text/plain": [
              "<Figure size 640x480 with 2 Axes>"
            ],
            "image/png": "[encoded data removed]"
          },
          "metadata": {}
        }
      ]
    },
    {
      "cell_type": "markdown",
      "source": [
        "Visualización de Relación Lineal entre Pares de Features"
      ],
      "metadata": {
        "id": "aw2AJ4PKSOr7"
      }
    },
    {
      "cell_type": "code",
      "source": [
        "sns.pairplot(dataset[[\n",
        "'Relative_Compactness',\n",
        "'Surface_Area',\n",
        "'Wall_Area',\n",
        "'Roof_Area',\n",
        "'Overall_Height',\n",
        "'Orientation',\n",
        "'Glazing_Area',\n",
        "'Glazing_Area_Distribution',\n",
        "'Heating_Load',\n",
        "'Cooling_Load',\n",
        " ]]);"
      ],
      "metadata": {
        "id": "CjGzod_nSLx3"
      },
      "execution_count": null,
      "outputs": []
    },
    {
      "cell_type": "markdown",
      "source": [
        "Otra técnica utilizada para identificar relación entre features para seleccionar las más relevantes podemos investigar [mutual_info de scikit learn](https://scikit-learn.org/stable/modules/generated/sklearn.feature_selection.mutual_info_regression.html#sklearn.feature_selection.mutual_info_regression) y [ejemplo](https://guhanesvar.medium.com/feature-selection-based-on-mutual-information-gain-for-classification-and-regression-d0f86ea5262a)"
      ],
      "metadata": {
        "id": "oERQ9wu_0QYV"
      }
    },
    {
      "cell_type": "code",
      "source": [
        "x = dataset.drop(labels=['Heating_Load','Cooling_Load'], axis=1)\n",
        "x"
      ],
      "metadata": {
        "id": "tQkP29Q81WKv",
        "colab": {
          "base_uri": "https://localhost:8080/",
          "height": 424
        },
        "outputId": "ca3b8f3a-2868-4d73-c031-438a60a72c40"
      },
      "execution_count": 8,
      "outputs": [
        {
          "output_type": "execute_result",
          "data": {
            "text/plain": [
              "     Relative_Compactness  Surface_Area  Wall_Area  Roof_Area  Overall_Height  \\\n",
              "0                    0.98         514.5      294.0     110.25             7.0   \n",
              "1                    0.98         514.5      294.0     110.25             7.0   \n",
              "2                    0.98         514.5      294.0     110.25             7.0   \n",
              "3                    0.98         514.5      294.0     110.25             7.0   \n",
              "4                    0.90         563.5      318.5     122.50             7.0   \n",
              "..                    ...           ...        ...        ...             ...   \n",
              "763                  0.64         784.0      343.0     220.50             3.5   \n",
              "764                  0.62         808.5      367.5     220.50             3.5   \n",
              "765                  0.62         808.5      367.5     220.50             3.5   \n",
              "766                  0.62         808.5      367.5     220.50             3.5   \n",
              "767                  0.62         808.5      367.5     220.50             3.5   \n",
              "\n",
              "     Orientation  Glazing_Area  Glazing_Area_Distribution  \n",
              "0              2           0.0                          0  \n",
              "1              3           0.0                          0  \n",
              "2              4           0.0                          0  \n",
              "3              5           0.0                          0  \n",
              "4              2           0.0                          0  \n",
              "..           ...           ...                        ...  \n",
              "763            5           0.4                          5  \n",
              "764            2           0.4                          5  \n",
              "765            3           0.4                          5  \n",
              "766            4           0.4                          5  \n",
              "767            5           0.4                          5  \n",
              "\n",
              "[768 rows x 8 columns]"
            ],
            "text/html": [
              "\n",
              "  <div id=\"df-fccef923-e93a-4c58-aba5-d0edc04fbe7a\" class=\"colab-df-container\">\n",
              "    <div>\n",
              "<style scoped>\n",
              "    .dataframe tbody tr th:only-of-type {\n",
              "        vertical-align: middle;\n",
              "    }\n",
              "\n",
              "    .dataframe tbody tr th {\n",
              "        vertical-align: top;\n",
              "    }\n",
              "\n",
              "    .dataframe thead th {\n",
              "        text-align: right;\n",
              "    }\n",
              "</style>\n",
              "<table border=\"1\" class=\"dataframe\">\n",
              "  <thead>\n",
              "    <tr style=\"text-align: right;\">\n",
              "      <th></th>\n",
              "      <th>Relative_Compactness</th>\n",
              "      <th>Surface_Area</th>\n",
              "      <th>Wall_Area</th>\n",
              "      <th>Roof_Area</th>\n",
              "      <th>Overall_Height</th>\n",
              "      <th>Orientation</th>\n",
              "      <th>Glazing_Area</th>\n",
              "      <th>Glazing_Area_Distribution</th>\n",
              "    </tr>\n",
              "  </thead>\n",
              "  <tbody>\n",
              "    <tr>\n",
              "      <th>0</th>\n",
              "      <td>0.98</td>\n",
              "      <td>514.5</td>\n",
              "      <td>294.0</td>\n",
              "      <td>110.25</td>\n",
              "      <td>7.0</td>\n",
              "      <td>2</td>\n",
              "      <td>0.0</td>\n",
              "      <td>0</td>\n",
              "    </tr>\n",
              "    <tr>\n",
              "      <th>1</th>\n",
              "      <td>0.98</td>\n",
              "      <td>514.5</td>\n",
              "      <td>294.0</td>\n",
              "      <td>110.25</td>\n",
              "      <td>7.0</td>\n",
              "      <td>3</td>\n",
              "      <td>0.0</td>\n",
              "      <td>0</td>\n",
              "    </tr>\n",
              "    <tr>\n",
              "      <th>2</th>\n",
              "      <td>0.98</td>\n",
              "      <td>514.5</td>\n",
              "      <td>294.0</td>\n",
              "      <td>110.25</td>\n",
              "      <td>7.0</td>\n",
              "      <td>4</td>\n",
              "      <td>0.0</td>\n",
              "      <td>0</td>\n",
              "    </tr>\n",
              "    <tr>\n",
              "      <th>3</th>\n",
              "      <td>0.98</td>\n",
              "      <td>514.5</td>\n",
              "      <td>294.0</td>\n",
              "      <td>110.25</td>\n",
              "      <td>7.0</td>\n",
              "      <td>5</td>\n",
              "      <td>0.0</td>\n",
              "      <td>0</td>\n",
              "    </tr>\n",
              "    <tr>\n",
              "      <th>4</th>\n",
              "      <td>0.90</td>\n",
              "      <td>563.5</td>\n",
              "      <td>318.5</td>\n",
              "      <td>122.50</td>\n",
              "      <td>7.0</td>\n",
              "      <td>2</td>\n",
              "      <td>0.0</td>\n",
              "      <td>0</td>\n",
              "    </tr>\n",
              "    <tr>\n",
              "      <th>...</th>\n",
              "      <td>...</td>\n",
              "      <td>...</td>\n",
              "      <td>...</td>\n",
              "      <td>...</td>\n",
              "      <td>...</td>\n",
              "      <td>...</td>\n",
              "      <td>...</td>\n",
              "      <td>...</td>\n",
              "    </tr>\n",
              "    <tr>\n",
              "      <th>763</th>\n",
              "      <td>0.64</td>\n",
              "      <td>784.0</td>\n",
              "      <td>343.0</td>\n",
              "      <td>220.50</td>\n",
              "      <td>3.5</td>\n",
              "      <td>5</td>\n",
              "      <td>0.4</td>\n",
              "      <td>5</td>\n",
              "    </tr>\n",
              "    <tr>\n",
              "      <th>764</th>\n",
              "      <td>0.62</td>\n",
              "      <td>808.5</td>\n",
              "      <td>367.5</td>\n",
              "      <td>220.50</td>\n",
              "      <td>3.5</td>\n",
              "      <td>2</td>\n",
              "      <td>0.4</td>\n",
              "      <td>5</td>\n",
              "    </tr>\n",
              "    <tr>\n",
              "      <th>765</th>\n",
              "      <td>0.62</td>\n",
              "      <td>808.5</td>\n",
              "      <td>367.5</td>\n",
              "      <td>220.50</td>\n",
              "      <td>3.5</td>\n",
              "      <td>3</td>\n",
              "      <td>0.4</td>\n",
              "      <td>5</td>\n",
              "    </tr>\n",
              "    <tr>\n",
              "      <th>766</th>\n",
              "      <td>0.62</td>\n",
              "      <td>808.5</td>\n",
              "      <td>367.5</td>\n",
              "      <td>220.50</td>\n",
              "      <td>3.5</td>\n",
              "      <td>4</td>\n",
              "      <td>0.4</td>\n",
              "      <td>5</td>\n",
              "    </tr>\n",
              "    <tr>\n",
              "      <th>767</th>\n",
              "      <td>0.62</td>\n",
              "      <td>808.5</td>\n",
              "      <td>367.5</td>\n",
              "      <td>220.50</td>\n",
              "      <td>3.5</td>\n",
              "      <td>5</td>\n",
              "      <td>0.4</td>\n",
              "      <td>5</td>\n",
              "    </tr>\n",
              "  </tbody>\n",
              "</table>\n",
              "<p>768 rows × 8 columns</p>\n",
              "</div>\n",
              "    <div class=\"colab-df-buttons\">\n",
              "\n",
              "  <div class=\"colab-df-container\">\n",
              "    <button class=\"colab-df-convert\" onclick=\"convertToInteractive('df-fccef923-e93a-4c58-aba5-d0edc04fbe7a')\"\n",
              "            title=\"Convert this dataframe to an interactive table.\"\n",
              "            style=\"display:none;\">\n",
              "\n",
              "  <svg xmlns=\"http://www.w3.org/2000/svg\" height=\"24px\" viewBox=\"0 -960 960 960\">\n",
              "    <path d=\"M120-120v-720h720v720H120Zm60-500h600v-160H180v160Zm220 220h160v-160H400v160Zm0 220h160v-160H400v160ZM180-400h160v-160H180v160Zm440 0h160v-160H620v160ZM180-180h160v-160H180v160Zm440 0h160v-160H620v160Z\"/>\n",
              "  </svg>\n",
              "    </button>\n",
              "\n",
              "  <style>\n",
              "    .colab-df-container {\n",
              "      display:flex;\n",
              "      gap: 12px;\n",
              "    }\n",
              "\n",
              "    .colab-df-convert {\n",
              "      background-color: #E8F0FE;\n",
              "      border: none;\n",
              "      border-radius: 50%;\n",
              "      cursor: pointer;\n",
              "      display: none;\n",
              "      fill: #1967D2;\n",
              "      height: 32px;\n",
              "      padding: 0 0 0 0;\n",
              "      width: 32px;\n",
              "    }\n",
              "\n",
              "    .colab-df-convert:hover {\n",
              "      background-color: #E2EBFA;\n",
              "      box-shadow: 0px 1px 2px rgba(60, 64, 67, 0.3), 0px 1px 3px 1px rgba(60, 64, 67, 0.15);\n",
              "      fill: #174EA6;\n",
              "    }\n",
              "\n",
              "    .colab-df-buttons div {\n",
              "      margin-bottom: 4px;\n",
              "    }\n",
              "\n",
              "    [theme=dark] .colab-df-convert {\n",
              "      background-color: #3B4455;\n",
              "      fill: #D2E3FC;\n",
              "    }\n",
              "\n",
              "    [theme=dark] .colab-df-convert:hover {\n",
              "      background-color: #434B5C;\n",
              "      box-shadow: 0px 1px 3px 1px rgba(0, 0, 0, 0.15);\n",
              "      filter: drop-shadow(0px 1px 2px rgba(0, 0, 0, 0.3));\n",
              "      fill: #FFFFFF;\n",
              "    }\n",
              "  </style>\n",
              "\n",
              "    <script>\n",
              "      const buttonEl =\n",
              "        document.querySelector('#df-fccef923-e93a-4c58-aba5-d0edc04fbe7a button.colab-df-convert');\n",
              "      buttonEl.style.display =\n",
              "        google.colab.kernel.accessAllowed ? 'block' : 'none';\n",
              "\n",
              "      async function convertToInteractive(key) {\n",
              "        const element = document.querySelector('#df-fccef923-e93a-4c58-aba5-d0edc04fbe7a');\n",
              "        const dataTable =\n",
              "          await google.colab.kernel.invokeFunction('convertToInteractive',\n",
              "                                                    [key], {});\n",
              "        if (!dataTable) return;\n",
              "\n",
              "        const docLinkHtml = 'Like what you see? Visit the ' +\n",
              "          '<a target=\"_blank\" href=https://colab.research.google.com/notebooks/data_table.ipynb>data table notebook</a>'\n",
              "          + ' to learn more about interactive tables.';\n",
              "        element.innerHTML = '';\n",
              "        dataTable['output_type'] = 'display_data';\n",
              "        await google.colab.output.renderOutput(dataTable, element);\n",
              "        const docLink = document.createElement('div');\n",
              "        docLink.innerHTML = docLinkHtml;\n",
              "        element.appendChild(docLink);\n",
              "      }\n",
              "    </script>\n",
              "  </div>\n",
              "\n",
              "\n",
              "<div id=\"df-83af8651-42e4-4307-8adc-d9ee01509b3b\">\n",
              "  <button class=\"colab-df-quickchart\" onclick=\"quickchart('df-83af8651-42e4-4307-8adc-d9ee01509b3b')\"\n",
              "            title=\"Suggest charts.\"\n",
              "            style=\"display:none;\">\n",
              "\n",
              "<svg xmlns=\"http://www.w3.org/2000/svg\" height=\"24px\"viewBox=\"0 0 24 24\"\n",
              "     width=\"24px\">\n",
              "    <g>\n",
              "        <path d=\"M19 3H5c-1.1 0-2 .9-2 2v14c0 1.1.9 2 2 2h14c1.1 0 2-.9 2-2V5c0-1.1-.9-2-2-2zM9 17H7v-7h2v7zm4 0h-2V7h2v10zm4 0h-2v-4h2v4z\"/>\n",
              "    </g>\n",
              "</svg>\n",
              "  </button>\n",
              "\n",
              "<style>\n",
              "  .colab-df-quickchart {\n",
              "      --bg-color: #E8F0FE;\n",
              "      --fill-color: #1967D2;\n",
              "      --hover-bg-color: #E2EBFA;\n",
              "      --hover-fill-color: #174EA6;\n",
              "      --disabled-fill-color: #AAA;\n",
              "      --disabled-bg-color: #DDD;\n",
              "  }\n",
              "\n",
              "  [theme=dark] .colab-df-quickchart {\n",
              "      --bg-color: #3B4455;\n",
              "      --fill-color: #D2E3FC;\n",
              "      --hover-bg-color: #434B5C;\n",
              "      --hover-fill-color: #FFFFFF;\n",
              "      --disabled-bg-color: #3B4455;\n",
              "      --disabled-fill-color: #666;\n",
              "  }\n",
              "\n",
              "  .colab-df-quickchart {\n",
              "    background-color: var(--bg-color);\n",
              "    border: none;\n",
              "    border-radius: 50%;\n",
              "    cursor: pointer;\n",
              "    display: none;\n",
              "    fill: var(--fill-color);\n",
              "    height: 32px;\n",
              "    padding: 0;\n",
              "    width: 32px;\n",
              "  }\n",
              "\n",
              "  .colab-df-quickchart:hover {\n",
              "    background-color: var(--hover-bg-color);\n",
              "    box-shadow: 0 1px 2px rgba(60, 64, 67, 0.3), 0 1px 3px 1px rgba(60, 64, 67, 0.15);\n",
              "    fill: var(--button-hover-fill-color);\n",
              "  }\n",
              "\n",
              "  .colab-df-quickchart-complete:disabled,\n",
              "  .colab-df-quickchart-complete:disabled:hover {\n",
              "    background-color: var(--disabled-bg-color);\n",
              "    fill: var(--disabled-fill-color);\n",
              "    box-shadow: none;\n",
              "  }\n",
              "\n",
              "  .colab-df-spinner {\n",
              "    border: 2px solid var(--fill-color);\n",
              "    border-color: transparent;\n",
              "    border-bottom-color: var(--fill-color);\n",
              "    animation:\n",
              "      spin 1s steps(1) infinite;\n",
              "  }\n",
              "\n",
              "  @keyframes spin {\n",
              "    0% {\n",
              "      border-color: transparent;\n",
              "      border-bottom-color: var(--fill-color);\n",
              "      border-left-color: var(--fill-color);\n",
              "    }\n",
              "    20% {\n",
              "      border-color: transparent;\n",
              "      border-left-color: var(--fill-color);\n",
              "      border-top-color: var(--fill-color);\n",
              "    }\n",
              "    30% {\n",
              "      border-color: transparent;\n",
              "      border-left-color: var(--fill-color);\n",
              "      border-top-color: var(--fill-color);\n",
              "      border-right-color: var(--fill-color);\n",
              "    }\n",
              "    40% {\n",
              "      border-color: transparent;\n",
              "      border-right-color: var(--fill-color);\n",
              "      border-top-color: var(--fill-color);\n",
              "    }\n",
              "    60% {\n",
              "      border-color: transparent;\n",
              "      border-right-color: var(--fill-color);\n",
              "    }\n",
              "    80% {\n",
              "      border-color: transparent;\n",
              "      border-right-color: var(--fill-color);\n",
              "      border-bottom-color: var(--fill-color);\n",
              "    }\n",
              "    90% {\n",
              "      border-color: transparent;\n",
              "      border-bottom-color: var(--fill-color);\n",
              "    }\n",
              "  }\n",
              "</style>\n",
              "\n",
              "  <script>\n",
              "    async function quickchart(key) {\n",
              "      const quickchartButtonEl =\n",
              "        document.querySelector('#' + key + ' button');\n",
              "      quickchartButtonEl.disabled = true;  // To prevent multiple clicks.\n",
              "      quickchartButtonEl.classList.add('colab-df-spinner');\n",
              "      try {\n",
              "        const charts = await google.colab.kernel.invokeFunction(\n",
              "            'suggestCharts', [key], {});\n",
              "      } catch (error) {\n",
              "        console.error('Error during call to suggestCharts:', error);\n",
              "      }\n",
              "      quickchartButtonEl.classList.remove('colab-df-spinner');\n",
              "      quickchartButtonEl.classList.add('colab-df-quickchart-complete');\n",
              "    }\n",
              "    (() => {\n",
              "      let quickchartButtonEl =\n",
              "        document.querySelector('#df-83af8651-42e4-4307-8adc-d9ee01509b3b button');\n",
              "      quickchartButtonEl.style.display =\n",
              "        google.colab.kernel.accessAllowed ? 'block' : 'none';\n",
              "    })();\n",
              "  </script>\n",
              "</div>\n",
              "    </div>\n",
              "  </div>\n"
            ]
          },
          "metadata": {},
          "execution_count": 8
        }
      ]
    },
    {
      "cell_type": "code",
      "source": [
        "y = dataset['Heating_Load']\n",
        "y"
      ],
      "metadata": {
        "id": "VEbLOjuq1WKv",
        "colab": {
          "base_uri": "https://localhost:8080/"
        },
        "outputId": "5e57a7e4-0a32-451b-8dda-f575d2287c44"
      },
      "execution_count": 9,
      "outputs": [
        {
          "output_type": "execute_result",
          "data": {
            "text/plain": [
              "0      15.55\n",
              "1      15.55\n",
              "2      15.55\n",
              "3      15.55\n",
              "4      20.84\n",
              "       ...  \n",
              "763    17.88\n",
              "764    16.54\n",
              "765    16.44\n",
              "766    16.48\n",
              "767    16.64\n",
              "Name: Heating_Load, Length: 768, dtype: float64"
            ]
          },
          "metadata": {},
          "execution_count": 9
        }
      ]
    },
    {
      "cell_type": "code",
      "source": [
        "x_train_features, x_test_features, y_train_features, y_test_features = train_test_split(x, y, test_size=0.2, random_state=0, shuffle=True)"
      ],
      "metadata": {
        "id": "P0TI6SLO1WKw"
      },
      "execution_count": 10,
      "outputs": []
    },
    {
      "cell_type": "code",
      "source": [
        "from sklearn.feature_selection import mutual_info_regression\n",
        "mutual_info = mutual_info_regression(x_train_features, y_train_features)\n",
        "print('ENERGY EFFICIENCY DATASET - FEATURE COLS - MUTUAL INFO: \\n', mutual_info)"
      ],
      "metadata": {
        "id": "jKfgQi301WKw",
        "colab": {
          "base_uri": "https://localhost:8080/"
        },
        "outputId": "bf1c2425-1479-4f7e-ee51-78720071d0d8"
      },
      "execution_count": 11,
      "outputs": [
        {
          "output_type": "stream",
          "name": "stdout",
          "text": [
            "ENERGY EFFICIENCY DATASET - FEATURE COLS - MUTUAL INFO: \n",
            " [1.62668647 1.62995658 1.03809523 0.86620754 0.64976881 0.\n",
            " 0.65953166 0.16794003]\n"
          ]
        }
      ]
    },
    {
      "cell_type": "code",
      "source": [
        "mutual_info = pd.Series(mutual_info)\n",
        "mutual_info.index = x_train_features.columns\n",
        "mutual_info.sort_values(ascending=False)"
      ],
      "metadata": {
        "id": "k4Jz_MG-1WKw",
        "colab": {
          "base_uri": "https://localhost:8080/"
        },
        "outputId": "d3f7ba4e-f33d-42a1-83fa-5b5d0e7dcd29"
      },
      "execution_count": 12,
      "outputs": [
        {
          "output_type": "execute_result",
          "data": {
            "text/plain": [
              "Surface_Area                 1.629957\n",
              "Relative_Compactness         1.626686\n",
              "Wall_Area                    1.038095\n",
              "Roof_Area                    0.866208\n",
              "Glazing_Area                 0.659532\n",
              "Overall_Height               0.649769\n",
              "Glazing_Area_Distribution    0.167940\n",
              "Orientation                  0.000000\n",
              "dtype: float64"
            ]
          },
          "metadata": {},
          "execution_count": 12
        }
      ]
    },
    {
      "cell_type": "code",
      "source": [
        "mutual_info.sort_values(ascending=False).plot.bar(figsize=(15,5))"
      ],
      "metadata": {
        "id": "FZZbFjJh1WKx",
        "colab": {
          "base_uri": "https://localhost:8080/",
          "height": 628
        },
        "outputId": "aedd6359-4fae-450a-bd5a-f3f81c33f95a"
      },
      "execution_count": 13,
      "outputs": [
        {
          "output_type": "execute_result",
          "data": {
            "text/plain": [
              "<Axes: >"
            ]
          },
          "metadata": {},
          "execution_count": 13
        },
        {
          "output_type": "display_data",
          "data": {
            "text/plain": [
              "<Figure size 1500x500 with 1 Axes>"
            ],
            "image/png": "[encoded data removed]"
          },
          "metadata": {}
        }
      ]
    },
    {
      "cell_type": "markdown",
      "source": [
        "**Determinación Features Cols**"
      ],
      "metadata": {
        "id": "hBw4C6o9t66q"
      }
    },
    {
      "cell_type": "code",
      "source": [
        "feature_cols = [\n",
        "'Relative_Compactness',\n",
        "'Wall_Area',\n",
        "'Overall_Height']\n",
        "x = dataset[feature_cols]\n",
        "print('ENERGY EFFICIENCY DATASET - X (FEATURES COLS): \\n', x)\n",
        "y = dataset.Heating_Load\n",
        "print('ENERGY EFFICIENCY DATASET - Y (PREDICTION LABEL): \\n', y)"
      ],
      "metadata": {
        "id": "ZulA5udzVSDm",
        "colab": {
          "base_uri": "https://localhost:8080/"
        },
        "outputId": "97d39da0-5e1c-4447-91bc-2185a1c39a2c"
      },
      "execution_count": 14,
      "outputs": [
        {
          "output_type": "stream",
          "name": "stdout",
          "text": [
            "ENERGY EFFICIENCY DATASET - X (FEATURES COLS): \n",
            "      Relative_Compactness  Wall_Area  Overall_Height\n",
            "0                    0.98      294.0             7.0\n",
            "1                    0.98      294.0             7.0\n",
            "2                    0.98      294.0             7.0\n",
            "3                    0.98      294.0             7.0\n",
            "4                    0.90      318.5             7.0\n",
            "..                    ...        ...             ...\n",
            "763                  0.64      343.0             3.5\n",
            "764                  0.62      367.5             3.5\n",
            "765                  0.62      367.5             3.5\n",
            "766                  0.62      367.5             3.5\n",
            "767                  0.62      367.5             3.5\n",
            "\n",
            "[768 rows x 3 columns]\n",
            "ENERGY EFFICIENCY DATASET - Y (PREDICTION LABEL): \n",
            " 0      15.55\n",
            "1      15.55\n",
            "2      15.55\n",
            "3      15.55\n",
            "4      20.84\n",
            "       ...  \n",
            "763    17.88\n",
            "764    16.54\n",
            "765    16.44\n",
            "766    16.48\n",
            "767    16.64\n",
            "Name: Heating_Load, Length: 768, dtype: float64\n"
          ]
        }
      ]
    },
    {
      "cell_type": "markdown",
      "source": [
        "**Separación Set de Datos**"
      ],
      "metadata": {
        "id": "L0SO77ZDuile"
      }
    },
    {
      "cell_type": "code",
      "source": [
        "set_test_size = 0.2"
      ],
      "metadata": {
        "id": "iXOgWW4GboFN"
      },
      "execution_count": 15,
      "outputs": []
    },
    {
      "cell_type": "code",
      "source": [
        "x_train, x_test, y_train, y_test = train_test_split(x, y, test_size=set_test_size, random_state=0, shuffle=True)"
      ],
      "metadata": {
        "id": "twV--yvlWwnb"
      },
      "execution_count": 16,
      "outputs": []
    },
    {
      "cell_type": "code",
      "source": [
        "x_train = x_train.values"
      ],
      "metadata": {
        "id": "5CBSyPUWXyxE"
      },
      "execution_count": 17,
      "outputs": []
    },
    {
      "cell_type": "code",
      "source": [
        "x_train"
      ],
      "metadata": {
        "id": "-k8NFBkU4vBG",
        "colab": {
          "base_uri": "https://localhost:8080/"
        },
        "outputId": "b32d6b6f-1fea-4120-81f9-9d4ec339ec55"
      },
      "execution_count": 18,
      "outputs": [
        {
          "output_type": "execute_result",
          "data": {
            "text/plain": [
              "array([[  0.74, 245.  ,   3.5 ],\n",
              "       [  0.76, 416.5 ,   7.  ],\n",
              "       [  0.9 , 318.5 ,   7.  ],\n",
              "       ...,\n",
              "       [  0.9 , 318.5 ,   7.  ],\n",
              "       [  0.71, 269.5 ,   3.5 ],\n",
              "       [  0.82, 318.5 ,   7.  ]])"
            ]
          },
          "metadata": {},
          "execution_count": 18
        }
      ]
    },
    {
      "cell_type": "code",
      "source": [
        "y_train = y_train.values"
      ],
      "metadata": {
        "id": "bYateBV1hxSw"
      },
      "execution_count": 19,
      "outputs": []
    },
    {
      "cell_type": "code",
      "source": [
        "x_test = x_test.values"
      ],
      "metadata": {
        "id": "TaKpTTmfh0GH"
      },
      "execution_count": 20,
      "outputs": []
    },
    {
      "cell_type": "code",
      "source": [
        "x_test"
      ],
      "metadata": {
        "id": "9yH-8IY945YD",
        "colab": {
          "base_uri": "https://localhost:8080/"
        },
        "outputId": "0ca5e211-f1be-4ecf-d656-6f4512aa333c"
      },
      "execution_count": 21,
      "outputs": [
        {
          "output_type": "execute_result",
          "data": {
            "text/plain": [
              "array([[  0.66, 318.5 ,   3.5 ],\n",
              "       [  0.74, 245.  ,   3.5 ],\n",
              "       [  0.79, 343.  ,   7.  ],\n",
              "       [  0.82, 318.5 ,   7.  ],\n",
              "       [  0.98, 294.  ,   7.  ],\n",
              "       [  0.9 , 318.5 ,   7.  ],\n",
              "       [  0.98, 294.  ,   7.  ],\n",
              "       [  0.82, 318.5 ,   7.  ],\n",
              "       [  0.86, 294.  ,   7.  ],\n",
              "       [  0.82, 318.5 ,   7.  ],\n",
              "       [  0.71, 269.5 ,   3.5 ],\n",
              "       [  0.79, 343.  ,   7.  ],\n",
              "       [  0.66, 318.5 ,   3.5 ],\n",
              "       [  0.79, 343.  ,   7.  ],\n",
              "       [  0.79, 343.  ,   7.  ],\n",
              "       [  0.86, 294.  ,   7.  ],\n",
              "       [  0.71, 269.5 ,   3.5 ],\n",
              "       [  0.9 , 318.5 ,   7.  ],\n",
              "       [  0.62, 367.5 ,   3.5 ],\n",
              "       [  0.71, 269.5 ,   3.5 ],\n",
              "       [  0.69, 294.  ,   3.5 ],\n",
              "       [  0.98, 294.  ,   7.  ],\n",
              "       [  0.71, 269.5 ,   3.5 ],\n",
              "       [  0.79, 343.  ,   7.  ],\n",
              "       [  0.74, 245.  ,   3.5 ],\n",
              "       [  0.71, 269.5 ,   3.5 ],\n",
              "       [  0.62, 367.5 ,   3.5 ],\n",
              "       [  0.74, 245.  ,   3.5 ],\n",
              "       [  0.71, 269.5 ,   3.5 ],\n",
              "       [  0.79, 343.  ,   7.  ],\n",
              "       [  0.62, 367.5 ,   3.5 ],\n",
              "       [  0.66, 318.5 ,   3.5 ],\n",
              "       [  0.79, 343.  ,   7.  ],\n",
              "       [  0.66, 318.5 ,   3.5 ],\n",
              "       [  0.98, 294.  ,   7.  ],\n",
              "       [  0.76, 416.5 ,   7.  ],\n",
              "       [  0.74, 245.  ,   3.5 ],\n",
              "       [  0.76, 416.5 ,   7.  ],\n",
              "       [  0.62, 367.5 ,   3.5 ],\n",
              "       [  0.64, 343.  ,   3.5 ],\n",
              "       [  0.66, 318.5 ,   3.5 ],\n",
              "       [  0.79, 343.  ,   7.  ],\n",
              "       [  0.69, 294.  ,   3.5 ],\n",
              "       [  0.82, 318.5 ,   7.  ],\n",
              "       [  0.86, 294.  ,   7.  ],\n",
              "       [  0.98, 294.  ,   7.  ],\n",
              "       [  0.71, 269.5 ,   3.5 ],\n",
              "       [  0.69, 294.  ,   3.5 ],\n",
              "       [  0.9 , 318.5 ,   7.  ],\n",
              "       [  0.86, 294.  ,   7.  ],\n",
              "       [  0.98, 294.  ,   7.  ],\n",
              "       [  0.62, 367.5 ,   3.5 ],\n",
              "       [  0.76, 416.5 ,   7.  ],\n",
              "       [  0.66, 318.5 ,   3.5 ],\n",
              "       [  0.76, 416.5 ,   7.  ],\n",
              "       [  0.74, 245.  ,   3.5 ],\n",
              "       [  0.98, 294.  ,   7.  ],\n",
              "       [  0.82, 318.5 ,   7.  ],\n",
              "       [  0.79, 343.  ,   7.  ],\n",
              "       [  0.69, 294.  ,   3.5 ],\n",
              "       [  0.66, 318.5 ,   3.5 ],\n",
              "       [  0.71, 269.5 ,   3.5 ],\n",
              "       [  0.98, 294.  ,   7.  ],\n",
              "       [  0.74, 245.  ,   3.5 ],\n",
              "       [  0.71, 269.5 ,   3.5 ],\n",
              "       [  0.74, 245.  ,   3.5 ],\n",
              "       [  0.79, 343.  ,   7.  ],\n",
              "       [  0.69, 294.  ,   3.5 ],\n",
              "       [  0.86, 294.  ,   7.  ],\n",
              "       [  0.79, 343.  ,   7.  ],\n",
              "       [  0.98, 294.  ,   7.  ],\n",
              "       [  0.71, 269.5 ,   3.5 ],\n",
              "       [  0.82, 318.5 ,   7.  ],\n",
              "       [  0.62, 367.5 ,   3.5 ],\n",
              "       [  0.64, 343.  ,   3.5 ],\n",
              "       [  0.82, 318.5 ,   7.  ],\n",
              "       [  0.98, 294.  ,   7.  ],\n",
              "       [  0.79, 343.  ,   7.  ],\n",
              "       [  0.98, 294.  ,   7.  ],\n",
              "       [  0.71, 269.5 ,   3.5 ],\n",
              "       [  0.9 , 318.5 ,   7.  ],\n",
              "       [  0.9 , 318.5 ,   7.  ],\n",
              "       [  0.66, 318.5 ,   3.5 ],\n",
              "       [  0.62, 367.5 ,   3.5 ],\n",
              "       [  0.82, 318.5 ,   7.  ],\n",
              "       [  0.82, 318.5 ,   7.  ],\n",
              "       [  0.98, 294.  ,   7.  ],\n",
              "       [  0.79, 343.  ,   7.  ],\n",
              "       [  0.62, 367.5 ,   3.5 ],\n",
              "       [  0.62, 367.5 ,   3.5 ],\n",
              "       [  0.74, 245.  ,   3.5 ],\n",
              "       [  0.86, 294.  ,   7.  ],\n",
              "       [  0.74, 245.  ,   3.5 ],\n",
              "       [  0.98, 294.  ,   7.  ],\n",
              "       [  0.76, 416.5 ,   7.  ],\n",
              "       [  0.62, 367.5 ,   3.5 ],\n",
              "       [  0.82, 318.5 ,   7.  ],\n",
              "       [  0.69, 294.  ,   3.5 ],\n",
              "       [  0.66, 318.5 ,   3.5 ],\n",
              "       [  0.76, 416.5 ,   7.  ],\n",
              "       [  0.79, 343.  ,   7.  ],\n",
              "       [  0.82, 318.5 ,   7.  ],\n",
              "       [  0.86, 294.  ,   7.  ],\n",
              "       [  0.76, 416.5 ,   7.  ],\n",
              "       [  0.74, 245.  ,   3.5 ],\n",
              "       [  0.86, 294.  ,   7.  ],\n",
              "       [  0.79, 343.  ,   7.  ],\n",
              "       [  0.66, 318.5 ,   3.5 ],\n",
              "       [  0.71, 269.5 ,   3.5 ],\n",
              "       [  0.98, 294.  ,   7.  ],\n",
              "       [  0.64, 343.  ,   3.5 ],\n",
              "       [  0.76, 416.5 ,   7.  ],\n",
              "       [  0.86, 294.  ,   7.  ],\n",
              "       [  0.64, 343.  ,   3.5 ],\n",
              "       [  0.71, 269.5 ,   3.5 ],\n",
              "       [  0.64, 343.  ,   3.5 ],\n",
              "       [  0.66, 318.5 ,   3.5 ],\n",
              "       [  0.79, 343.  ,   7.  ],\n",
              "       [  0.86, 294.  ,   7.  ],\n",
              "       [  0.76, 416.5 ,   7.  ],\n",
              "       [  0.9 , 318.5 ,   7.  ],\n",
              "       [  0.74, 245.  ,   3.5 ],\n",
              "       [  0.71, 269.5 ,   3.5 ],\n",
              "       [  0.9 , 318.5 ,   7.  ],\n",
              "       [  0.71, 269.5 ,   3.5 ],\n",
              "       [  0.76, 416.5 ,   7.  ],\n",
              "       [  0.74, 245.  ,   3.5 ],\n",
              "       [  0.98, 294.  ,   7.  ],\n",
              "       [  0.74, 245.  ,   3.5 ],\n",
              "       [  0.86, 294.  ,   7.  ],\n",
              "       [  0.76, 416.5 ,   7.  ],\n",
              "       [  0.98, 294.  ,   7.  ],\n",
              "       [  0.79, 343.  ,   7.  ],\n",
              "       [  0.74, 245.  ,   3.5 ],\n",
              "       [  0.76, 416.5 ,   7.  ],\n",
              "       [  0.66, 318.5 ,   3.5 ],\n",
              "       [  0.82, 318.5 ,   7.  ],\n",
              "       [  0.98, 294.  ,   7.  ],\n",
              "       [  0.76, 416.5 ,   7.  ],\n",
              "       [  0.71, 269.5 ,   3.5 ],\n",
              "       [  0.64, 343.  ,   3.5 ],\n",
              "       [  0.64, 343.  ,   3.5 ],\n",
              "       [  0.9 , 318.5 ,   7.  ],\n",
              "       [  0.71, 269.5 ,   3.5 ],\n",
              "       [  0.79, 343.  ,   7.  ],\n",
              "       [  0.62, 367.5 ,   3.5 ],\n",
              "       [  0.9 , 318.5 ,   7.  ],\n",
              "       [  0.76, 416.5 ,   7.  ],\n",
              "       [  0.69, 294.  ,   3.5 ],\n",
              "       [  0.62, 367.5 ,   3.5 ],\n",
              "       [  0.98, 294.  ,   7.  ],\n",
              "       [  0.66, 318.5 ,   3.5 ],\n",
              "       [  0.62, 367.5 ,   3.5 ],\n",
              "       [  0.62, 367.5 ,   3.5 ]])"
            ]
          },
          "metadata": {},
          "execution_count": 21
        }
      ]
    },
    {
      "cell_type": "code",
      "source": [
        "y_test = y_test.values"
      ],
      "metadata": {
        "id": "ov5xjWUsh2z0"
      },
      "execution_count": 22,
      "outputs": []
    },
    {
      "cell_type": "markdown",
      "source": [
        "**Normalizacion**"
      ],
      "metadata": {
        "id": "PkqEh4OO3GES"
      }
    },
    {
      "cell_type": "code",
      "source": [
        "import pandas as pd"
      ],
      "metadata": {
        "id": "O3YQByO96JgV"
      },
      "execution_count": 23,
      "outputs": []
    },
    {
      "cell_type": "code",
      "source": [
        "data = pd.DataFrame(x_train, columns=['Relative_Compactness', 'Wall_Area', 'Overall_Height'])"
      ],
      "metadata": {
        "id": "DEf4tpRc577w"
      },
      "execution_count": 25,
      "outputs": []
    },
    {
      "cell_type": "code",
      "source": [
        "z_scores = (data - data.mean()) / data.std()"
      ],
      "metadata": {
        "id": "vXZ-jk9w6Okj"
      },
      "execution_count": 26,
      "outputs": []
    },
    {
      "cell_type": "code",
      "source": [
        "z_scores"
      ],
      "metadata": {
        "colab": {
          "base_uri": "https://localhost:8080/",
          "height": 424
        },
        "id": "EIUCJBgm6UCy",
        "outputId": "87f32aee-79d6-45a1-a7f3-af99351a8bb7"
      },
      "execution_count": 27,
      "outputs": [
        {
          "output_type": "execute_result",
          "data": {
            "text/plain": [
              "     Relative_Compactness  Wall_Area  Overall_Height\n",
              "0               -0.210804  -1.708151       -0.983042\n",
              "1               -0.020740   2.271054        1.015593\n",
              "2                1.309708  -0.002777        1.015593\n",
              "3                0.549452  -0.002777        1.015593\n",
              "4               -0.971060  -0.002777       -0.983042\n",
              "..                    ...        ...             ...\n",
              "609             -1.161123   0.565680       -0.983042\n",
              "610              2.069963  -0.571235        1.015593\n",
              "611              1.309708  -0.002777        1.015593\n",
              "612             -0.495900  -1.139693       -0.983042\n",
              "613              0.549452  -0.002777        1.015593\n",
              "\n",
              "[614 rows x 3 columns]"
            ],
            "text/html": [
              "\n",
              "  <div id=\"df-0cbeb676-ce76-4d9d-a9f8-b2eccc0d39eb\" class=\"colab-df-container\">\n",
              "    <div>\n",
              "<style scoped>\n",
              "    .dataframe tbody tr th:only-of-type {\n",
              "        vertical-align: middle;\n",
              "    }\n",
              "\n",
              "    .dataframe tbody tr th {\n",
              "        vertical-align: top;\n",
              "    }\n",
              "\n",
              "    .dataframe thead th {\n",
              "        text-align: right;\n",
              "    }\n",
              "</style>\n",
              "<table border=\"1\" class=\"dataframe\">\n",
              "  <thead>\n",
              "    <tr style=\"text-align: right;\">\n",
              "      <th></th>\n",
              "      <th>Relative_Compactness</th>\n",
              "      <th>Wall_Area</th>\n",
              "      <th>Overall_Height</th>\n",
              "    </tr>\n",
              "  </thead>\n",
              "  <tbody>\n",
              "    <tr>\n",
              "      <th>0</th>\n",
              "      <td>-0.210804</td>\n",
              "      <td>-1.708151</td>\n",
              "      <td>-0.983042</td>\n",
              "    </tr>\n",
              "    <tr>\n",
              "      <th>1</th>\n",
              "      <td>-0.020740</td>\n",
              "      <td>2.271054</td>\n",
              "      <td>1.015593</td>\n",
              "    </tr>\n",
              "    <tr>\n",
              "      <th>2</th>\n",
              "      <td>1.309708</td>\n",
              "      <td>-0.002777</td>\n",
              "      <td>1.015593</td>\n",
              "    </tr>\n",
              "    <tr>\n",
              "      <th>3</th>\n",
              "      <td>0.549452</td>\n",
              "      <td>-0.002777</td>\n",
              "      <td>1.015593</td>\n",
              "    </tr>\n",
              "    <tr>\n",
              "      <th>4</th>\n",
              "      <td>-0.971060</td>\n",
              "      <td>-0.002777</td>\n",
              "      <td>-0.983042</td>\n",
              "    </tr>\n",
              "    <tr>\n",
              "      <th>...</th>\n",
              "      <td>...</td>\n",
              "      <td>...</td>\n",
              "      <td>...</td>\n",
              "    </tr>\n",
              "    <tr>\n",
              "      <th>609</th>\n",
              "      <td>-1.161123</td>\n",
              "      <td>0.565680</td>\n",
              "      <td>-0.983042</td>\n",
              "    </tr>\n",
              "    <tr>\n",
              "      <th>610</th>\n",
              "      <td>2.069963</td>\n",
              "      <td>-0.571235</td>\n",
              "      <td>1.015593</td>\n",
              "    </tr>\n",
              "    <tr>\n",
              "      <th>611</th>\n",
              "      <td>1.309708</td>\n",
              "      <td>-0.002777</td>\n",
              "      <td>1.015593</td>\n",
              "    </tr>\n",
              "    <tr>\n",
              "      <th>612</th>\n",
              "      <td>-0.495900</td>\n",
              "      <td>-1.139693</td>\n",
              "      <td>-0.983042</td>\n",
              "    </tr>\n",
              "    <tr>\n",
              "      <th>613</th>\n",
              "      <td>0.549452</td>\n",
              "      <td>-0.002777</td>\n",
              "      <td>1.015593</td>\n",
              "    </tr>\n",
              "  </tbody>\n",
              "</table>\n",
              "<p>614 rows × 3 columns</p>\n",
              "</div>\n",
              "    <div class=\"colab-df-buttons\">\n",
              "\n",
              "  <div class=\"colab-df-container\">\n",
              "    <button class=\"colab-df-convert\" onclick=\"convertToInteractive('df-0cbeb676-ce76-4d9d-a9f8-b2eccc0d39eb')\"\n",
              "            title=\"Convert this dataframe to an interactive table.\"\n",
              "            style=\"display:none;\">\n",
              "\n",
              "  <svg xmlns=\"http://www.w3.org/2000/svg\" height=\"24px\" viewBox=\"0 -960 960 960\">\n",
              "    <path d=\"M120-120v-720h720v720H120Zm60-500h600v-160H180v160Zm220 220h160v-160H400v160Zm0 220h160v-160H400v160ZM180-400h160v-160H180v160Zm440 0h160v-160H620v160ZM180-180h160v-160H180v160Zm440 0h160v-160H620v160Z\"/>\n",
              "  </svg>\n",
              "    </button>\n",
              "\n",
              "  <style>\n",
              "    .colab-df-container {\n",
              "      display:flex;\n",
              "      gap: 12px;\n",
              "    }\n",
              "\n",
              "    .colab-df-convert {\n",
              "      background-color: #E8F0FE;\n",
              "      border: none;\n",
              "      border-radius: 50%;\n",
              "      cursor: pointer;\n",
              "      display: none;\n",
              "      fill: #1967D2;\n",
              "      height: 32px;\n",
              "      padding: 0 0 0 0;\n",
              "      width: 32px;\n",
              "    }\n",
              "\n",
              "    .colab-df-convert:hover {\n",
              "      background-color: #E2EBFA;\n",
              "      box-shadow: 0px 1px 2px rgba(60, 64, 67, 0.3), 0px 1px 3px 1px rgba(60, 64, 67, 0.15);\n",
              "      fill: #174EA6;\n",
              "    }\n",
              "\n",
              "    .colab-df-buttons div {\n",
              "      margin-bottom: 4px;\n",
              "    }\n",
              "\n",
              "    [theme=dark] .colab-df-convert {\n",
              "      background-color: #3B4455;\n",
              "      fill: #D2E3FC;\n",
              "    }\n",
              "\n",
              "    [theme=dark] .colab-df-convert:hover {\n",
              "      background-color: #434B5C;\n",
              "      box-shadow: 0px 1px 3px 1px rgba(0, 0, 0, 0.15);\n",
              "      filter: drop-shadow(0px 1px 2px rgba(0, 0, 0, 0.3));\n",
              "      fill: #FFFFFF;\n",
              "    }\n",
              "  </style>\n",
              "\n",
              "    <script>\n",
              "      const buttonEl =\n",
              "        document.querySelector('#df-0cbeb676-ce76-4d9d-a9f8-b2eccc0d39eb button.colab-df-convert');\n",
              "      buttonEl.style.display =\n",
              "        google.colab.kernel.accessAllowed ? 'block' : 'none';\n",
              "\n",
              "      async function convertToInteractive(key) {\n",
              "        const element = document.querySelector('#df-0cbeb676-ce76-4d9d-a9f8-b2eccc0d39eb');\n",
              "        const dataTable =\n",
              "          await google.colab.kernel.invokeFunction('convertToInteractive',\n",
              "                                                    [key], {});\n",
              "        if (!dataTable) return;\n",
              "\n",
              "        const docLinkHtml = 'Like what you see? Visit the ' +\n",
              "          '<a target=\"_blank\" href=https://colab.research.google.com/notebooks/data_table.ipynb>data table notebook</a>'\n",
              "          + ' to learn more about interactive tables.';\n",
              "        element.innerHTML = '';\n",
              "        dataTable['output_type'] = 'display_data';\n",
              "        await google.colab.output.renderOutput(dataTable, element);\n",
              "        const docLink = document.createElement('div');\n",
              "        docLink.innerHTML = docLinkHtml;\n",
              "        element.appendChild(docLink);\n",
              "      }\n",
              "    </script>\n",
              "  </div>\n",
              "\n",
              "\n",
              "<div id=\"df-66106e6f-0eea-4b8b-8187-ee7fb82922a2\">\n",
              "  <button class=\"colab-df-quickchart\" onclick=\"quickchart('df-66106e6f-0eea-4b8b-8187-ee7fb82922a2')\"\n",
              "            title=\"Suggest charts.\"\n",
              "            style=\"display:none;\">\n",
              "\n",
              "<svg xmlns=\"http://www.w3.org/2000/svg\" height=\"24px\"viewBox=\"0 0 24 24\"\n",
              "     width=\"24px\">\n",
              "    <g>\n",
              "        <path d=\"M19 3H5c-1.1 0-2 .9-2 2v14c0 1.1.9 2 2 2h14c1.1 0 2-.9 2-2V5c0-1.1-.9-2-2-2zM9 17H7v-7h2v7zm4 0h-2V7h2v10zm4 0h-2v-4h2v4z\"/>\n",
              "    </g>\n",
              "</svg>\n",
              "  </button>\n",
              "\n",
              "<style>\n",
              "  .colab-df-quickchart {\n",
              "      --bg-color: #E8F0FE;\n",
              "      --fill-color: #1967D2;\n",
              "      --hover-bg-color: #E2EBFA;\n",
              "      --hover-fill-color: #174EA6;\n",
              "      --disabled-fill-color: #AAA;\n",
              "      --disabled-bg-color: #DDD;\n",
              "  }\n",
              "\n",
              "  [theme=dark] .colab-df-quickchart {\n",
              "      --bg-color: #3B4455;\n",
              "      --fill-color: #D2E3FC;\n",
              "      --hover-bg-color: #434B5C;\n",
              "      --hover-fill-color: #FFFFFF;\n",
              "      --disabled-bg-color: #3B4455;\n",
              "      --disabled-fill-color: #666;\n",
              "  }\n",
              "\n",
              "  .colab-df-quickchart {\n",
              "    background-color: var(--bg-color);\n",
              "    border: none;\n",
              "    border-radius: 50%;\n",
              "    cursor: pointer;\n",
              "    display: none;\n",
              "    fill: var(--fill-color);\n",
              "    height: 32px;\n",
              "    padding: 0;\n",
              "    width: 32px;\n",
              "  }\n",
              "\n",
              "  .colab-df-quickchart:hover {\n",
              "    background-color: var(--hover-bg-color);\n",
              "    box-shadow: 0 1px 2px rgba(60, 64, 67, 0.3), 0 1px 3px 1px rgba(60, 64, 67, 0.15);\n",
              "    fill: var(--button-hover-fill-color);\n",
              "  }\n",
              "\n",
              "  .colab-df-quickchart-complete:disabled,\n",
              "  .colab-df-quickchart-complete:disabled:hover {\n",
              "    background-color: var(--disabled-bg-color);\n",
              "    fill: var(--disabled-fill-color);\n",
              "    box-shadow: none;\n",
              "  }\n",
              "\n",
              "  .colab-df-spinner {\n",
              "    border: 2px solid var(--fill-color);\n",
              "    border-color: transparent;\n",
              "    border-bottom-color: var(--fill-color);\n",
              "    animation:\n",
              "      spin 1s steps(1) infinite;\n",
              "  }\n",
              "\n",
              "  @keyframes spin {\n",
              "    0% {\n",
              "      border-color: transparent;\n",
              "      border-bottom-color: var(--fill-color);\n",
              "      border-left-color: var(--fill-color);\n",
              "    }\n",
              "    20% {\n",
              "      border-color: transparent;\n",
              "      border-left-color: var(--fill-color);\n",
              "      border-top-color: var(--fill-color);\n",
              "    }\n",
              "    30% {\n",
              "      border-color: transparent;\n",
              "      border-left-color: var(--fill-color);\n",
              "      border-top-color: var(--fill-color);\n",
              "      border-right-color: var(--fill-color);\n",
              "    }\n",
              "    40% {\n",
              "      border-color: transparent;\n",
              "      border-right-color: var(--fill-color);\n",
              "      border-top-color: var(--fill-color);\n",
              "    }\n",
              "    60% {\n",
              "      border-color: transparent;\n",
              "      border-right-color: var(--fill-color);\n",
              "    }\n",
              "    80% {\n",
              "      border-color: transparent;\n",
              "      border-right-color: var(--fill-color);\n",
              "      border-bottom-color: var(--fill-color);\n",
              "    }\n",
              "    90% {\n",
              "      border-color: transparent;\n",
              "      border-bottom-color: var(--fill-color);\n",
              "    }\n",
              "  }\n",
              "</style>\n",
              "\n",
              "  <script>\n",
              "    async function quickchart(key) {\n",
              "      const quickchartButtonEl =\n",
              "        document.querySelector('#' + key + ' button');\n",
              "      quickchartButtonEl.disabled = true;  // To prevent multiple clicks.\n",
              "      quickchartButtonEl.classList.add('colab-df-spinner');\n",
              "      try {\n",
              "        const charts = await google.colab.kernel.invokeFunction(\n",
              "            'suggestCharts', [key], {});\n",
              "      } catch (error) {\n",
              "        console.error('Error during call to suggestCharts:', error);\n",
              "      }\n",
              "      quickchartButtonEl.classList.remove('colab-df-spinner');\n",
              "      quickchartButtonEl.classList.add('colab-df-quickchart-complete');\n",
              "    }\n",
              "    (() => {\n",
              "      let quickchartButtonEl =\n",
              "        document.querySelector('#df-66106e6f-0eea-4b8b-8187-ee7fb82922a2 button');\n",
              "      quickchartButtonEl.style.display =\n",
              "        google.colab.kernel.accessAllowed ? 'block' : 'none';\n",
              "    })();\n",
              "  </script>\n",
              "</div>\n",
              "    </div>\n",
              "  </div>\n"
            ]
          },
          "metadata": {},
          "execution_count": 27
        }
      ]
    },
    {
      "cell_type": "code",
      "source": [
        "nuevo_x_train = z_scores.values"
      ],
      "metadata": {
        "id": "dScEj1XZ6Yjj"
      },
      "execution_count": 28,
      "outputs": []
    },
    {
      "cell_type": "code",
      "source": [
        "nuevo_x_train"
      ],
      "metadata": {
        "colab": {
          "base_uri": "https://localhost:8080/"
        },
        "id": "pXbAtZap6ljC",
        "outputId": "37f5dca2-62e6-4912-cc33-cdfc01627904"
      },
      "execution_count": 29,
      "outputs": [
        {
          "output_type": "execute_result",
          "data": {
            "text/plain": [
              "array([[-0.2108038 , -1.70815096, -0.98304235],\n",
              "       [-0.02073987,  2.27105382,  1.01559342],\n",
              "       [ 1.3097076 , -0.00277748,  1.01559342],\n",
              "       ...,\n",
              "       [ 1.3097076 , -0.00277748,  1.01559342],\n",
              "       [-0.49589969, -1.13969313, -0.98304235],\n",
              "       [ 0.5494519 , -0.00277748,  1.01559342]])"
            ]
          },
          "metadata": {},
          "execution_count": 29
        }
      ]
    },
    {
      "cell_type": "code",
      "source": [
        "data = pd.DataFrame(x_test, columns=['Relative_Compactness', 'Wall_Area', 'Overall_Height'])"
      ],
      "metadata": {
        "id": "9Nu3qkO66p-s"
      },
      "execution_count": 30,
      "outputs": []
    },
    {
      "cell_type": "code",
      "source": [
        "z_scores = (data - data.mean()) / data.std()"
      ],
      "metadata": {
        "id": "wTVlR85L6s8Q"
      },
      "execution_count": 31,
      "outputs": []
    },
    {
      "cell_type": "code",
      "source": [
        "nuevo_x_test = z_scores.values"
      ],
      "metadata": {
        "id": "FfPekiC56wM1"
      },
      "execution_count": 32,
      "outputs": []
    },
    {
      "cell_type": "code",
      "source": [
        "nuevo_x_test"
      ],
      "metadata": {
        "colab": {
          "base_uri": "https://localhost:8080/"
        },
        "id": "lv1ekXMW63Xr",
        "outputId": "727a4368-ab34-46a8-b687-efea925f7304"
      },
      "execution_count": 33,
      "outputs": [
        {
          "output_type": "execute_result",
          "data": {
            "text/plain": [
              "array([[-1.03847364,  0.01041821, -1.06371684],\n",
              "       [-0.29722247, -1.59398603, -1.06371684],\n",
              "       [ 0.16605952,  0.54521962,  0.93399527],\n",
              "       [ 0.44402871,  0.01041821,  0.93399527],\n",
              "       [ 1.92653106, -0.5243832 ,  0.93399527],\n",
              "       [ 1.18527988,  0.01041821,  0.93399527],\n",
              "       [ 1.92653106, -0.5243832 ,  0.93399527],\n",
              "       [ 0.44402871,  0.01041821,  0.93399527],\n",
              "       [ 0.81465429, -0.5243832 ,  0.93399527],\n",
              "       [ 0.44402871,  0.01041821,  0.93399527],\n",
              "       [-0.57519166, -1.05918462, -1.06371684],\n",
              "       [ 0.16605952,  0.54521962,  0.93399527],\n",
              "       [-1.03847364,  0.01041821, -1.06371684],\n",
              "       [ 0.16605952,  0.54521962,  0.93399527],\n",
              "       [ 0.16605952,  0.54521962,  0.93399527],\n",
              "       [ 0.81465429, -0.5243832 ,  0.93399527],\n",
              "       [-0.57519166, -1.05918462, -1.06371684],\n",
              "       [ 1.18527988,  0.01041821,  0.93399527],\n",
              "       [-1.40909923,  1.08002104, -1.06371684],\n",
              "       [-0.57519166, -1.05918462, -1.06371684],\n",
              "       [-0.76050445, -0.5243832 , -1.06371684],\n",
              "       [ 1.92653106, -0.5243832 ,  0.93399527],\n",
              "       [-0.57519166, -1.05918462, -1.06371684],\n",
              "       [ 0.16605952,  0.54521962,  0.93399527],\n",
              "       [-0.29722247, -1.59398603, -1.06371684],\n",
              "       [-0.57519166, -1.05918462, -1.06371684],\n",
              "       [-1.40909923,  1.08002104, -1.06371684],\n",
              "       [-0.29722247, -1.59398603, -1.06371684],\n",
              "       [-0.57519166, -1.05918462, -1.06371684],\n",
              "       [ 0.16605952,  0.54521962,  0.93399527],\n",
              "       [-1.40909923,  1.08002104, -1.06371684],\n",
              "       [-1.03847364,  0.01041821, -1.06371684],\n",
              "       [ 0.16605952,  0.54521962,  0.93399527],\n",
              "       [-1.03847364,  0.01041821, -1.06371684],\n",
              "       [ 1.92653106, -0.5243832 ,  0.93399527],\n",
              "       [-0.11190967,  2.14962386,  0.93399527],\n",
              "       [-0.29722247, -1.59398603, -1.06371684],\n",
              "       [-0.11190967,  2.14962386,  0.93399527],\n",
              "       [-1.40909923,  1.08002104, -1.06371684],\n",
              "       [-1.22378644,  0.54521962, -1.06371684],\n",
              "       [-1.03847364,  0.01041821, -1.06371684],\n",
              "       [ 0.16605952,  0.54521962,  0.93399527],\n",
              "       [-0.76050445, -0.5243832 , -1.06371684],\n",
              "       [ 0.44402871,  0.01041821,  0.93399527],\n",
              "       [ 0.81465429, -0.5243832 ,  0.93399527],\n",
              "       [ 1.92653106, -0.5243832 ,  0.93399527],\n",
              "       [-0.57519166, -1.05918462, -1.06371684],\n",
              "       [-0.76050445, -0.5243832 , -1.06371684],\n",
              "       [ 1.18527988,  0.01041821,  0.93399527],\n",
              "       [ 0.81465429, -0.5243832 ,  0.93399527],\n",
              "       [ 1.92653106, -0.5243832 ,  0.93399527],\n",
              "       [-1.40909923,  1.08002104, -1.06371684],\n",
              "       [-0.11190967,  2.14962386,  0.93399527],\n",
              "       [-1.03847364,  0.01041821, -1.06371684],\n",
              "       [-0.11190967,  2.14962386,  0.93399527],\n",
              "       [-0.29722247, -1.59398603, -1.06371684],\n",
              "       [ 1.92653106, -0.5243832 ,  0.93399527],\n",
              "       [ 0.44402871,  0.01041821,  0.93399527],\n",
              "       [ 0.16605952,  0.54521962,  0.93399527],\n",
              "       [-0.76050445, -0.5243832 , -1.06371684],\n",
              "       [-1.03847364,  0.01041821, -1.06371684],\n",
              "       [-0.57519166, -1.05918462, -1.06371684],\n",
              "       [ 1.92653106, -0.5243832 ,  0.93399527],\n",
              "       [-0.29722247, -1.59398603, -1.06371684],\n",
              "       [-0.57519166, -1.05918462, -1.06371684],\n",
              "       [-0.29722247, -1.59398603, -1.06371684],\n",
              "       [ 0.16605952,  0.54521962,  0.93399527],\n",
              "       [-0.76050445, -0.5243832 , -1.06371684],\n",
              "       [ 0.81465429, -0.5243832 ,  0.93399527],\n",
              "       [ 0.16605952,  0.54521962,  0.93399527],\n",
              "       [ 1.92653106, -0.5243832 ,  0.93399527],\n",
              "       [-0.57519166, -1.05918462, -1.06371684],\n",
              "       [ 0.44402871,  0.01041821,  0.93399527],\n",
              "       [-1.40909923,  1.08002104, -1.06371684],\n",
              "       [-1.22378644,  0.54521962, -1.06371684],\n",
              "       [ 0.44402871,  0.01041821,  0.93399527],\n",
              "       [ 1.92653106, -0.5243832 ,  0.93399527],\n",
              "       [ 0.16605952,  0.54521962,  0.93399527],\n",
              "       [ 1.92653106, -0.5243832 ,  0.93399527],\n",
              "       [-0.57519166, -1.05918462, -1.06371684],\n",
              "       [ 1.18527988,  0.01041821,  0.93399527],\n",
              "       [ 1.18527988,  0.01041821,  0.93399527],\n",
              "       [-1.03847364,  0.01041821, -1.06371684],\n",
              "       [-1.40909923,  1.08002104, -1.06371684],\n",
              "       [ 0.44402871,  0.01041821,  0.93399527],\n",
              "       [ 0.44402871,  0.01041821,  0.93399527],\n",
              "       [ 1.92653106, -0.5243832 ,  0.93399527],\n",
              "       [ 0.16605952,  0.54521962,  0.93399527],\n",
              "       [-1.40909923,  1.08002104, -1.06371684],\n",
              "       [-1.40909923,  1.08002104, -1.06371684],\n",
              "       [-0.29722247, -1.59398603, -1.06371684],\n",
              "       [ 0.81465429, -0.5243832 ,  0.93399527],\n",
              "       [-0.29722247, -1.59398603, -1.06371684],\n",
              "       [ 1.92653106, -0.5243832 ,  0.93399527],\n",
              "       [-0.11190967,  2.14962386,  0.93399527],\n",
              "       [-1.40909923,  1.08002104, -1.06371684],\n",
              "       [ 0.44402871,  0.01041821,  0.93399527],\n",
              "       [-0.76050445, -0.5243832 , -1.06371684],\n",
              "       [-1.03847364,  0.01041821, -1.06371684],\n",
              "       [-0.11190967,  2.14962386,  0.93399527],\n",
              "       [ 0.16605952,  0.54521962,  0.93399527],\n",
              "       [ 0.44402871,  0.01041821,  0.93399527],\n",
              "       [ 0.81465429, -0.5243832 ,  0.93399527],\n",
              "       [-0.11190967,  2.14962386,  0.93399527],\n",
              "       [-0.29722247, -1.59398603, -1.06371684],\n",
              "       [ 0.81465429, -0.5243832 ,  0.93399527],\n",
              "       [ 0.16605952,  0.54521962,  0.93399527],\n",
              "       [-1.03847364,  0.01041821, -1.06371684],\n",
              "       [-0.57519166, -1.05918462, -1.06371684],\n",
              "       [ 1.92653106, -0.5243832 ,  0.93399527],\n",
              "       [-1.22378644,  0.54521962, -1.06371684],\n",
              "       [-0.11190967,  2.14962386,  0.93399527],\n",
              "       [ 0.81465429, -0.5243832 ,  0.93399527],\n",
              "       [-1.22378644,  0.54521962, -1.06371684],\n",
              "       [-0.57519166, -1.05918462, -1.06371684],\n",
              "       [-1.22378644,  0.54521962, -1.06371684],\n",
              "       [-1.03847364,  0.01041821, -1.06371684],\n",
              "       [ 0.16605952,  0.54521962,  0.93399527],\n",
              "       [ 0.81465429, -0.5243832 ,  0.93399527],\n",
              "       [-0.11190967,  2.14962386,  0.93399527],\n",
              "       [ 1.18527988,  0.01041821,  0.93399527],\n",
              "       [-0.29722247, -1.59398603, -1.06371684],\n",
              "       [-0.57519166, -1.05918462, -1.06371684],\n",
              "       [ 1.18527988,  0.01041821,  0.93399527],\n",
              "       [-0.57519166, -1.05918462, -1.06371684],\n",
              "       [-0.11190967,  2.14962386,  0.93399527],\n",
              "       [-0.29722247, -1.59398603, -1.06371684],\n",
              "       [ 1.92653106, -0.5243832 ,  0.93399527],\n",
              "       [-0.29722247, -1.59398603, -1.06371684],\n",
              "       [ 0.81465429, -0.5243832 ,  0.93399527],\n",
              "       [-0.11190967,  2.14962386,  0.93399527],\n",
              "       [ 1.92653106, -0.5243832 ,  0.93399527],\n",
              "       [ 0.16605952,  0.54521962,  0.93399527],\n",
              "       [-0.29722247, -1.59398603, -1.06371684],\n",
              "       [-0.11190967,  2.14962386,  0.93399527],\n",
              "       [-1.03847364,  0.01041821, -1.06371684],\n",
              "       [ 0.44402871,  0.01041821,  0.93399527],\n",
              "       [ 1.92653106, -0.5243832 ,  0.93399527],\n",
              "       [-0.11190967,  2.14962386,  0.93399527],\n",
              "       [-0.57519166, -1.05918462, -1.06371684],\n",
              "       [-1.22378644,  0.54521962, -1.06371684],\n",
              "       [-1.22378644,  0.54521962, -1.06371684],\n",
              "       [ 1.18527988,  0.01041821,  0.93399527],\n",
              "       [-0.57519166, -1.05918462, -1.06371684],\n",
              "       [ 0.16605952,  0.54521962,  0.93399527],\n",
              "       [-1.40909923,  1.08002104, -1.06371684],\n",
              "       [ 1.18527988,  0.01041821,  0.93399527],\n",
              "       [-0.11190967,  2.14962386,  0.93399527],\n",
              "       [-0.76050445, -0.5243832 , -1.06371684],\n",
              "       [-1.40909923,  1.08002104, -1.06371684],\n",
              "       [ 1.92653106, -0.5243832 ,  0.93399527],\n",
              "       [-1.03847364,  0.01041821, -1.06371684],\n",
              "       [-1.40909923,  1.08002104, -1.06371684],\n",
              "       [-1.40909923,  1.08002104, -1.06371684]])"
            ]
          },
          "metadata": {},
          "execution_count": 33
        }
      ]
    },
    {
      "cell_type": "markdown",
      "source": [
        "**Definición Modelo**"
      ],
      "metadata": {
        "id": "42oN4FXYznYS"
      }
    },
    {
      "cell_type": "code",
      "source": [
        "regressor = LinearRegression()"
      ],
      "metadata": {
        "id": "MNd1AViXYWCA"
      },
      "execution_count": 34,
      "outputs": []
    },
    {
      "cell_type": "markdown",
      "source": [
        "**Entrenamiento Modelo**"
      ],
      "metadata": {
        "id": "Hjim-shYzqDo"
      }
    },
    {
      "cell_type": "code",
      "source": [
        "regressor.fit(nuevo_x_train, y_train)"
      ],
      "metadata": {
        "id": "xevwore9YbH0",
        "colab": {
          "base_uri": "https://localhost:8080/",
          "height": 75
        },
        "outputId": "0506fb5d-b801-473c-d0c5-0dface75412c"
      },
      "execution_count": 35,
      "outputs": [
        {
          "output_type": "execute_result",
          "data": {
            "text/plain": [
              "LinearRegression()"
            ],
            "text/html": [
              "<style>#sk-container-id-1 {color: black;background-color: white;}#sk-container-id-1 pre{padding: 0;}#sk-container-id-1 div.sk-toggleable {background-color: white;}#sk-container-id-1 label.sk-toggleable__label {cursor: pointer;display: block;width: 100%;margin-bottom: 0;padding: 0.3em;box-sizing: border-box;text-align: center;}#sk-container-id-1 label.sk-toggleable__label-arrow:before {content: \"▸\";float: left;margin-right: 0.25em;color: #696969;}#sk-container-id-1 label.sk-toggleable__label-arrow:hover:before {color: black;}#sk-container-id-1 div.sk-estimator:hover label.sk-toggleable__label-arrow:before {color: black;}#sk-container-id-1 div.sk-toggleable__content {max-height: 0;max-width: 0;overflow: hidden;text-align: left;background-color: #f0f8ff;}#sk-container-id-1 div.sk-toggleable__content pre {margin: 0.2em;color: black;border-radius: 0.25em;background-color: #f0f8ff;}#sk-container-id-1 input.sk-toggleable__control:checked~div.sk-toggleable__content {max-height: 200px;max-width: 100%;overflow: auto;}#sk-container-id-1 input.sk-toggleable__control:checked~label.sk-toggleable__label-arrow:before {content: \"▾\";}#sk-container-id-1 div.sk-estimator input.sk-toggleable__control:checked~label.sk-toggleable__label {background-color: #d4ebff;}#sk-container-id-1 div.sk-label input.sk-toggleable__control:checked~label.sk-toggleable__label {background-color: #d4ebff;}#sk-container-id-1 input.sk-hidden--visually {border: 0;clip: rect(1px 1px 1px 1px);clip: rect(1px, 1px, 1px, 1px);height: 1px;margin: -1px;overflow: hidden;padding: 0;position: absolute;width: 1px;}#sk-container-id-1 div.sk-estimator {font-family: monospace;background-color: #f0f8ff;border: 1px dotted black;border-radius: 0.25em;box-sizing: border-box;margin-bottom: 0.5em;}#sk-container-id-1 div.sk-estimator:hover {background-color: #d4ebff;}#sk-container-id-1 div.sk-parallel-item::after {content: \"\";width: 100%;border-bottom: 1px solid gray;flex-grow: 1;}#sk-container-id-1 div.sk-label:hover label.sk-toggleable__label {background-color: #d4ebff;}#sk-container-id-1 div.sk-serial::before {content: \"\";position: absolute;border-left: 1px solid gray;box-sizing: border-box;top: 0;bottom: 0;left: 50%;z-index: 0;}#sk-container-id-1 div.sk-serial {display: flex;flex-direction: column;align-items: center;background-color: white;padding-right: 0.2em;padding-left: 0.2em;position: relative;}#sk-container-id-1 div.sk-item {position: relative;z-index: 1;}#sk-container-id-1 div.sk-parallel {display: flex;align-items: stretch;justify-content: center;background-color: white;position: relative;}#sk-container-id-1 div.sk-item::before, #sk-container-id-1 div.sk-parallel-item::before {content: \"\";position: absolute;border-left: 1px solid gray;box-sizing: border-box;top: 0;bottom: 0;left: 50%;z-index: -1;}#sk-container-id-1 div.sk-parallel-item {display: flex;flex-direction: column;z-index: 1;position: relative;background-color: white;}#sk-container-id-1 div.sk-parallel-item:first-child::after {align-self: flex-end;width: 50%;}#sk-container-id-1 div.sk-parallel-item:last-child::after {align-self: flex-start;width: 50%;}#sk-container-id-1 div.sk-parallel-item:only-child::after {width: 0;}#sk-container-id-1 div.sk-dashed-wrapped {border: 1px dashed gray;margin: 0 0.4em 0.5em 0.4em;box-sizing: border-box;padding-bottom: 0.4em;background-color: white;}#sk-container-id-1 div.sk-label label {font-family: monospace;font-weight: bold;display: inline-block;line-height: 1.2em;}#sk-container-id-1 div.sk-label-container {text-align: center;}#sk-container-id-1 div.sk-container {/* jupyter's `normalize.less` sets `[hidden] { display: none; }` but bootstrap.min.css set `[hidden] { display: none !important; }` so we also need the `!important` here to be able to override the default hidden behavior on the sphinx rendered scikit-learn.org. See: https://github.com/scikit-learn/scikit-learn/issues/21755 */display: inline-block !important;position: relative;}#sk-container-id-1 div.sk-text-repr-fallback {display: none;}</style><div id=\"sk-container-id-1\" class=\"sk-top-container\"><div class=\"sk-text-repr-fallback\"><pre>LinearRegression()</pre><b>In a Jupyter environment, please rerun this cell to show the HTML representation or trust the notebook. <br />On GitHub, the HTML representation is unable to render, please try loading this page with nbviewer.org.</b></div><div class=\"sk-container\" hidden><div class=\"sk-item\"><div class=\"sk-estimator sk-toggleable\"><input class=\"sk-toggleable__control sk-hidden--visually\" id=\"sk-estimator-id-1\" type=\"checkbox\" checked><label for=\"sk-estimator-id-1\" class=\"sk-toggleable__label sk-toggleable__label-arrow\">LinearRegression</label><div class=\"sk-toggleable__content\"><pre>LinearRegression()</pre></div></div></div></div></div>"
            ]
          },
          "metadata": {},
          "execution_count": 35
        }
      ]
    },
    {
      "cell_type": "markdown",
      "source": [
        "**Predicción Resultados**"
      ],
      "metadata": {
        "id": "oxSMpghwzscT"
      }
    },
    {
      "cell_type": "code",
      "source": [
        "y_pred = regressor.predict(nuevo_x_test)"
      ],
      "metadata": {
        "id": "wV0XpM_Xk347"
      },
      "execution_count": 36,
      "outputs": []
    },
    {
      "cell_type": "code",
      "source": [
        "print('ENERGY EFFICIENCY DATASET - Y PREDICTIONS: \\n', y_pred)"
      ],
      "metadata": {
        "id": "br7-6PFZ0FRn",
        "colab": {
          "base_uri": "https://localhost:8080/"
        },
        "outputId": "401cc836-ddde-4d85-882b-9be3b4dfe2d8"
      },
      "execution_count": 37,
      "outputs": [
        {
          "output_type": "stream",
          "name": "stdout",
          "text": [
            "ENERGY EFFICIENCY DATASET - Y PREDICTIONS: \n",
            " [13.37131441  9.87290434 31.69834335 30.49587403 27.87643218 29.62389093\n",
            " 27.87643218 30.49587403 29.18440682 30.49587403 11.07537366 31.69834335\n",
            " 13.37131441 31.69834335 31.69834335 29.18440682 11.07537366 29.62389093\n",
            " 15.55825727 11.07537366 12.16884509 27.87643218 11.07537366 31.69834335\n",
            "  9.87290434 11.07537366 15.55825727  9.87290434 11.07537366 31.69834335\n",
            " 15.55825727 13.37131441 31.69834335 13.37131441 27.87643218 34.65176399\n",
            "  9.87290434 34.65176399 15.55825727 14.46478584 13.37131441 31.69834335\n",
            " 12.16884509 30.49587403 29.18440682 27.87643218 11.07537366 12.16884509\n",
            " 29.62389093 29.18440682 27.87643218 15.55825727 34.65176399 13.37131441\n",
            " 34.65176399  9.87290434 27.87643218 30.49587403 31.69834335 12.16884509\n",
            " 13.37131441 11.07537366 27.87643218  9.87290434 11.07537366  9.87290434\n",
            " 31.69834335 12.16884509 29.18440682 31.69834335 27.87643218 11.07537366\n",
            " 30.49587403 15.55825727 14.46478584 30.49587403 27.87643218 31.69834335\n",
            " 27.87643218 11.07537366 29.62389093 29.62389093 13.37131441 15.55825727\n",
            " 30.49587403 30.49587403 27.87643218 31.69834335 15.55825727 15.55825727\n",
            "  9.87290434 29.18440682  9.87290434 27.87643218 34.65176399 15.55825727\n",
            " 30.49587403 12.16884509 13.37131441 34.65176399 31.69834335 30.49587403\n",
            " 29.18440682 34.65176399  9.87290434 29.18440682 31.69834335 13.37131441\n",
            " 11.07537366 27.87643218 14.46478584 34.65176399 29.18440682 14.46478584\n",
            " 11.07537366 14.46478584 13.37131441 31.69834335 29.18440682 34.65176399\n",
            " 29.62389093  9.87290434 11.07537366 29.62389093 11.07537366 34.65176399\n",
            "  9.87290434 27.87643218  9.87290434 29.18440682 34.65176399 27.87643218\n",
            " 31.69834335  9.87290434 34.65176399 13.37131441 30.49587403 27.87643218\n",
            " 34.65176399 11.07537366 14.46478584 14.46478584 29.62389093 11.07537366\n",
            " 31.69834335 15.55825727 29.62389093 34.65176399 12.16884509 15.55825727\n",
            " 27.87643218 13.37131441 15.55825727 15.55825727]\n"
          ]
        }
      ]
    },
    {
      "cell_type": "markdown",
      "source": [
        "**Evaluación Modelo**"
      ],
      "metadata": {
        "id": "pFBRmeS30Ww6"
      }
    },
    {
      "cell_type": "code",
      "source": [
        "from sklearn.metrics import mean_squared_error"
      ],
      "metadata": {
        "id": "ep0ewgka0dIS"
      },
      "execution_count": 38,
      "outputs": []
    },
    {
      "cell_type": "markdown",
      "source": [
        "Mean Squared Error (Ver referencia: [mean_squared_error](https://scikit-learn.org/stable/modules/generated/sklearn.metrics.mean_squared_error.html))"
      ],
      "metadata": {
        "id": "bzRDEuw-zDuL"
      }
    },
    {
      "cell_type": "code",
      "source": [
        "print('ENERGY EFFICIENCY DATASET - MEAN SQUARED ERROR: ', mean_squared_error(y_test, y_pred))"
      ],
      "metadata": {
        "id": "JhTbrMB6kv7i",
        "colab": {
          "base_uri": "https://localhost:8080/"
        },
        "outputId": "a4dfe2c1-4ac1-49e1-ef63-09ee63ce8ba5"
      },
      "execution_count": 39,
      "outputs": [
        {
          "output_type": "stream",
          "name": "stdout",
          "text": [
            "ENERGY EFFICIENCY DATASET - MEAN SQUARED ERROR:  19.298038089950186\n"
          ]
        }
      ]
    },
    {
      "cell_type": "markdown",
      "source": [
        "Coeficientes Regressor (Ver referencia: [regressor.coef_ property](https://scikit-learn.org/stable/tutorial/statistical_inference/supervised_learning.html#linear-regression))"
      ],
      "metadata": {
        "id": "iIsQtPQN1aSh"
      }
    },
    {
      "cell_type": "code",
      "source": [
        "regressor.coef_"
      ],
      "metadata": {
        "id": "L6btZNxym7YA",
        "colab": {
          "base_uri": "https://localhost:8080/"
        },
        "outputId": "950f70af-a63a-4127-88ee-e6c2fc3bc06b"
      },
      "execution_count": 40,
      "outputs": [
        {
          "output_type": "execute_result",
          "data": {
            "text/plain": [
              "array([-1.17636656,  1.63701074,  9.44506756])"
            ]
          },
          "metadata": {},
          "execution_count": 40
        }
      ]
    },
    {
      "cell_type": "markdown",
      "source": [
        "Score de Evaluación"
      ],
      "metadata": {
        "id": "ca65Mxeg1kVc"
      }
    },
    {
      "cell_type": "code",
      "source": [
        "regressor.score(nuevo_x_test, y_test)"
      ],
      "metadata": {
        "id": "nZQ4HH0uZYKu",
        "colab": {
          "base_uri": "https://localhost:8080/"
        },
        "outputId": "bd824753-db50-4c1c-f9bd-0e7342e6e4c2"
      },
      "execution_count": 41,
      "outputs": [
        {
          "output_type": "execute_result",
          "data": {
            "text/plain": [
              "0.8252405170314361"
            ]
          },
          "metadata": {},
          "execution_count": 41
        }
      ]
    },
    {
      "cell_type": "markdown",
      "source": [
        "Ver ejemplo para balancear dataset"
      ],
      "metadata": {
        "id": "Pzcc3bwy9lD0"
      }
    },
    {
      "cell_type": "code",
      "source": [
        "from imblearn.over_sampling import RandomOverSampler\n",
        "from collections import Counter\n",
        "over_sampler = RandomOverSampler(random_state=42)\n",
        "x_res_over_sampler, y_res_over_sampler = over_sampler.fit_resample(x_train, y_train)\n",
        "print(f\"Training target statistics: {Counter(y_res_over_sampler)}\")\n",
        "print(f\"Testing target statistics: {Counter(y_test)}\")\n",
        "classes = y_res_over_sampler\n",
        "unique, counts = np.unique(classes, return_counts=True)\n",
        "plt.bar(unique,counts)\n",
        "plt.title('Class Frequency')\n",
        "plt.xlabel('Class')\n",
        "plt.ylabel('Frequency')\n",
        "plt.show()\n",
        "from imblearn.under_sampling import RandomUnderSampler\n",
        "under_sampler = RandomUnderSampler(random_state=42)\n",
        "x_res_under_sampler, y_res_under_sampler = under_sampler.fit_resample(x_train, y_train)\n",
        "print(f\"Training target statistics: {Counter(y_res)}\")\n",
        "print(f\"Testing target statistics: {Counter(y_test)}\")\n",
        "classes = y_res_under_sampler\n",
        "unique, counts = np.unique(classes, return_counts=True)\n",
        "plt.bar(unique,counts)\n",
        "plt.title('Class Frequency')\n",
        "plt.xlabel('Class')\n",
        "plt.ylabel('Frequency')\n",
        "plt.show()"
      ],
      "metadata": {
        "id": "6JVIfoSU9heY"
      },
      "execution_count": null,
      "outputs": []
    }
  ]
}