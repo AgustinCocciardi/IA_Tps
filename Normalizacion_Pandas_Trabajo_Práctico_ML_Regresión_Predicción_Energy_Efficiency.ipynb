{
  "nbformat": 4,
  "nbformat_minor": 0,
  "metadata": {
    "colab": {
      "provenance": [],
      "collapsed_sections": [
        "B8Od8ogkXEGV"
      ],
      "include_colab_link": true
    },
    "kernelspec": {
      "name": "python3",
      "display_name": "Python 3"
    },
    "language_info": {
      "name": "python"
    },
    "accelerator": "GPU"
  },
  "cells": [
    {
      "cell_type": "markdown",
      "metadata": {
        "id": "view-in-github",
        "colab_type": "text"
      },
      "source": [
        "<a href=\"https://colab.research.google.com/github/AgustinCocciardi/IA_Tps/blob/main/Normalizacion_Pandas_Trabajo_Pr%C3%A1ctico_ML_Regresi%C3%B3n_Predicci%C3%B3n_Energy_Efficiency.ipynb\" target=\"_parent\"><img src=\"https://colab.research.google.com/assets/colab-badge.svg\" alt=\"Open In Colab\"/></a>"
      ]
    },
    {
      "cell_type": "markdown",
      "source": [
        "# Trabajo Práctico ML - Regresión Lineal - Predicción - Eficiencia Energética\n",
        "\n",
        "---\n",
        "\n"
      ],
      "metadata": {
        "id": "B8Od8ogkXEGV"
      }
    },
    {
      "cell_type": "markdown",
      "source": [
        "Este dataset lo obtuvimos del repositorio de aprendizaje automático de UCI.\n",
        "https://archive.ics.uci.edu/ml/datasets/energy+efficiency\n",
        "\n",
        "Este estudio analizó la evaluación de los requisitos de carga de calefacción y carga de refrigeración de los edificios (es decir, la eficiencia energética) en función de los parámetros del edificio.\n",
        "\n",
        "Realizamos análisis energéticos utilizando 12 formas de edificios diferentes. Los edificios se diferencian en cuanto a la superficie acristalada, la distribución de la superficie acristalada y la orientación, entre otros parámetros.\n",
        "\n",
        "Features:\n",
        "- Relative_Compactness\n",
        "- Surface_Area\n",
        "- Wall_Area\n",
        "- Roof_Area\n",
        "- Overall_Height\n",
        "- Orientation\n",
        "- Glazing_Area\n",
        "- Glazing_Area_Distribution\n",
        "\n",
        "Predict:\n",
        "Heating_Load\n",
        "Cooling_Load"
      ],
      "metadata": {
        "id": "H0Vhq9JzXQsS"
      }
    },
    {
      "cell_type": "markdown",
      "source": [
        "# Contenido Teórico y Práctico para Desarrollo del Trabajo Práctico"
      ],
      "metadata": {
        "id": "_0ku4_uKYse7"
      }
    },
    {
      "cell_type": "markdown",
      "source": [
        "**Importación Librerías**"
      ],
      "metadata": {
        "id": "LbNpFlX1r91H"
      }
    },
    {
      "cell_type": "code",
      "source": [
        "import numpy as np\n",
        "import pandas as pd\n",
        "import seaborn as sns\n",
        "import matplotlib.pyplot as plt\n",
        "from sklearn.linear_model import LinearRegression\n",
        "from sklearn.model_selection import train_test_split\n",
        "\n",
        "# LINK SKLEARN LINEAR REGRESSION: https://scikit-learn.org/stable/search.html?q=linear+regression"
      ],
      "metadata": {
        "id": "0NCr9Yt2TOTH"
      },
      "execution_count": 1,
      "outputs": []
    },
    {
      "cell_type": "markdown",
      "source": [
        "**Carga Dataset**"
      ],
      "metadata": {
        "id": "uUwe2HCrsKGO"
      }
    },
    {
      "cell_type": "code",
      "source": [
        "dataset = pd.read_csv('/content/03_Energy-Efficiency_Dataset.csv')"
      ],
      "metadata": {
        "id": "hPgg0FWsTmci"
      },
      "execution_count": 2,
      "outputs": []
    },
    {
      "cell_type": "markdown",
      "source": [
        "**Análisis Dataset**"
      ],
      "metadata": {
        "id": "dO1Cx1M1sdpH"
      }
    },
    {
      "cell_type": "code",
      "source": [
        "print('ENERGY EFFICIENCY DATASET - HEAD: \\n', dataset.head(5))"
      ],
      "metadata": {
        "id": "Ut6OInq0Tth_",
        "colab": {
          "base_uri": "https://localhost:8080/"
        },
        "outputId": "cab5c3a1-a8a2-41e6-a537-9bcc5f477587"
      },
      "execution_count": 3,
      "outputs": [
        {
          "output_type": "stream",
          "name": "stdout",
          "text": [
            "ENERGY EFFICIENCY DATASET - HEAD: \n",
            "    Relative_Compactness  Surface_Area  Wall_Area  Roof_Area  Overall_Height  \\\n",
            "0                  0.98         514.5      294.0     110.25             7.0   \n",
            "1                  0.98         514.5      294.0     110.25             7.0   \n",
            "2                  0.98         514.5      294.0     110.25             7.0   \n",
            "3                  0.98         514.5      294.0     110.25             7.0   \n",
            "4                  0.90         563.5      318.5     122.50             7.0   \n",
            "\n",
            "   Orientation  Glazing_Area  Glazing_Area_Distribution  Heating_Load  \\\n",
            "0            2           0.0                          0         15.55   \n",
            "1            3           0.0                          0         15.55   \n",
            "2            4           0.0                          0         15.55   \n",
            "3            5           0.0                          0         15.55   \n",
            "4            2           0.0                          0         20.84   \n",
            "\n",
            "   Cooling_Load  \n",
            "0         21.33  \n",
            "1         21.33  \n",
            "2         21.33  \n",
            "3         21.33  \n",
            "4         28.28  \n"
          ]
        }
      ]
    },
    {
      "cell_type": "code",
      "source": [
        "print('ENERGY EFFICIENCY DATASET - SHAPE: ', dataset.shape)"
      ],
      "metadata": {
        "id": "f8m4ashrscgz",
        "colab": {
          "base_uri": "https://localhost:8080/"
        },
        "outputId": "4b72aeb7-01b0-42bc-8433-01e5e4c3b9c5"
      },
      "execution_count": 4,
      "outputs": [
        {
          "output_type": "stream",
          "name": "stdout",
          "text": [
            "ENERGY EFFICIENCY DATASET - SHAPE:  (768, 10)\n"
          ]
        }
      ]
    },
    {
      "cell_type": "code",
      "source": [
        "print('ENERGY EFFICIENCY DATASET - INFO: \\n', dataset.info())"
      ],
      "metadata": {
        "id": "NY4stKwVso12",
        "colab": {
          "base_uri": "https://localhost:8080/"
        },
        "outputId": "f143e3c6-83fb-4376-fdd4-7a78bf8a1cb4"
      },
      "execution_count": 5,
      "outputs": [
        {
          "output_type": "stream",
          "name": "stdout",
          "text": [
            "<class 'pandas.core.frame.DataFrame'>\n",
            "RangeIndex: 768 entries, 0 to 767\n",
            "Data columns (total 10 columns):\n",
            " #   Column                     Non-Null Count  Dtype  \n",
            "---  ------                     --------------  -----  \n",
            " 0   Relative_Compactness       768 non-null    float64\n",
            " 1   Surface_Area               768 non-null    float64\n",
            " 2   Wall_Area                  768 non-null    float64\n",
            " 3   Roof_Area                  768 non-null    float64\n",
            " 4   Overall_Height             768 non-null    float64\n",
            " 5   Orientation                768 non-null    int64  \n",
            " 6   Glazing_Area               768 non-null    float64\n",
            " 7   Glazing_Area_Distribution  768 non-null    int64  \n",
            " 8   Heating_Load               768 non-null    float64\n",
            " 9   Cooling_Load               768 non-null    float64\n",
            "dtypes: float64(8), int64(2)\n",
            "memory usage: 60.1 KB\n",
            "ENERGY EFFICIENCY DATASET - INFO: \n",
            " None\n"
          ]
        }
      ]
    },
    {
      "cell_type": "code",
      "source": [
        "print('ENERGY EFFICIENCY DATASET - STATISTICS: \\n', dataset.describe())"
      ],
      "metadata": {
        "id": "kbVdzkujsrMY",
        "colab": {
          "base_uri": "https://localhost:8080/"
        },
        "outputId": "c8f66ddd-1cf5-4d2b-cb56-4edf8911fa63"
      },
      "execution_count": 6,
      "outputs": [
        {
          "output_type": "stream",
          "name": "stdout",
          "text": [
            "ENERGY EFFICIENCY DATASET - STATISTICS: \n",
            "        Relative_Compactness  Surface_Area   Wall_Area   Roof_Area  \\\n",
            "count            768.000000    768.000000  768.000000  768.000000   \n",
            "mean               0.764167    671.708333  318.500000  176.604167   \n",
            "std                0.105777     88.086116   43.626481   45.165950   \n",
            "min                0.620000    514.500000  245.000000  110.250000   \n",
            "25%                0.682500    606.375000  294.000000  140.875000   \n",
            "50%                0.750000    673.750000  318.500000  183.750000   \n",
            "75%                0.830000    741.125000  343.000000  220.500000   \n",
            "max                0.980000    808.500000  416.500000  220.500000   \n",
            "\n",
            "       Overall_Height  Orientation  Glazing_Area  Glazing_Area_Distribution  \\\n",
            "count       768.00000   768.000000    768.000000                  768.00000   \n",
            "mean          5.25000     3.500000      0.234375                    2.81250   \n",
            "std           1.75114     1.118763      0.133221                    1.55096   \n",
            "min           3.50000     2.000000      0.000000                    0.00000   \n",
            "25%           3.50000     2.750000      0.100000                    1.75000   \n",
            "50%           5.25000     3.500000      0.250000                    3.00000   \n",
            "75%           7.00000     4.250000      0.400000                    4.00000   \n",
            "max           7.00000     5.000000      0.400000                    5.00000   \n",
            "\n",
            "       Heating_Load  Cooling_Load  \n",
            "count    768.000000    768.000000  \n",
            "mean      22.307201     24.587760  \n",
            "std       10.090196      9.513306  \n",
            "min        6.010000     10.900000  \n",
            "25%       12.992500     15.620000  \n",
            "50%       18.950000     22.080000  \n",
            "75%       31.667500     33.132500  \n",
            "max       43.100000     48.030000  \n"
          ]
        }
      ]
    },
    {
      "cell_type": "markdown",
      "source": [
        "**Análisis Datos**"
      ],
      "metadata": {
        "id": "WnFUvM0as4a1"
      }
    },
    {
      "cell_type": "markdown",
      "source": [
        "Coeficientes Correlación (Ver referencia: [correlation matrix](https://www.geeksforgeeks.org/create-a-correlation-matrix-using-python/))\n",
        "Un coeficiente de correlación (normalmente denominado r) es un número único que describe el alcance de la relación lineal entre dos variables. Un valor de +1 indica una linealidad perfecta (las dos variables se mueven juntas, como \"altura en pulgadas\" y \"altura en centímetros\"). Un valor de r = 0 indica que no hay correlación (las variables son independientes) y r = -1 indica que las variables están inversamente correlacionadas (un aumento en una variable se asocia con una disminución en la otra)."
      ],
      "metadata": {
        "id": "4tEpEVHSQ027"
      }
    },
    {
      "cell_type": "code",
      "source": [
        "cormat = dataset.corr()\n",
        "print('ENERGY EFFICIENCY DATASET - CORRELATION MATRIX: \\n', round(cormat,2))\n",
        "sns.heatmap(cormat);"
      ],
      "metadata": {
        "id": "zqDM-UVSQxOO",
        "colab": {
          "base_uri": "https://localhost:8080/",
          "height": 1000
        },
        "outputId": "ff49f820-d619-4176-e6cd-3b44dd756bb3"
      },
      "execution_count": 7,
      "outputs": [
        {
          "output_type": "stream",
          "name": "stdout",
          "text": [
            "ENERGY EFFICIENCY DATASET - CORRELATION MATRIX: \n",
            "                            Relative_Compactness  Surface_Area  Wall_Area  \\\n",
            "Relative_Compactness                       1.00         -0.99      -0.20   \n",
            "Surface_Area                              -0.99          1.00       0.20   \n",
            "Wall_Area                                 -0.20          0.20       1.00   \n",
            "Roof_Area                                 -0.87          0.88      -0.29   \n",
            "Overall_Height                             0.83         -0.86       0.28   \n",
            "Orientation                                0.00         -0.00      -0.00   \n",
            "Glazing_Area                              -0.00          0.00      -0.00   \n",
            "Glazing_Area_Distribution                 -0.00          0.00       0.00   \n",
            "Heating_Load                               0.62         -0.66       0.46   \n",
            "Cooling_Load                               0.63         -0.67       0.43   \n",
            "\n",
            "                           Roof_Area  Overall_Height  Orientation  \\\n",
            "Relative_Compactness           -0.87            0.83         0.00   \n",
            "Surface_Area                    0.88           -0.86        -0.00   \n",
            "Wall_Area                      -0.29            0.28        -0.00   \n",
            "Roof_Area                       1.00           -0.97        -0.00   \n",
            "Overall_Height                 -0.97            1.00         0.00   \n",
            "Orientation                    -0.00            0.00         1.00   \n",
            "Glazing_Area                   -0.00            0.00        -0.00   \n",
            "Glazing_Area_Distribution      -0.00           -0.00        -0.00   \n",
            "Heating_Load                   -0.86            0.89        -0.00   \n",
            "Cooling_Load                   -0.86            0.90         0.01   \n",
            "\n",
            "                           Glazing_Area  Glazing_Area_Distribution  \\\n",
            "Relative_Compactness              -0.00                      -0.00   \n",
            "Surface_Area                       0.00                       0.00   \n",
            "Wall_Area                         -0.00                       0.00   \n",
            "Roof_Area                         -0.00                      -0.00   \n",
            "Overall_Height                     0.00                      -0.00   \n",
            "Orientation                       -0.00                      -0.00   \n",
            "Glazing_Area                       1.00                       0.21   \n",
            "Glazing_Area_Distribution          0.21                       1.00   \n",
            "Heating_Load                       0.27                       0.09   \n",
            "Cooling_Load                       0.21                       0.05   \n",
            "\n",
            "                           Heating_Load  Cooling_Load  \n",
            "Relative_Compactness               0.62          0.63  \n",
            "Surface_Area                      -0.66         -0.67  \n",
            "Wall_Area                          0.46          0.43  \n",
            "Roof_Area                         -0.86         -0.86  \n",
            "Overall_Height                     0.89          0.90  \n",
            "Orientation                       -0.00          0.01  \n",
            "Glazing_Area                       0.27          0.21  \n",
            "Glazing_Area_Distribution          0.09          0.05  \n",
            "Heating_Load                       1.00          0.98  \n",
            "Cooling_Load                       0.98          1.00  \n"
          ]
        },
        {
          "output_type": "display_data",
          "data": {
            "text/plain": [
              "<Figure size 640x480 with 2 Axes>"
            ],
            "image/png": "[encoded data removed]"
          },
          "metadata": {}
        }
      ]
    },
    {
      "cell_type": "markdown",
      "source": [
        "Visualización de Relación Lineal entre Pares de Features"
      ],
      "metadata": {
        "id": "aw2AJ4PKSOr7"
      }
    },
    {
      "cell_type": "code",
      "source": [
        "sns.pairplot(dataset[[\n",
        "'Relative_Compactness',\n",
        "'Surface_Area',\n",
        "'Wall_Area',\n",
        "'Roof_Area',\n",
        "'Overall_Height',\n",
        "'Orientation',\n",
        "'Glazing_Area',\n",
        "'Glazing_Area_Distribution',\n",
        "'Heating_Load',\n",
        "'Cooling_Load',\n",
        " ]]);"
      ],
      "metadata": {
        "id": "CjGzod_nSLx3"
      },
      "execution_count": null,
      "outputs": []
    },
    {
      "cell_type": "markdown",
      "source": [
        "Otra técnica utilizada para identificar relación entre features para seleccionar las más relevantes podemos investigar [mutual_info de scikit learn](https://scikit-learn.org/stable/modules/generated/sklearn.feature_selection.mutual_info_regression.html#sklearn.feature_selection.mutual_info_regression) y [ejemplo](https://guhanesvar.medium.com/feature-selection-based-on-mutual-information-gain-for-classification-and-regression-d0f86ea5262a)"
      ],
      "metadata": {
        "id": "oERQ9wu_0QYV"
      }
    },
    {
      "cell_type": "code",
      "source": [
        "x = dataset.drop(labels=['Heating_Load','Cooling_Load'], axis=1)\n",
        "x"
      ],
      "metadata": {
        "id": "tQkP29Q81WKv",
        "colab": {
          "base_uri": "https://localhost:8080/",
          "height": 424
        },
        "outputId": "019ea32d-b20c-413e-bf02-a0609e81a7a4"
      },
      "execution_count": 8,
      "outputs": [
        {
          "output_type": "execute_result",
          "data": {
            "text/plain": [
              "     Relative_Compactness  Surface_Area  Wall_Area  Roof_Area  Overall_Height  \\\n",
              "0                    0.98         514.5      294.0     110.25             7.0   \n",
              "1                    0.98         514.5      294.0     110.25             7.0   \n",
              "2                    0.98         514.5      294.0     110.25             7.0   \n",
              "3                    0.98         514.5      294.0     110.25             7.0   \n",
              "4                    0.90         563.5      318.5     122.50             7.0   \n",
              "..                    ...           ...        ...        ...             ...   \n",
              "763                  0.64         784.0      343.0     220.50             3.5   \n",
              "764                  0.62         808.5      367.5     220.50             3.5   \n",
              "765                  0.62         808.5      367.5     220.50             3.5   \n",
              "766                  0.62         808.5      367.5     220.50             3.5   \n",
              "767                  0.62         808.5      367.5     220.50             3.5   \n",
              "\n",
              "     Orientation  Glazing_Area  Glazing_Area_Distribution  \n",
              "0              2           0.0                          0  \n",
              "1              3           0.0                          0  \n",
              "2              4           0.0                          0  \n",
              "3              5           0.0                          0  \n",
              "4              2           0.0                          0  \n",
              "..           ...           ...                        ...  \n",
              "763            5           0.4                          5  \n",
              "764            2           0.4                          5  \n",
              "765            3           0.4                          5  \n",
              "766            4           0.4                          5  \n",
              "767            5           0.4                          5  \n",
              "\n",
              "[768 rows x 8 columns]"
            ],
            "text/html": [
              "\n",
              "  <div id=\"df-3b8b56c0-1f0f-4a1a-8f6c-2554abbf9246\" class=\"colab-df-container\">\n",
              "    <div>\n",
              "<style scoped>\n",
              "    .dataframe tbody tr th:only-of-type {\n",
              "        vertical-align: middle;\n",
              "    }\n",
              "\n",
              "    .dataframe tbody tr th {\n",
              "        vertical-align: top;\n",
              "    }\n",
              "\n",
              "    .dataframe thead th {\n",
              "        text-align: right;\n",
              "    }\n",
              "</style>\n",
              "<table border=\"1\" class=\"dataframe\">\n",
              "  <thead>\n",
              "    <tr style=\"text-align: right;\">\n",
              "      <th></th>\n",
              "      <th>Relative_Compactness</th>\n",
              "      <th>Surface_Area</th>\n",
              "      <th>Wall_Area</th>\n",
              "      <th>Roof_Area</th>\n",
              "      <th>Overall_Height</th>\n",
              "      <th>Orientation</th>\n",
              "      <th>Glazing_Area</th>\n",
              "      <th>Glazing_Area_Distribution</th>\n",
              "    </tr>\n",
              "  </thead>\n",
              "  <tbody>\n",
              "    <tr>\n",
              "      <th>0</th>\n",
              "      <td>0.98</td>\n",
              "      <td>514.5</td>\n",
              "      <td>294.0</td>\n",
              "      <td>110.25</td>\n",
              "      <td>7.0</td>\n",
              "      <td>2</td>\n",
              "      <td>0.0</td>\n",
              "      <td>0</td>\n",
              "    </tr>\n",
              "    <tr>\n",
              "      <th>1</th>\n",
              "      <td>0.98</td>\n",
              "      <td>514.5</td>\n",
              "      <td>294.0</td>\n",
              "      <td>110.25</td>\n",
              "      <td>7.0</td>\n",
              "      <td>3</td>\n",
              "      <td>0.0</td>\n",
              "      <td>0</td>\n",
              "    </tr>\n",
              "    <tr>\n",
              "      <th>2</th>\n",
              "      <td>0.98</td>\n",
              "      <td>514.5</td>\n",
              "      <td>294.0</td>\n",
              "      <td>110.25</td>\n",
              "      <td>7.0</td>\n",
              "      <td>4</td>\n",
              "      <td>0.0</td>\n",
              "      <td>0</td>\n",
              "    </tr>\n",
              "    <tr>\n",
              "      <th>3</th>\n",
              "      <td>0.98</td>\n",
              "      <td>514.5</td>\n",
              "      <td>294.0</td>\n",
              "      <td>110.25</td>\n",
              "      <td>7.0</td>\n",
              "      <td>5</td>\n",
              "      <td>0.0</td>\n",
              "      <td>0</td>\n",
              "    </tr>\n",
              "    <tr>\n",
              "      <th>4</th>\n",
              "      <td>0.90</td>\n",
              "      <td>563.5</td>\n",
              "      <td>318.5</td>\n",
              "      <td>122.50</td>\n",
              "      <td>7.0</td>\n",
              "      <td>2</td>\n",
              "      <td>0.0</td>\n",
              "      <td>0</td>\n",
              "    </tr>\n",
              "    <tr>\n",
              "      <th>...</th>\n",
              "      <td>...</td>\n",
              "      <td>...</td>\n",
              "      <td>...</td>\n",
              "      <td>...</td>\n",
              "      <td>...</td>\n",
              "      <td>...</td>\n",
              "      <td>...</td>\n",
              "      <td>...</td>\n",
              "    </tr>\n",
              "    <tr>\n",
              "      <th>763</th>\n",
              "      <td>0.64</td>\n",
              "      <td>784.0</td>\n",
              "      <td>343.0</td>\n",
              "      <td>220.50</td>\n",
              "      <td>3.5</td>\n",
              "      <td>5</td>\n",
              "      <td>0.4</td>\n",
              "      <td>5</td>\n",
              "    </tr>\n",
              "    <tr>\n",
              "      <th>764</th>\n",
              "      <td>0.62</td>\n",
              "      <td>808.5</td>\n",
              "      <td>367.5</td>\n",
              "      <td>220.50</td>\n",
              "      <td>3.5</td>\n",
              "      <td>2</td>\n",
              "      <td>0.4</td>\n",
              "      <td>5</td>\n",
              "    </tr>\n",
              "    <tr>\n",
              "      <th>765</th>\n",
              "      <td>0.62</td>\n",
              "      <td>808.5</td>\n",
              "      <td>367.5</td>\n",
              "      <td>220.50</td>\n",
              "      <td>3.5</td>\n",
              "      <td>3</td>\n",
              "      <td>0.4</td>\n",
              "      <td>5</td>\n",
              "    </tr>\n",
              "    <tr>\n",
              "      <th>766</th>\n",
              "      <td>0.62</td>\n",
              "      <td>808.5</td>\n",
              "      <td>367.5</td>\n",
              "      <td>220.50</td>\n",
              "      <td>3.5</td>\n",
              "      <td>4</td>\n",
              "      <td>0.4</td>\n",
              "      <td>5</td>\n",
              "    </tr>\n",
              "    <tr>\n",
              "      <th>767</th>\n",
              "      <td>0.62</td>\n",
              "      <td>808.5</td>\n",
              "      <td>367.5</td>\n",
              "      <td>220.50</td>\n",
              "      <td>3.5</td>\n",
              "      <td>5</td>\n",
              "      <td>0.4</td>\n",
              "      <td>5</td>\n",
              "    </tr>\n",
              "  </tbody>\n",
              "</table>\n",
              "<p>768 rows × 8 columns</p>\n",
              "</div>\n",
              "    <div class=\"colab-df-buttons\">\n",
              "\n",
              "  <div class=\"colab-df-container\">\n",
              "    <button class=\"colab-df-convert\" onclick=\"convertToInteractive('df-3b8b56c0-1f0f-4a1a-8f6c-2554abbf9246')\"\n",
              "            title=\"Convert this dataframe to an interactive table.\"\n",
              "            style=\"display:none;\">\n",
              "\n",
              "  <svg xmlns=\"http://www.w3.org/2000/svg\" height=\"24px\" viewBox=\"0 -960 960 960\">\n",
              "    <path d=\"M120-120v-720h720v720H120Zm60-500h600v-160H180v160Zm220 220h160v-160H400v160Zm0 220h160v-160H400v160ZM180-400h160v-160H180v160Zm440 0h160v-160H620v160ZM180-180h160v-160H180v160Zm440 0h160v-160H620v160Z\"/>\n",
              "  </svg>\n",
              "    </button>\n",
              "\n",
              "  <style>\n",
              "    .colab-df-container {\n",
              "      display:flex;\n",
              "      gap: 12px;\n",
              "    }\n",
              "\n",
              "    .colab-df-convert {\n",
              "      background-color: #E8F0FE;\n",
              "      border: none;\n",
              "      border-radius: 50%;\n",
              "      cursor: pointer;\n",
              "      display: none;\n",
              "      fill: #1967D2;\n",
              "      height: 32px;\n",
              "      padding: 0 0 0 0;\n",
              "      width: 32px;\n",
              "    }\n",
              "\n",
              "    .colab-df-convert:hover {\n",
              "      background-color: #E2EBFA;\n",
              "      box-shadow: 0px 1px 2px rgba(60, 64, 67, 0.3), 0px 1px 3px 1px rgba(60, 64, 67, 0.15);\n",
              "      fill: #174EA6;\n",
              "    }\n",
              "\n",
              "    .colab-df-buttons div {\n",
              "      margin-bottom: 4px;\n",
              "    }\n",
              "\n",
              "    [theme=dark] .colab-df-convert {\n",
              "      background-color: #3B4455;\n",
              "      fill: #D2E3FC;\n",
              "    }\n",
              "\n",
              "    [theme=dark] .colab-df-convert:hover {\n",
              "      background-color: #434B5C;\n",
              "      box-shadow: 0px 1px 3px 1px rgba(0, 0, 0, 0.15);\n",
              "      filter: drop-shadow(0px 1px 2px rgba(0, 0, 0, 0.3));\n",
              "      fill: #FFFFFF;\n",
              "    }\n",
              "  </style>\n",
              "\n",
              "    <script>\n",
              "      const buttonEl =\n",
              "        document.querySelector('#df-3b8b56c0-1f0f-4a1a-8f6c-2554abbf9246 button.colab-df-convert');\n",
              "      buttonEl.style.display =\n",
              "        google.colab.kernel.accessAllowed ? 'block' : 'none';\n",
              "\n",
              "      async function convertToInteractive(key) {\n",
              "        const element = document.querySelector('#df-3b8b56c0-1f0f-4a1a-8f6c-2554abbf9246');\n",
              "        const dataTable =\n",
              "          await google.colab.kernel.invokeFunction('convertToInteractive',\n",
              "                                                    [key], {});\n",
              "        if (!dataTable) return;\n",
              "\n",
              "        const docLinkHtml = 'Like what you see? Visit the ' +\n",
              "          '<a target=\"_blank\" href=https://colab.research.google.com/notebooks/data_table.ipynb>data table notebook</a>'\n",
              "          + ' to learn more about interactive tables.';\n",
              "        element.innerHTML = '';\n",
              "        dataTable['output_type'] = 'display_data';\n",
              "        await google.colab.output.renderOutput(dataTable, element);\n",
              "        const docLink = document.createElement('div');\n",
              "        docLink.innerHTML = docLinkHtml;\n",
              "        element.appendChild(docLink);\n",
              "      }\n",
              "    </script>\n",
              "  </div>\n",
              "\n",
              "\n",
              "<div id=\"df-7fc926cd-1f87-436c-ad47-b8a215fc2b64\">\n",
              "  <button class=\"colab-df-quickchart\" onclick=\"quickchart('df-7fc926cd-1f87-436c-ad47-b8a215fc2b64')\"\n",
              "            title=\"Suggest charts.\"\n",
              "            style=\"display:none;\">\n",
              "\n",
              "<svg xmlns=\"http://www.w3.org/2000/svg\" height=\"24px\"viewBox=\"0 0 24 24\"\n",
              "     width=\"24px\">\n",
              "    <g>\n",
              "        <path d=\"M19 3H5c-1.1 0-2 .9-2 2v14c0 1.1.9 2 2 2h14c1.1 0 2-.9 2-2V5c0-1.1-.9-2-2-2zM9 17H7v-7h2v7zm4 0h-2V7h2v10zm4 0h-2v-4h2v4z\"/>\n",
              "    </g>\n",
              "</svg>\n",
              "  </button>\n",
              "\n",
              "<style>\n",
              "  .colab-df-quickchart {\n",
              "      --bg-color: #E8F0FE;\n",
              "      --fill-color: #1967D2;\n",
              "      --hover-bg-color: #E2EBFA;\n",
              "      --hover-fill-color: #174EA6;\n",
              "      --disabled-fill-color: #AAA;\n",
              "      --disabled-bg-color: #DDD;\n",
              "  }\n",
              "\n",
              "  [theme=dark] .colab-df-quickchart {\n",
              "      --bg-color: #3B4455;\n",
              "      --fill-color: #D2E3FC;\n",
              "      --hover-bg-color: #434B5C;\n",
              "      --hover-fill-color: #FFFFFF;\n",
              "      --disabled-bg-color: #3B4455;\n",
              "      --disabled-fill-color: #666;\n",
              "  }\n",
              "\n",
              "  .colab-df-quickchart {\n",
              "    background-color: var(--bg-color);\n",
              "    border: none;\n",
              "    border-radius: 50%;\n",
              "    cursor: pointer;\n",
              "    display: none;\n",
              "    fill: var(--fill-color);\n",
              "    height: 32px;\n",
              "    padding: 0;\n",
              "    width: 32px;\n",
              "  }\n",
              "\n",
              "  .colab-df-quickchart:hover {\n",
              "    background-color: var(--hover-bg-color);\n",
              "    box-shadow: 0 1px 2px rgba(60, 64, 67, 0.3), 0 1px 3px 1px rgba(60, 64, 67, 0.15);\n",
              "    fill: var(--button-hover-fill-color);\n",
              "  }\n",
              "\n",
              "  .colab-df-quickchart-complete:disabled,\n",
              "  .colab-df-quickchart-complete:disabled:hover {\n",
              "    background-color: var(--disabled-bg-color);\n",
              "    fill: var(--disabled-fill-color);\n",
              "    box-shadow: none;\n",
              "  }\n",
              "\n",
              "  .colab-df-spinner {\n",
              "    border: 2px solid var(--fill-color);\n",
              "    border-color: transparent;\n",
              "    border-bottom-color: var(--fill-color);\n",
              "    animation:\n",
              "      spin 1s steps(1) infinite;\n",
              "  }\n",
              "\n",
              "  @keyframes spin {\n",
              "    0% {\n",
              "      border-color: transparent;\n",
              "      border-bottom-color: var(--fill-color);\n",
              "      border-left-color: var(--fill-color);\n",
              "    }\n",
              "    20% {\n",
              "      border-color: transparent;\n",
              "      border-left-color: var(--fill-color);\n",
              "      border-top-color: var(--fill-color);\n",
              "    }\n",
              "    30% {\n",
              "      border-color: transparent;\n",
              "      border-left-color: var(--fill-color);\n",
              "      border-top-color: var(--fill-color);\n",
              "      border-right-color: var(--fill-color);\n",
              "    }\n",
              "    40% {\n",
              "      border-color: transparent;\n",
              "      border-right-color: var(--fill-color);\n",
              "      border-top-color: var(--fill-color);\n",
              "    }\n",
              "    60% {\n",
              "      border-color: transparent;\n",
              "      border-right-color: var(--fill-color);\n",
              "    }\n",
              "    80% {\n",
              "      border-color: transparent;\n",
              "      border-right-color: var(--fill-color);\n",
              "      border-bottom-color: var(--fill-color);\n",
              "    }\n",
              "    90% {\n",
              "      border-color: transparent;\n",
              "      border-bottom-color: var(--fill-color);\n",
              "    }\n",
              "  }\n",
              "</style>\n",
              "\n",
              "  <script>\n",
              "    async function quickchart(key) {\n",
              "      const quickchartButtonEl =\n",
              "        document.querySelector('#' + key + ' button');\n",
              "      quickchartButtonEl.disabled = true;  // To prevent multiple clicks.\n",
              "      quickchartButtonEl.classList.add('colab-df-spinner');\n",
              "      try {\n",
              "        const charts = await google.colab.kernel.invokeFunction(\n",
              "            'suggestCharts', [key], {});\n",
              "      } catch (error) {\n",
              "        console.error('Error during call to suggestCharts:', error);\n",
              "      }\n",
              "      quickchartButtonEl.classList.remove('colab-df-spinner');\n",
              "      quickchartButtonEl.classList.add('colab-df-quickchart-complete');\n",
              "    }\n",
              "    (() => {\n",
              "      let quickchartButtonEl =\n",
              "        document.querySelector('#df-7fc926cd-1f87-436c-ad47-b8a215fc2b64 button');\n",
              "      quickchartButtonEl.style.display =\n",
              "        google.colab.kernel.accessAllowed ? 'block' : 'none';\n",
              "    })();\n",
              "  </script>\n",
              "</div>\n",
              "    </div>\n",
              "  </div>\n"
            ]
          },
          "metadata": {},
          "execution_count": 8
        }
      ]
    },
    {
      "cell_type": "code",
      "source": [
        "y = dataset['Heating_Load']\n",
        "y"
      ],
      "metadata": {
        "id": "VEbLOjuq1WKv",
        "colab": {
          "base_uri": "https://localhost:8080/"
        },
        "outputId": "b3aa6817-2216-415a-f306-770201d9dbca"
      },
      "execution_count": 9,
      "outputs": [
        {
          "output_type": "execute_result",
          "data": {
            "text/plain": [
              "0      15.55\n",
              "1      15.55\n",
              "2      15.55\n",
              "3      15.55\n",
              "4      20.84\n",
              "       ...  \n",
              "763    17.88\n",
              "764    16.54\n",
              "765    16.44\n",
              "766    16.48\n",
              "767    16.64\n",
              "Name: Heating_Load, Length: 768, dtype: float64"
            ]
          },
          "metadata": {},
          "execution_count": 9
        }
      ]
    },
    {
      "cell_type": "code",
      "source": [
        "x_train_features, x_test_features, y_train_features, y_test_features = train_test_split(x, y, test_size=0.2, random_state=0, shuffle=True)"
      ],
      "metadata": {
        "id": "P0TI6SLO1WKw"
      },
      "execution_count": 10,
      "outputs": []
    },
    {
      "cell_type": "code",
      "source": [
        "from sklearn.feature_selection import mutual_info_regression\n",
        "mutual_info = mutual_info_regression(x_train_features, y_train_features)\n",
        "print('ENERGY EFFICIENCY DATASET - FEATURE COLS - MUTUAL INFO: \\n', mutual_info)"
      ],
      "metadata": {
        "id": "jKfgQi301WKw",
        "colab": {
          "base_uri": "https://localhost:8080/"
        },
        "outputId": "e56cad6c-2a0e-4137-baca-2adb76e992db"
      },
      "execution_count": 11,
      "outputs": [
        {
          "output_type": "stream",
          "name": "stdout",
          "text": [
            "ENERGY EFFICIENCY DATASET - FEATURE COLS - MUTUAL INFO: \n",
            " [1.63066555 1.63324608 1.04010841 0.86197343 0.65035491 0.\n",
            " 0.66074923 0.16555892]\n"
          ]
        }
      ]
    },
    {
      "cell_type": "code",
      "source": [
        "mutual_info = pd.Series(mutual_info)\n",
        "mutual_info.index = x_train_features.columns\n",
        "mutual_info.sort_values(ascending=False)"
      ],
      "metadata": {
        "id": "k4Jz_MG-1WKw",
        "colab": {
          "base_uri": "https://localhost:8080/"
        },
        "outputId": "d7c90732-cc40-45f9-dde5-ef361778bb74"
      },
      "execution_count": 12,
      "outputs": [
        {
          "output_type": "execute_result",
          "data": {
            "text/plain": [
              "Surface_Area                 1.633246\n",
              "Relative_Compactness         1.630666\n",
              "Wall_Area                    1.040108\n",
              "Roof_Area                    0.861973\n",
              "Glazing_Area                 0.660749\n",
              "Overall_Height               0.650355\n",
              "Glazing_Area_Distribution    0.165559\n",
              "Orientation                  0.000000\n",
              "dtype: float64"
            ]
          },
          "metadata": {},
          "execution_count": 12
        }
      ]
    },
    {
      "cell_type": "code",
      "source": [
        "mutual_info.sort_values(ascending=False).plot.bar(figsize=(15,5))"
      ],
      "metadata": {
        "id": "FZZbFjJh1WKx",
        "colab": {
          "base_uri": "https://localhost:8080/",
          "height": 628
        },
        "outputId": "774ad906-8462-411b-cead-d04d52e23239"
      },
      "execution_count": 13,
      "outputs": [
        {
          "output_type": "execute_result",
          "data": {
            "text/plain": [
              "<Axes: >"
            ]
          },
          "metadata": {},
          "execution_count": 13
        },
        {
          "output_type": "display_data",
          "data": {
            "text/plain": [
              "<Figure size 1500x500 with 1 Axes>"
            ],
            "image/png": "[encoded data removed]"
          },
          "metadata": {}
        }
      ]
    },
    {
      "cell_type": "markdown",
      "source": [
        "**Determinación Features Cols**"
      ],
      "metadata": {
        "id": "hBw4C6o9t66q"
      }
    },
    {
      "cell_type": "code",
      "source": [
        "feature_cols = [\n",
        "'Cooling_Load',\n",
        "'Roof_Area',\n",
        "'Overall_Height']\n",
        "x = dataset[feature_cols]\n",
        "print('ENERGY EFFICIENCY DATASET - X (FEATURES COLS): \\n', x)\n",
        "y = dataset.Heating_Load\n",
        "print('ENERGY EFFICIENCY DATASET - Y (PREDICTION LABEL): \\n', y)"
      ],
      "metadata": {
        "id": "ZulA5udzVSDm",
        "colab": {
          "base_uri": "https://localhost:8080/"
        },
        "outputId": "440e5040-0321-4db8-df64-98dcee264735"
      },
      "execution_count": 14,
      "outputs": [
        {
          "output_type": "stream",
          "name": "stdout",
          "text": [
            "ENERGY EFFICIENCY DATASET - X (FEATURES COLS): \n",
            "      Cooling_Load  Roof_Area  Overall_Height\n",
            "0           21.33     110.25             7.0\n",
            "1           21.33     110.25             7.0\n",
            "2           21.33     110.25             7.0\n",
            "3           21.33     110.25             7.0\n",
            "4           28.28     122.50             7.0\n",
            "..            ...        ...             ...\n",
            "763         21.40     220.50             3.5\n",
            "764         16.88     220.50             3.5\n",
            "765         17.11     220.50             3.5\n",
            "766         16.61     220.50             3.5\n",
            "767         16.03     220.50             3.5\n",
            "\n",
            "[768 rows x 3 columns]\n",
            "ENERGY EFFICIENCY DATASET - Y (PREDICTION LABEL): \n",
            " 0      15.55\n",
            "1      15.55\n",
            "2      15.55\n",
            "3      15.55\n",
            "4      20.84\n",
            "       ...  \n",
            "763    17.88\n",
            "764    16.54\n",
            "765    16.44\n",
            "766    16.48\n",
            "767    16.64\n",
            "Name: Heating_Load, Length: 768, dtype: float64\n"
          ]
        }
      ]
    },
    {
      "cell_type": "markdown",
      "source": [
        "**Separación Set de Datos**"
      ],
      "metadata": {
        "id": "L0SO77ZDuile"
      }
    },
    {
      "cell_type": "code",
      "source": [
        "set_test_size = 0.2"
      ],
      "metadata": {
        "id": "iXOgWW4GboFN"
      },
      "execution_count": 15,
      "outputs": []
    },
    {
      "cell_type": "code",
      "source": [
        "x_train, x_test, y_train, y_test = train_test_split(x, y, test_size=set_test_size, random_state=0, shuffle=True)"
      ],
      "metadata": {
        "id": "twV--yvlWwnb"
      },
      "execution_count": 16,
      "outputs": []
    },
    {
      "cell_type": "code",
      "source": [
        "x_train = x_train.values"
      ],
      "metadata": {
        "id": "5CBSyPUWXyxE"
      },
      "execution_count": 17,
      "outputs": []
    },
    {
      "cell_type": "code",
      "source": [
        "x_train"
      ],
      "metadata": {
        "id": "-k8NFBkU4vBG",
        "colab": {
          "base_uri": "https://localhost:8080/"
        },
        "outputId": "359504e7-3f7e-4d77-da6f-1d724edbd13e"
      },
      "execution_count": 18,
      "outputs": [
        {
          "output_type": "execute_result",
          "data": {
            "text/plain": [
              "array([[ 17.03, 220.5 ,   3.5 ],\n",
              "       [ 34.17, 122.5 ,   7.  ],\n",
              "       [ 33.01, 122.5 ,   7.  ],\n",
              "       ...,\n",
              "       [ 35.04, 122.5 ,   7.  ],\n",
              "       [ 17.47, 220.5 ,   3.5 ],\n",
              "       [ 28.2 , 147.  ,   7.  ]])"
            ]
          },
          "metadata": {},
          "execution_count": 18
        }
      ]
    },
    {
      "cell_type": "code",
      "source": [
        "y_train = y_train.values"
      ],
      "metadata": {
        "id": "bYateBV1hxSw"
      },
      "execution_count": 19,
      "outputs": []
    },
    {
      "cell_type": "code",
      "source": [
        "x_test = x_test.values"
      ],
      "metadata": {
        "id": "TaKpTTmfh0GH"
      },
      "execution_count": 20,
      "outputs": []
    },
    {
      "cell_type": "code",
      "source": [
        "x_test"
      ],
      "metadata": {
        "id": "9yH-8IY945YD",
        "colab": {
          "base_uri": "https://localhost:8080/"
        },
        "outputId": "0a74e886-a9d1-4ec7-a1a5-bffada69441a"
      },
      "execution_count": 21,
      "outputs": [
        {
          "output_type": "execute_result",
          "data": {
            "text/plain": [
              "array([[ 17.63, 220.5 ,   3.5 ],\n",
              "       [ 13.57, 220.5 ,   3.5 ],\n",
              "       [ 34.62, 147.  ,   7.  ],\n",
              "       [ 21.16, 147.  ,   7.  ],\n",
              "       [ 33.34, 110.25,   7.  ],\n",
              "       [ 34.2 , 122.5 ,   7.  ],\n",
              "       [ 30.18, 110.25,   7.  ],\n",
              "       [ 30.34, 147.  ,   7.  ],\n",
              "       [ 29.82, 147.  ,   7.  ],\n",
              "       [ 24.61, 147.  ,   7.  ],\n",
              "       [ 11.67, 220.5 ,   3.5 ],\n",
              "       [ 38.35, 147.  ,   7.  ],\n",
              "       [ 14.65, 220.5 ,   3.5 ],\n",
              "       [ 39.41, 147.  ,   7.  ],\n",
              "       [ 37.7 , 147.  ,   7.  ],\n",
              "       [ 31.06, 147.  ,   7.  ],\n",
              "       [ 13.87, 220.5 ,   3.5 ],\n",
              "       [ 34.33, 122.5 ,   7.  ],\n",
              "       [ 15.38, 220.5 ,   3.5 ],\n",
              "       [ 15.4 , 220.5 ,   3.5 ],\n",
              "       [ 14.38, 220.5 ,   3.5 ],\n",
              "       [ 33.13, 110.25,   7.  ],\n",
              "       [ 14.14, 220.5 ,   3.5 ],\n",
              "       [ 43.86, 147.  ,   7.  ],\n",
              "       [ 11.17, 220.5 ,   3.5 ],\n",
              "       [ 17.37, 220.5 ,   3.5 ],\n",
              "       [ 14.47, 220.5 ,   3.5 ],\n",
              "       [ 16.69, 220.5 ,   3.5 ],\n",
              "       [ 14.27, 220.5 ,   3.5 ],\n",
              "       [ 37.54, 147.  ,   7.  ],\n",
              "       [ 13.97, 220.5 ,   3.5 ],\n",
              "       [ 16.14, 220.5 ,   3.5 ],\n",
              "       [ 46.44, 147.  ,   7.  ],\n",
              "       [ 16.22, 220.5 ,   3.5 ],\n",
              "       [ 29.78, 110.25,   7.  ],\n",
              "       [ 36.07, 122.5 ,   7.  ],\n",
              "       [ 16.08, 220.5 ,   3.5 ],\n",
              "       [ 36.93, 122.5 ,   7.  ],\n",
              "       [ 17.2 , 220.5 ,   3.5 ],\n",
              "       [ 16.78, 220.5 ,   3.5 ],\n",
              "       [ 13.7 , 220.5 ,   3.5 ],\n",
              "       [ 36.77, 147.  ,   7.  ],\n",
              "       [ 17.2 , 220.5 ,   3.5 ],\n",
              "       [ 26.41, 147.  ,   7.  ],\n",
              "       [ 27.3 , 147.  ,   7.  ],\n",
              "       [ 26.02, 110.25,   7.  ],\n",
              "       [ 13.89, 220.5 ,   3.5 ],\n",
              "       [ 15.17, 220.5 ,   3.5 ],\n",
              "       [ 32.83, 122.5 ,   7.  ],\n",
              "       [ 31.  , 147.  ,   7.  ],\n",
              "       [ 33.94, 110.25,   7.  ],\n",
              "       [ 14.27, 220.5 ,   3.5 ],\n",
              "       [ 34.05, 122.5 ,   7.  ],\n",
              "       [ 17.64, 220.5 ,   3.5 ],\n",
              "       [ 37.2 , 122.5 ,   7.  ],\n",
              "       [ 13.7 , 220.5 ,   3.5 ],\n",
              "       [ 21.33, 110.25,   7.  ],\n",
              "       [ 31.39, 147.  ,   7.  ],\n",
              "       [ 37.26, 147.  ,   7.  ],\n",
              "       [ 16.9 , 220.5 ,   3.5 ],\n",
              "       [ 18.1 , 220.5 ,   3.5 ],\n",
              "       [ 14.91, 220.5 ,   3.5 ],\n",
              "       [ 33.86, 110.25,   7.  ],\n",
              "       [ 13.72, 220.5 ,   3.5 ],\n",
              "       [ 15.85, 220.5 ,   3.5 ],\n",
              "       [ 14.49, 220.5 ,   3.5 ],\n",
              "       [ 45.97, 147.  ,   7.  ],\n",
              "       [ 14.55, 220.5 ,   3.5 ],\n",
              "       [ 32.04, 147.  ,   7.  ],\n",
              "       [ 36.87, 147.  ,   7.  ],\n",
              "       [ 32.78, 110.25,   7.  ],\n",
              "       [ 13.79, 220.5 ,   3.5 ],\n",
              "       [ 24.77, 147.  ,   7.  ],\n",
              "       [ 16.86, 220.5 ,   3.5 ],\n",
              "       [ 19.48, 220.5 ,   3.5 ],\n",
              "       [ 29.88, 147.  ,   7.  ],\n",
              "       [ 32.95, 110.25,   7.  ],\n",
              "       [ 43.73, 147.  ,   7.  ],\n",
              "       [ 32.88, 110.25,   7.  ],\n",
              "       [ 17.1 , 220.5 ,   3.5 ],\n",
              "       [ 40.66, 122.5 ,   7.  ],\n",
              "       [ 30.08, 122.5 ,   7.  ],\n",
              "       [ 13.72, 220.5 ,   3.5 ],\n",
              "       [ 14.61, 220.5 ,   3.5 ],\n",
              "       [ 32.54, 147.  ,   7.  ],\n",
              "       [ 26.72, 147.  ,   7.  ],\n",
              "       [ 25.88, 110.25,   7.  ],\n",
              "       [ 30.93, 147.  ,   7.  ],\n",
              "       [ 14.37, 220.5 ,   3.5 ],\n",
              "       [ 16.99, 220.5 ,   3.5 ],\n",
              "       [ 16.99, 220.5 ,   3.5 ],\n",
              "       [ 31.28, 147.  ,   7.  ],\n",
              "       [ 15.5 , 220.5 ,   3.5 ],\n",
              "       [ 26.44, 110.25,   7.  ],\n",
              "       [ 39.55, 122.5 ,   7.  ],\n",
              "       [ 17.2 , 220.5 ,   3.5 ],\n",
              "       [ 29.77, 147.  ,   7.  ],\n",
              "       [ 16.44, 220.5 ,   3.5 ],\n",
              "       [ 12.14, 220.5 ,   3.5 ],\n",
              "       [ 37.28, 122.5 ,   7.  ],\n",
              "       [ 35.1 , 147.  ,   7.  ],\n",
              "       [ 28.68, 147.  ,   7.  ],\n",
              "       [ 23.49, 147.  ,   7.  ],\n",
              "       [ 33.87, 122.5 ,   7.  ],\n",
              "       [ 13.5 , 220.5 ,   3.5 ],\n",
              "       [ 28.31, 147.  ,   7.  ],\n",
              "       [ 38.56, 147.  ,   7.  ],\n",
              "       [ 16.14, 220.5 ,   3.5 ],\n",
              "       [ 15.42, 220.5 ,   3.5 ],\n",
              "       [ 21.33, 110.25,   7.  ],\n",
              "       [ 20.82, 220.5 ,   3.5 ],\n",
              "       [ 33.89, 122.5 ,   7.  ],\n",
              "       [ 32.28, 147.  ,   7.  ],\n",
              "       [ 19.29, 220.5 ,   3.5 ],\n",
              "       [ 14.94, 220.5 ,   3.5 ],\n",
              "       [ 19.29, 220.5 ,   3.5 ],\n",
              "       [ 14.87, 220.5 ,   3.5 ],\n",
              "       [ 43.14, 147.  ,   7.  ],\n",
              "       [ 27.33, 147.  ,   7.  ],\n",
              "       [ 39.37, 122.5 ,   7.  ],\n",
              "       [ 33.14, 122.5 ,   7.  ],\n",
              "       [ 15.18, 220.5 ,   3.5 ],\n",
              "       [ 15.44, 220.5 ,   3.5 ],\n",
              "       [ 34.94, 122.5 ,   7.  ],\n",
              "       [ 14.74, 220.5 ,   3.5 ],\n",
              "       [ 39.85, 122.5 ,   7.  ],\n",
              "       [ 16.9 , 220.5 ,   3.5 ],\n",
              "       [ 30.1 , 110.25,   7.  ],\n",
              "       [ 14.92, 220.5 ,   3.5 ],\n",
              "       [ 29.69, 147.  ,   7.  ],\n",
              "       [ 33.67, 122.5 ,   7.  ],\n",
              "       [ 26.37, 110.25,   7.  ],\n",
              "       [ 41.86, 147.  ,   7.  ],\n",
              "       [ 13.79, 220.5 ,   3.5 ],\n",
              "       [ 36.15, 122.5 ,   7.  ],\n",
              "       [ 12.23, 220.5 ,   3.5 ],\n",
              "       [ 28.43, 147.  ,   7.  ],\n",
              "       [ 26.47, 110.25,   7.  ],\n",
              "       [ 34.35, 122.5 ,   7.  ],\n",
              "       [ 15.47, 220.5 ,   3.5 ],\n",
              "       [ 21.08, 220.5 ,   3.5 ],\n",
              "       [ 22.72, 220.5 ,   3.5 ],\n",
              "       [ 29.34, 122.5 ,   7.  ],\n",
              "       [ 13.8 , 220.5 ,   3.5 ],\n",
              "       [ 41.68, 147.  ,   7.  ],\n",
              "       [ 16.  , 220.5 ,   3.5 ],\n",
              "       [ 32.92, 122.5 ,   7.  ],\n",
              "       [ 37.45, 122.5 ,   7.  ],\n",
              "       [ 14.92, 220.5 ,   3.5 ],\n",
              "       [ 15.41, 220.5 ,   3.5 ],\n",
              "       [ 30.  , 110.25,   7.  ],\n",
              "       [ 15.  , 220.5 ,   3.5 ],\n",
              "       [ 14.75, 220.5 ,   3.5 ],\n",
              "       [ 15.32, 220.5 ,   3.5 ]])"
            ]
          },
          "metadata": {},
          "execution_count": 21
        }
      ]
    },
    {
      "cell_type": "code",
      "source": [
        "y_test = y_test.values"
      ],
      "metadata": {
        "id": "ov5xjWUsh2z0"
      },
      "execution_count": 22,
      "outputs": []
    },
    {
      "cell_type": "markdown",
      "source": [
        "**Normalizacion**"
      ],
      "metadata": {
        "id": "PkqEh4OO3GES"
      }
    },
    {
      "cell_type": "code",
      "source": [
        "import pandas as pd"
      ],
      "metadata": {
        "id": "O3YQByO96JgV"
      },
      "execution_count": 24,
      "outputs": []
    },
    {
      "cell_type": "code",
      "source": [
        "data = pd.DataFrame(x_train, columns=['Cooling_Load', 'Roof_Area', 'Overall_Height'])"
      ],
      "metadata": {
        "id": "DEf4tpRc577w"
      },
      "execution_count": 25,
      "outputs": []
    },
    {
      "cell_type": "code",
      "source": [
        "z_scores = (data - data.mean()) / data.std()"
      ],
      "metadata": {
        "id": "vXZ-jk9w6Okj"
      },
      "execution_count": 26,
      "outputs": []
    },
    {
      "cell_type": "code",
      "source": [
        "z_scores"
      ],
      "metadata": {
        "colab": {
          "base_uri": "https://localhost:8080/",
          "height": 424
        },
        "id": "EIUCJBgm6UCy",
        "outputId": "3cfbda4f-d617-4098-a239-52afe7258411"
      },
      "execution_count": 28,
      "outputs": [
        {
          "output_type": "execute_result",
          "data": {
            "text/plain": [
              "     Cooling_Load  Roof_Area  Overall_Height\n",
              "0       -0.791140   0.957004       -0.983042\n",
              "1        1.019742  -1.219294        1.015593\n",
              "2        0.897185  -1.219294        1.015593\n",
              "3        0.319266  -0.675220        1.015593\n",
              "4       -0.905245   0.957004       -0.983042\n",
              "..            ...        ...             ...\n",
              "609     -0.329439   0.957004       -0.983042\n",
              "610      0.147053  -1.491332        1.015593\n",
              "611      1.111659  -1.219294        1.015593\n",
              "612     -0.744653   0.957004       -0.983042\n",
              "613      0.388997  -0.675220        1.015593\n",
              "\n",
              "[614 rows x 3 columns]"
            ],
            "text/html": [
              "\n",
              "  <div id=\"df-87d7bed8-47a0-4526-9979-1f9e88f7fc02\" class=\"colab-df-container\">\n",
              "    <div>\n",
              "<style scoped>\n",
              "    .dataframe tbody tr th:only-of-type {\n",
              "        vertical-align: middle;\n",
              "    }\n",
              "\n",
              "    .dataframe tbody tr th {\n",
              "        vertical-align: top;\n",
              "    }\n",
              "\n",
              "    .dataframe thead th {\n",
              "        text-align: right;\n",
              "    }\n",
              "</style>\n",
              "<table border=\"1\" class=\"dataframe\">\n",
              "  <thead>\n",
              "    <tr style=\"text-align: right;\">\n",
              "      <th></th>\n",
              "      <th>Cooling_Load</th>\n",
              "      <th>Roof_Area</th>\n",
              "      <th>Overall_Height</th>\n",
              "    </tr>\n",
              "  </thead>\n",
              "  <tbody>\n",
              "    <tr>\n",
              "      <th>0</th>\n",
              "      <td>-0.791140</td>\n",
              "      <td>0.957004</td>\n",
              "      <td>-0.983042</td>\n",
              "    </tr>\n",
              "    <tr>\n",
              "      <th>1</th>\n",
              "      <td>1.019742</td>\n",
              "      <td>-1.219294</td>\n",
              "      <td>1.015593</td>\n",
              "    </tr>\n",
              "    <tr>\n",
              "      <th>2</th>\n",
              "      <td>0.897185</td>\n",
              "      <td>-1.219294</td>\n",
              "      <td>1.015593</td>\n",
              "    </tr>\n",
              "    <tr>\n",
              "      <th>3</th>\n",
              "      <td>0.319266</td>\n",
              "      <td>-0.675220</td>\n",
              "      <td>1.015593</td>\n",
              "    </tr>\n",
              "    <tr>\n",
              "      <th>4</th>\n",
              "      <td>-0.905245</td>\n",
              "      <td>0.957004</td>\n",
              "      <td>-0.983042</td>\n",
              "    </tr>\n",
              "    <tr>\n",
              "      <th>...</th>\n",
              "      <td>...</td>\n",
              "      <td>...</td>\n",
              "      <td>...</td>\n",
              "    </tr>\n",
              "    <tr>\n",
              "      <th>609</th>\n",
              "      <td>-0.329439</td>\n",
              "      <td>0.957004</td>\n",
              "      <td>-0.983042</td>\n",
              "    </tr>\n",
              "    <tr>\n",
              "      <th>610</th>\n",
              "      <td>0.147053</td>\n",
              "      <td>-1.491332</td>\n",
              "      <td>1.015593</td>\n",
              "    </tr>\n",
              "    <tr>\n",
              "      <th>611</th>\n",
              "      <td>1.111659</td>\n",
              "      <td>-1.219294</td>\n",
              "      <td>1.015593</td>\n",
              "    </tr>\n",
              "    <tr>\n",
              "      <th>612</th>\n",
              "      <td>-0.744653</td>\n",
              "      <td>0.957004</td>\n",
              "      <td>-0.983042</td>\n",
              "    </tr>\n",
              "    <tr>\n",
              "      <th>613</th>\n",
              "      <td>0.388997</td>\n",
              "      <td>-0.675220</td>\n",
              "      <td>1.015593</td>\n",
              "    </tr>\n",
              "  </tbody>\n",
              "</table>\n",
              "<p>614 rows × 3 columns</p>\n",
              "</div>\n",
              "    <div class=\"colab-df-buttons\">\n",
              "\n",
              "  <div class=\"colab-df-container\">\n",
              "    <button class=\"colab-df-convert\" onclick=\"convertToInteractive('df-87d7bed8-47a0-4526-9979-1f9e88f7fc02')\"\n",
              "            title=\"Convert this dataframe to an interactive table.\"\n",
              "            style=\"display:none;\">\n",
              "\n",
              "  <svg xmlns=\"http://www.w3.org/2000/svg\" height=\"24px\" viewBox=\"0 -960 960 960\">\n",
              "    <path d=\"M120-120v-720h720v720H120Zm60-500h600v-160H180v160Zm220 220h160v-160H400v160Zm0 220h160v-160H400v160ZM180-400h160v-160H180v160Zm440 0h160v-160H620v160ZM180-180h160v-160H180v160Zm440 0h160v-160H620v160Z\"/>\n",
              "  </svg>\n",
              "    </button>\n",
              "\n",
              "  <style>\n",
              "    .colab-df-container {\n",
              "      display:flex;\n",
              "      gap: 12px;\n",
              "    }\n",
              "\n",
              "    .colab-df-convert {\n",
              "      background-color: #E8F0FE;\n",
              "      border: none;\n",
              "      border-radius: 50%;\n",
              "      cursor: pointer;\n",
              "      display: none;\n",
              "      fill: #1967D2;\n",
              "      height: 32px;\n",
              "      padding: 0 0 0 0;\n",
              "      width: 32px;\n",
              "    }\n",
              "\n",
              "    .colab-df-convert:hover {\n",
              "      background-color: #E2EBFA;\n",
              "      box-shadow: 0px 1px 2px rgba(60, 64, 67, 0.3), 0px 1px 3px 1px rgba(60, 64, 67, 0.15);\n",
              "      fill: #174EA6;\n",
              "    }\n",
              "\n",
              "    .colab-df-buttons div {\n",
              "      margin-bottom: 4px;\n",
              "    }\n",
              "\n",
              "    [theme=dark] .colab-df-convert {\n",
              "      background-color: #3B4455;\n",
              "      fill: #D2E3FC;\n",
              "    }\n",
              "\n",
              "    [theme=dark] .colab-df-convert:hover {\n",
              "      background-color: #434B5C;\n",
              "      box-shadow: 0px 1px 3px 1px rgba(0, 0, 0, 0.15);\n",
              "      filter: drop-shadow(0px 1px 2px rgba(0, 0, 0, 0.3));\n",
              "      fill: #FFFFFF;\n",
              "    }\n",
              "  </style>\n",
              "\n",
              "    <script>\n",
              "      const buttonEl =\n",
              "        document.querySelector('#df-87d7bed8-47a0-4526-9979-1f9e88f7fc02 button.colab-df-convert');\n",
              "      buttonEl.style.display =\n",
              "        google.colab.kernel.accessAllowed ? 'block' : 'none';\n",
              "\n",
              "      async function convertToInteractive(key) {\n",
              "        const element = document.querySelector('#df-87d7bed8-47a0-4526-9979-1f9e88f7fc02');\n",
              "        const dataTable =\n",
              "          await google.colab.kernel.invokeFunction('convertToInteractive',\n",
              "                                                    [key], {});\n",
              "        if (!dataTable) return;\n",
              "\n",
              "        const docLinkHtml = 'Like what you see? Visit the ' +\n",
              "          '<a target=\"_blank\" href=https://colab.research.google.com/notebooks/data_table.ipynb>data table notebook</a>'\n",
              "          + ' to learn more about interactive tables.';\n",
              "        element.innerHTML = '';\n",
              "        dataTable['output_type'] = 'display_data';\n",
              "        await google.colab.output.renderOutput(dataTable, element);\n",
              "        const docLink = document.createElement('div');\n",
              "        docLink.innerHTML = docLinkHtml;\n",
              "        element.appendChild(docLink);\n",
              "      }\n",
              "    </script>\n",
              "  </div>\n",
              "\n",
              "\n",
              "<div id=\"df-f20de2c8-5ffc-447e-8e7c-28c3d9d8c1e7\">\n",
              "  <button class=\"colab-df-quickchart\" onclick=\"quickchart('df-f20de2c8-5ffc-447e-8e7c-28c3d9d8c1e7')\"\n",
              "            title=\"Suggest charts.\"\n",
              "            style=\"display:none;\">\n",
              "\n",
              "<svg xmlns=\"http://www.w3.org/2000/svg\" height=\"24px\"viewBox=\"0 0 24 24\"\n",
              "     width=\"24px\">\n",
              "    <g>\n",
              "        <path d=\"M19 3H5c-1.1 0-2 .9-2 2v14c0 1.1.9 2 2 2h14c1.1 0 2-.9 2-2V5c0-1.1-.9-2-2-2zM9 17H7v-7h2v7zm4 0h-2V7h2v10zm4 0h-2v-4h2v4z\"/>\n",
              "    </g>\n",
              "</svg>\n",
              "  </button>\n",
              "\n",
              "<style>\n",
              "  .colab-df-quickchart {\n",
              "      --bg-color: #E8F0FE;\n",
              "      --fill-color: #1967D2;\n",
              "      --hover-bg-color: #E2EBFA;\n",
              "      --hover-fill-color: #174EA6;\n",
              "      --disabled-fill-color: #AAA;\n",
              "      --disabled-bg-color: #DDD;\n",
              "  }\n",
              "\n",
              "  [theme=dark] .colab-df-quickchart {\n",
              "      --bg-color: #3B4455;\n",
              "      --fill-color: #D2E3FC;\n",
              "      --hover-bg-color: #434B5C;\n",
              "      --hover-fill-color: #FFFFFF;\n",
              "      --disabled-bg-color: #3B4455;\n",
              "      --disabled-fill-color: #666;\n",
              "  }\n",
              "\n",
              "  .colab-df-quickchart {\n",
              "    background-color: var(--bg-color);\n",
              "    border: none;\n",
              "    border-radius: 50%;\n",
              "    cursor: pointer;\n",
              "    display: none;\n",
              "    fill: var(--fill-color);\n",
              "    height: 32px;\n",
              "    padding: 0;\n",
              "    width: 32px;\n",
              "  }\n",
              "\n",
              "  .colab-df-quickchart:hover {\n",
              "    background-color: var(--hover-bg-color);\n",
              "    box-shadow: 0 1px 2px rgba(60, 64, 67, 0.3), 0 1px 3px 1px rgba(60, 64, 67, 0.15);\n",
              "    fill: var(--button-hover-fill-color);\n",
              "  }\n",
              "\n",
              "  .colab-df-quickchart-complete:disabled,\n",
              "  .colab-df-quickchart-complete:disabled:hover {\n",
              "    background-color: var(--disabled-bg-color);\n",
              "    fill: var(--disabled-fill-color);\n",
              "    box-shadow: none;\n",
              "  }\n",
              "\n",
              "  .colab-df-spinner {\n",
              "    border: 2px solid var(--fill-color);\n",
              "    border-color: transparent;\n",
              "    border-bottom-color: var(--fill-color);\n",
              "    animation:\n",
              "      spin 1s steps(1) infinite;\n",
              "  }\n",
              "\n",
              "  @keyframes spin {\n",
              "    0% {\n",
              "      border-color: transparent;\n",
              "      border-bottom-color: var(--fill-color);\n",
              "      border-left-color: var(--fill-color);\n",
              "    }\n",
              "    20% {\n",
              "      border-color: transparent;\n",
              "      border-left-color: var(--fill-color);\n",
              "      border-top-color: var(--fill-color);\n",
              "    }\n",
              "    30% {\n",
              "      border-color: transparent;\n",
              "      border-left-color: var(--fill-color);\n",
              "      border-top-color: var(--fill-color);\n",
              "      border-right-color: var(--fill-color);\n",
              "    }\n",
              "    40% {\n",
              "      border-color: transparent;\n",
              "      border-right-color: var(--fill-color);\n",
              "      border-top-color: var(--fill-color);\n",
              "    }\n",
              "    60% {\n",
              "      border-color: transparent;\n",
              "      border-right-color: var(--fill-color);\n",
              "    }\n",
              "    80% {\n",
              "      border-color: transparent;\n",
              "      border-right-color: var(--fill-color);\n",
              "      border-bottom-color: var(--fill-color);\n",
              "    }\n",
              "    90% {\n",
              "      border-color: transparent;\n",
              "      border-bottom-color: var(--fill-color);\n",
              "    }\n",
              "  }\n",
              "</style>\n",
              "\n",
              "  <script>\n",
              "    async function quickchart(key) {\n",
              "      const quickchartButtonEl =\n",
              "        document.querySelector('#' + key + ' button');\n",
              "      quickchartButtonEl.disabled = true;  // To prevent multiple clicks.\n",
              "      quickchartButtonEl.classList.add('colab-df-spinner');\n",
              "      try {\n",
              "        const charts = await google.colab.kernel.invokeFunction(\n",
              "            'suggestCharts', [key], {});\n",
              "      } catch (error) {\n",
              "        console.error('Error during call to suggestCharts:', error);\n",
              "      }\n",
              "      quickchartButtonEl.classList.remove('colab-df-spinner');\n",
              "      quickchartButtonEl.classList.add('colab-df-quickchart-complete');\n",
              "    }\n",
              "    (() => {\n",
              "      let quickchartButtonEl =\n",
              "        document.querySelector('#df-f20de2c8-5ffc-447e-8e7c-28c3d9d8c1e7 button');\n",
              "      quickchartButtonEl.style.display =\n",
              "        google.colab.kernel.accessAllowed ? 'block' : 'none';\n",
              "    })();\n",
              "  </script>\n",
              "</div>\n",
              "    </div>\n",
              "  </div>\n"
            ]
          },
          "metadata": {},
          "execution_count": 28
        }
      ]
    },
    {
      "cell_type": "code",
      "source": [
        "nuevo_x_train = z_scores.values"
      ],
      "metadata": {
        "id": "dScEj1XZ6Yjj"
      },
      "execution_count": 30,
      "outputs": []
    },
    {
      "cell_type": "code",
      "source": [
        "nuevo_x_train"
      ],
      "metadata": {
        "colab": {
          "base_uri": "https://localhost:8080/"
        },
        "id": "pXbAtZap6ljC",
        "outputId": "3997b910-9ae7-4568-9dc5-9b92d1ff8573"
      },
      "execution_count": 31,
      "outputs": [
        {
          "output_type": "execute_result",
          "data": {
            "text/plain": [
              "array([[-0.79114012,  0.9570042 , -0.98304235],\n",
              "       [ 1.01974157, -1.21929424,  1.01559342],\n",
              "       [ 0.89718481, -1.21929424,  1.01559342],\n",
              "       ...,\n",
              "       [ 1.11165913, -1.21929424,  1.01559342],\n",
              "       [-0.74465307,  0.9570042 , -0.98304235],\n",
              "       [ 0.3889969 , -0.67521963,  1.01559342]])"
            ]
          },
          "metadata": {},
          "execution_count": 31
        }
      ]
    },
    {
      "cell_type": "code",
      "source": [
        "data = pd.DataFrame(x_test, columns=['Cooling_Load', 'Roof_Area', 'Overall_Height'])"
      ],
      "metadata": {
        "id": "9Nu3qkO66p-s"
      },
      "execution_count": 32,
      "outputs": []
    },
    {
      "cell_type": "code",
      "source": [
        "z_scores = (data - data.mean()) / data.std()"
      ],
      "metadata": {
        "id": "wTVlR85L6s8Q"
      },
      "execution_count": 33,
      "outputs": []
    },
    {
      "cell_type": "code",
      "source": [
        "nuevo_x_test = z_scores.values"
      ],
      "metadata": {
        "id": "FfPekiC56wM1"
      },
      "execution_count": 36,
      "outputs": []
    },
    {
      "cell_type": "code",
      "source": [
        "nuevo_x_test"
      ],
      "metadata": {
        "colab": {
          "base_uri": "https://localhost:8080/"
        },
        "id": "lv1ekXMW63Xr",
        "outputId": "9513642a-1bc1-46f9-a594-d97701e16d29"
      },
      "execution_count": 37,
      "outputs": [
        {
          "output_type": "execute_result",
          "data": {
            "text/plain": [
              "array([[-0.74362003,  1.03022105, -1.06371684],\n",
              "       [-1.16089188,  1.03022105, -1.06371684],\n",
              "       [ 1.00254961, -0.57775911,  0.93399527],\n",
              "       [-0.38081963, -0.57775911,  0.93399527],\n",
              "       [ 0.87099593, -1.38174919,  0.93399527],\n",
              "       [ 0.95938356, -1.11375249,  0.93399527],\n",
              "       [ 0.54622276, -1.38174919,  0.93399527],\n",
              "       [ 0.56266697, -0.57775911,  0.93399527],\n",
              "       [ 0.50922329, -0.57775911,  0.93399527],\n",
              "       [-0.02624133, -0.57775911,  0.93399527],\n",
              "       [-1.35616689,  1.03022105, -1.06371684],\n",
              "       [ 1.38590528, -0.57775911,  0.93399527],\n",
              "       [-1.04989346,  1.03022105, -1.06371684],\n",
              "       [ 1.49484818, -0.57775911,  0.93399527],\n",
              "       [ 1.31910067, -0.57775911,  0.93399527],\n",
              "       [ 0.63666592, -0.57775911,  0.93399527],\n",
              "       [-1.13005899,  1.03022105, -1.06371684],\n",
              "       [ 0.97274448, -1.11375249,  0.93399527],\n",
              "       [-0.97486675,  1.03022105, -1.06371684],\n",
              "       [-0.97281122,  1.03022105, -1.06371684],\n",
              "       [-1.07764306,  1.03022105, -1.06371684],\n",
              "       [ 0.8494129 , -1.38174919,  0.93399527],\n",
              "       [-1.10230938,  1.03022105, -1.06371684],\n",
              "       [ 1.95220279, -0.57775911,  0.93399527],\n",
              "       [-1.40755505,  1.03022105, -1.06371684],\n",
              "       [-0.77034187,  1.03022105, -1.06371684],\n",
              "       [-1.0683932 ,  1.03022105, -1.06371684],\n",
              "       [-0.84022977,  1.03022105, -1.06371684],\n",
              "       [-1.08894846,  1.03022105, -1.06371684],\n",
              "       [ 1.30265646, -0.57775911,  0.93399527],\n",
              "       [-1.11978135,  1.03022105, -1.06371684],\n",
              "       [-0.89675674,  1.03022105, -1.06371684],\n",
              "       [ 2.21736569, -0.57775911,  0.93399527],\n",
              "       [-0.88853464,  1.03022105, -1.06371684],\n",
              "       [ 0.50511223, -1.38174919,  0.93399527],\n",
              "       [ 1.15157528, -1.11375249,  0.93399527],\n",
              "       [-0.90292332,  1.03022105, -1.06371684],\n",
              "       [ 1.23996291, -1.11375249,  0.93399527],\n",
              "       [-0.78781385,  1.03022105, -1.06371684],\n",
              "       [-0.8309799 ,  1.03022105, -1.06371684],\n",
              "       [-1.14753096,  1.03022105, -1.06371684],\n",
              "       [ 1.2235187 , -0.57775911,  0.93399527],\n",
              "       [-0.78781385,  1.03022105, -1.06371684],\n",
              "       [ 0.15875604, -0.57775911,  0.93399527],\n",
              "       [ 0.25022697, -0.57775911,  0.93399527],\n",
              "       [ 0.11867328, -1.38174919,  0.93399527],\n",
              "       [-1.12800346,  1.03022105, -1.06371684],\n",
              "       [-0.99644977,  1.03022105, -1.06371684],\n",
              "       [ 0.81858   , -1.11375249,  0.93399527],\n",
              "       [ 0.63049934, -0.57775911,  0.93399527],\n",
              "       [ 0.93266172, -1.38174919,  0.93399527],\n",
              "       [-1.08894846,  1.03022105, -1.06371684],\n",
              "       [ 0.94396711, -1.11375249,  0.93399527],\n",
              "       [-0.74259227,  1.03022105, -1.06371684],\n",
              "       [ 1.26771252, -1.11375249,  0.93399527],\n",
              "       [-1.14753096,  1.03022105, -1.06371684],\n",
              "       [-0.36334765, -1.38174919,  0.93399527],\n",
              "       [ 0.67058211, -0.57775911,  0.93399527],\n",
              "       [ 1.27387909, -0.57775911,  0.93399527],\n",
              "       [-0.81864674,  1.03022105, -1.06371684],\n",
              "       [-0.69531516,  1.03022105, -1.06371684],\n",
              "       [-1.02317162,  1.03022105, -1.06371684],\n",
              "       [ 0.92443961, -1.38174919,  0.93399527],\n",
              "       [-1.14547543,  1.03022105, -1.06371684],\n",
              "       [-0.92656188,  1.03022105, -1.06371684],\n",
              "       [-1.06633767,  1.03022105, -1.06371684],\n",
              "       [ 2.16906082, -0.57775911,  0.93399527],\n",
              "       [-1.06017109,  1.03022105, -1.06371684],\n",
              "       [ 0.73738671, -0.57775911,  0.93399527],\n",
              "       [ 1.23379633, -0.57775911,  0.93399527],\n",
              "       [ 0.81344119, -1.38174919,  0.93399527],\n",
              "       [-1.13828109,  1.03022105, -1.06371684],\n",
              "       [-0.00979712, -0.57775911,  0.93399527],\n",
              "       [-0.8227578 ,  1.03022105, -1.06371684],\n",
              "       [-0.55348384,  1.03022105, -1.06371684],\n",
              "       [ 0.51538987, -0.57775911,  0.93399527],\n",
              "       [ 0.83091316, -1.38174919,  0.93399527],\n",
              "       [ 1.93884187, -0.57775911,  0.93399527],\n",
              "       [ 0.82371882, -1.38174919,  0.93399527],\n",
              "       [-0.79809148,  1.03022105, -1.06371684],\n",
              "       [ 1.62331858, -1.11375249,  0.93399527],\n",
              "       [ 0.53594513, -1.11375249,  0.93399527],\n",
              "       [-1.14547543,  1.03022105, -1.06371684],\n",
              "       [-1.05400451,  1.03022105, -1.06371684],\n",
              "       [ 0.78877487, -0.57775911,  0.93399527],\n",
              "       [ 0.1906167 , -0.57775911,  0.93399527],\n",
              "       [ 0.10428459, -1.38174919,  0.93399527],\n",
              "       [ 0.623305  , -0.57775911,  0.93399527],\n",
              "       [-1.07867083,  1.03022105, -1.06371684],\n",
              "       [-0.80939687,  1.03022105, -1.06371684],\n",
              "       [-0.80939687,  1.03022105, -1.06371684],\n",
              "       [ 0.65927671, -0.57775911,  0.93399527],\n",
              "       [-0.96253359,  1.03022105, -1.06371684],\n",
              "       [ 0.16183933, -1.38174919,  0.93399527],\n",
              "       [ 1.50923686, -1.11375249,  0.93399527],\n",
              "       [-0.78781385,  1.03022105, -1.06371684],\n",
              "       [ 0.50408447, -0.57775911,  0.93399527],\n",
              "       [-0.86592385,  1.03022105, -1.06371684],\n",
              "       [-1.30786202,  1.03022105, -1.06371684],\n",
              "       [ 1.27593462, -1.11375249,  0.93399527],\n",
              "       [ 1.05188225, -0.57775911,  0.93399527],\n",
              "       [ 0.39205828, -0.57775911,  0.93399527],\n",
              "       [-0.14135081, -0.57775911,  0.93399527],\n",
              "       [ 0.92546738, -1.11375249,  0.93399527],\n",
              "       [-1.16808622,  1.03022105, -1.06371684],\n",
              "       [ 0.35403105, -0.57775911,  0.93399527],\n",
              "       [ 1.40748831, -0.57775911,  0.93399527],\n",
              "       [-0.89675674,  1.03022105, -1.06371684],\n",
              "       [-0.97075569,  1.03022105, -1.06371684],\n",
              "       [-0.36334765, -1.38174919,  0.93399527],\n",
              "       [-0.41576358,  1.03022105, -1.06371684],\n",
              "       [ 0.9275229 , -1.11375249,  0.93399527],\n",
              "       [ 0.76205303, -0.57775911,  0.93399527],\n",
              "       [-0.57301134,  1.03022105, -1.06371684],\n",
              "       [-1.02008833,  1.03022105, -1.06371684],\n",
              "       [-0.57301134,  1.03022105, -1.06371684],\n",
              "       [-1.02728267,  1.03022105, -1.06371684],\n",
              "       [ 1.87820384, -0.57775911,  0.93399527],\n",
              "       [ 0.25331026, -0.57775911,  0.93399527],\n",
              "       [ 1.49073713, -1.11375249,  0.93399527],\n",
              "       [ 0.85044066, -1.11375249,  0.93399527],\n",
              "       [-0.99542201,  1.03022105, -1.06371684],\n",
              "       [-0.96870017,  1.03022105, -1.06371684],\n",
              "       [ 1.03543804, -1.11375249,  0.93399527],\n",
              "       [-1.04064359,  1.03022105, -1.06371684],\n",
              "       [ 1.54006976, -1.11375249,  0.93399527],\n",
              "       [-0.81864674,  1.03022105, -1.06371684],\n",
              "       [ 0.53800066, -1.38174919,  0.93399527],\n",
              "       [-1.02214385,  1.03022105, -1.06371684],\n",
              "       [ 0.49586237, -0.57775911,  0.93399527],\n",
              "       [ 0.90491211, -1.11375249,  0.93399527],\n",
              "       [ 0.15464499, -1.38174919,  0.93399527],\n",
              "       [ 1.74665016, -0.57775911,  0.93399527],\n",
              "       [-1.13828109,  1.03022105, -1.06371684],\n",
              "       [ 1.15979738, -1.11375249,  0.93399527],\n",
              "       [-1.29861215,  1.03022105, -1.06371684],\n",
              "       [ 0.36636421, -0.57775911,  0.93399527],\n",
              "       [ 0.16492262, -1.38174919,  0.93399527],\n",
              "       [ 0.97480001, -1.11375249,  0.93399527],\n",
              "       [-0.96561688,  1.03022105, -1.06371684],\n",
              "       [-0.38904173,  1.03022105, -1.06371684],\n",
              "       [-0.22048857,  1.03022105, -1.06371684],\n",
              "       [ 0.45989065, -1.11375249,  0.93399527],\n",
              "       [-1.13725333,  1.03022105, -1.06371684],\n",
              "       [ 1.72815042, -0.57775911,  0.93399527],\n",
              "       [-0.91114543,  1.03022105, -1.06371684],\n",
              "       [ 0.82782987, -1.11375249,  0.93399527],\n",
              "       [ 1.29340659, -1.11375249,  0.93399527],\n",
              "       [-1.02214385,  1.03022105, -1.06371684],\n",
              "       [-0.97178346,  1.03022105, -1.06371684],\n",
              "       [ 0.52772302, -1.38174919,  0.93399527],\n",
              "       [-1.01392175,  1.03022105, -1.06371684],\n",
              "       [-1.03961583,  1.03022105, -1.06371684],\n",
              "       [-0.98103333,  1.03022105, -1.06371684]])"
            ]
          },
          "metadata": {},
          "execution_count": 37
        }
      ]
    },
    {
      "cell_type": "markdown",
      "source": [
        "**Definición Modelo**"
      ],
      "metadata": {
        "id": "42oN4FXYznYS"
      }
    },
    {
      "cell_type": "code",
      "source": [
        "regressor = LinearRegression()"
      ],
      "metadata": {
        "id": "MNd1AViXYWCA"
      },
      "execution_count": 38,
      "outputs": []
    },
    {
      "cell_type": "markdown",
      "source": [
        "**Entrenamiento Modelo**"
      ],
      "metadata": {
        "id": "Hjim-shYzqDo"
      }
    },
    {
      "cell_type": "code",
      "source": [
        "regressor.fit(nuevo_x_train, y_train)"
      ],
      "metadata": {
        "id": "xevwore9YbH0",
        "colab": {
          "base_uri": "https://localhost:8080/",
          "height": 75
        },
        "outputId": "cd4f739b-b280-4c32-bb5b-fae23c7714ef"
      },
      "execution_count": 39,
      "outputs": [
        {
          "output_type": "execute_result",
          "data": {
            "text/plain": [
              "LinearRegression()"
            ],
            "text/html": [
              "<style>#sk-container-id-1 {color: black;background-color: white;}#sk-container-id-1 pre{padding: 0;}#sk-container-id-1 div.sk-toggleable {background-color: white;}#sk-container-id-1 label.sk-toggleable__label {cursor: pointer;display: block;width: 100%;margin-bottom: 0;padding: 0.3em;box-sizing: border-box;text-align: center;}#sk-container-id-1 label.sk-toggleable__label-arrow:before {content: \"▸\";float: left;margin-right: 0.25em;color: #696969;}#sk-container-id-1 label.sk-toggleable__label-arrow:hover:before {color: black;}#sk-container-id-1 div.sk-estimator:hover label.sk-toggleable__label-arrow:before {color: black;}#sk-container-id-1 div.sk-toggleable__content {max-height: 0;max-width: 0;overflow: hidden;text-align: left;background-color: #f0f8ff;}#sk-container-id-1 div.sk-toggleable__content pre {margin: 0.2em;color: black;border-radius: 0.25em;background-color: #f0f8ff;}#sk-container-id-1 input.sk-toggleable__control:checked~div.sk-toggleable__content {max-height: 200px;max-width: 100%;overflow: auto;}#sk-container-id-1 input.sk-toggleable__control:checked~label.sk-toggleable__label-arrow:before {content: \"▾\";}#sk-container-id-1 div.sk-estimator input.sk-toggleable__control:checked~label.sk-toggleable__label {background-color: #d4ebff;}#sk-container-id-1 div.sk-label input.sk-toggleable__control:checked~label.sk-toggleable__label {background-color: #d4ebff;}#sk-container-id-1 input.sk-hidden--visually {border: 0;clip: rect(1px 1px 1px 1px);clip: rect(1px, 1px, 1px, 1px);height: 1px;margin: -1px;overflow: hidden;padding: 0;position: absolute;width: 1px;}#sk-container-id-1 div.sk-estimator {font-family: monospace;background-color: #f0f8ff;border: 1px dotted black;border-radius: 0.25em;box-sizing: border-box;margin-bottom: 0.5em;}#sk-container-id-1 div.sk-estimator:hover {background-color: #d4ebff;}#sk-container-id-1 div.sk-parallel-item::after {content: \"\";width: 100%;border-bottom: 1px solid gray;flex-grow: 1;}#sk-container-id-1 div.sk-label:hover label.sk-toggleable__label {background-color: #d4ebff;}#sk-container-id-1 div.sk-serial::before {content: \"\";position: absolute;border-left: 1px solid gray;box-sizing: border-box;top: 0;bottom: 0;left: 50%;z-index: 0;}#sk-container-id-1 div.sk-serial {display: flex;flex-direction: column;align-items: center;background-color: white;padding-right: 0.2em;padding-left: 0.2em;position: relative;}#sk-container-id-1 div.sk-item {position: relative;z-index: 1;}#sk-container-id-1 div.sk-parallel {display: flex;align-items: stretch;justify-content: center;background-color: white;position: relative;}#sk-container-id-1 div.sk-item::before, #sk-container-id-1 div.sk-parallel-item::before {content: \"\";position: absolute;border-left: 1px solid gray;box-sizing: border-box;top: 0;bottom: 0;left: 50%;z-index: -1;}#sk-container-id-1 div.sk-parallel-item {display: flex;flex-direction: column;z-index: 1;position: relative;background-color: white;}#sk-container-id-1 div.sk-parallel-item:first-child::after {align-self: flex-end;width: 50%;}#sk-container-id-1 div.sk-parallel-item:last-child::after {align-self: flex-start;width: 50%;}#sk-container-id-1 div.sk-parallel-item:only-child::after {width: 0;}#sk-container-id-1 div.sk-dashed-wrapped {border: 1px dashed gray;margin: 0 0.4em 0.5em 0.4em;box-sizing: border-box;padding-bottom: 0.4em;background-color: white;}#sk-container-id-1 div.sk-label label {font-family: monospace;font-weight: bold;display: inline-block;line-height: 1.2em;}#sk-container-id-1 div.sk-label-container {text-align: center;}#sk-container-id-1 div.sk-container {/* jupyter's `normalize.less` sets `[hidden] { display: none; }` but bootstrap.min.css set `[hidden] { display: none !important; }` so we also need the `!important` here to be able to override the default hidden behavior on the sphinx rendered scikit-learn.org. See: https://github.com/scikit-learn/scikit-learn/issues/21755 */display: inline-block !important;position: relative;}#sk-container-id-1 div.sk-text-repr-fallback {display: none;}</style><div id=\"sk-container-id-1\" class=\"sk-top-container\"><div class=\"sk-text-repr-fallback\"><pre>LinearRegression()</pre><b>In a Jupyter environment, please rerun this cell to show the HTML representation or trust the notebook. <br />On GitHub, the HTML representation is unable to render, please try loading this page with nbviewer.org.</b></div><div class=\"sk-container\" hidden><div class=\"sk-item\"><div class=\"sk-estimator sk-toggleable\"><input class=\"sk-toggleable__control sk-hidden--visually\" id=\"sk-estimator-id-1\" type=\"checkbox\" checked><label for=\"sk-estimator-id-1\" class=\"sk-toggleable__label sk-toggleable__label-arrow\">LinearRegression</label><div class=\"sk-toggleable__content\"><pre>LinearRegression()</pre></div></div></div></div></div>"
            ]
          },
          "metadata": {},
          "execution_count": 39
        }
      ]
    },
    {
      "cell_type": "markdown",
      "source": [
        "**Predicción Resultados**"
      ],
      "metadata": {
        "id": "oxSMpghwzscT"
      }
    },
    {
      "cell_type": "code",
      "source": [
        "y_pred = regressor.predict(nuevo_x_test)"
      ],
      "metadata": {
        "id": "wV0XpM_Xk347"
      },
      "execution_count": 40,
      "outputs": []
    },
    {
      "cell_type": "code",
      "source": [
        "print('ENERGY EFFICIENCY DATASET - Y PREDICTIONS: \\n', y_pred)"
      ],
      "metadata": {
        "id": "br7-6PFZ0FRn",
        "colab": {
          "base_uri": "https://localhost:8080/"
        },
        "outputId": "666ba341-56e8-460c-e687-d189b7d41b88"
      },
      "execution_count": 41,
      "outputs": [
        {
          "output_type": "stream",
          "name": "stdout",
          "text": [
            "ENERGY EFFICIENCY DATASET - Y PREDICTIONS: \n",
            " [14.59203079 10.84813203 31.59455285 19.18251408 31.35883985 31.83700596\n",
            " 28.44486938 27.64778272 27.16826859 22.36390589  9.09606118 35.03414457\n",
            " 11.84404598 36.01161568 34.43475191 28.31172536 11.12477479 31.95688449\n",
            " 12.51721005 12.5356529  11.59506749 31.16518991 11.37375328 40.11515004\n",
            "  8.6349899  14.35227373 11.67806032 13.72521679 11.49363181 34.2872091\n",
            " 11.21698905 13.21803839 42.49427782 13.29180979 28.07601236 33.56141253\n",
            " 13.16270983 34.35445512 14.19550949 13.80820962 10.96801056 33.57715934\n",
            " 14.19550949 24.02376249 24.84446936 24.60875636 11.14321764 12.32356011\n",
            " 30.57367066 28.25639681 31.91212538 11.49363181 31.69868457 14.60125222\n",
            " 34.60343361 10.96801056 20.28390779 28.6160324  34.02900919 13.91886673\n",
            " 15.02543779 12.08380305 31.83835398 10.98645341 12.95061705 11.69650317\n",
            " 42.06087082 11.75183173 29.21542506 33.66937359 30.84244002 11.05100339\n",
            " 22.5114487  13.88198103 16.29799451 27.22359715 30.99920425 39.99527151\n",
            " 30.93465428 14.10329524 37.79404685 28.03777864 10.98645341 11.80716028\n",
            " 29.67649634 24.30962668 24.4796564  28.19184683 11.58584607 14.00185956\n",
            " 14.00185956 28.51459672 12.62786715 24.99605623 36.77046861 14.19550949\n",
            " 27.12216147 13.49468115  9.52946818 34.67720502 32.03718127 26.11702608\n",
            " 21.33110623 31.53269891 10.78358205 25.77583334 35.22779451 13.21803839\n",
            " 12.55409575 20.28390779 17.53366554 31.55114176 29.43673927 16.12278743\n",
            " 12.11146732 16.12278743 12.04691734 39.4512074  24.87213364 36.60448295\n",
            " 30.85953485 12.33278154 12.5725386  32.51939144 11.92703881 37.04711138\n",
            " 13.91886673 28.37109798 12.09302447 27.04839006 31.3482704  24.93150626\n",
            " 38.27086493 11.05100339 33.63518393  9.612461   25.88649044 25.02372051\n",
            " 31.97532734 12.60020288 17.7734226  19.28573639 27.35539315 11.06022481\n",
            " 38.10487927 13.08893843 30.65666349 34.83396925 12.09302447 12.54487432\n",
            " 28.27888372 12.16679588 11.93626024 12.46188149]\n"
          ]
        }
      ]
    },
    {
      "cell_type": "markdown",
      "source": [
        "**Evaluación Modelo**"
      ],
      "metadata": {
        "id": "pFBRmeS30Ww6"
      }
    },
    {
      "cell_type": "code",
      "source": [
        "from sklearn.metrics import mean_squared_error"
      ],
      "metadata": {
        "id": "ep0ewgka0dIS"
      },
      "execution_count": 42,
      "outputs": []
    },
    {
      "cell_type": "markdown",
      "source": [
        "Mean Squared Error (Ver referencia: [mean_squared_error](https://scikit-learn.org/stable/modules/generated/sklearn.metrics.mean_squared_error.html))"
      ],
      "metadata": {
        "id": "bzRDEuw-zDuL"
      }
    },
    {
      "cell_type": "code",
      "source": [
        "print('ENERGY EFFICIENCY DATASET - MEAN SQUARED ERROR: ', mean_squared_error(y_test, y_pred))"
      ],
      "metadata": {
        "id": "JhTbrMB6kv7i",
        "colab": {
          "base_uri": "https://localhost:8080/"
        },
        "outputId": "7d007e9c-ba4c-4900-c861-e918737db442"
      },
      "execution_count": 43,
      "outputs": [
        {
          "output_type": "stream",
          "name": "stdout",
          "text": [
            "ENERGY EFFICIENCY DATASET - MEAN SQUARED ERROR:  6.330608754021341\n"
          ]
        }
      ]
    },
    {
      "cell_type": "markdown",
      "source": [
        "Coeficientes Regressor (Ver referencia: [regressor.coef_ property](https://scikit-learn.org/stable/tutorial/statistical_inference/supervised_learning.html#linear-regression))"
      ],
      "metadata": {
        "id": "iIsQtPQN1aSh"
      }
    },
    {
      "cell_type": "code",
      "source": [
        "regressor.coef_"
      ],
      "metadata": {
        "id": "L6btZNxym7YA",
        "colab": {
          "base_uri": "https://localhost:8080/"
        },
        "outputId": "cb60b5b3-257c-433b-bb4c-e05629f97d9c"
      },
      "execution_count": 44,
      "outputs": [
        {
          "output_type": "execute_result",
          "data": {
            "text/plain": [
              "array([ 8.97232524, -1.17492677, -0.27728663])"
            ]
          },
          "metadata": {},
          "execution_count": 44
        }
      ]
    },
    {
      "cell_type": "markdown",
      "source": [
        "Score de Evaluación"
      ],
      "metadata": {
        "id": "ca65Mxeg1kVc"
      }
    },
    {
      "cell_type": "code",
      "source": [
        "regressor.score(nuevo_x_test, y_test)"
      ],
      "metadata": {
        "id": "nZQ4HH0uZYKu",
        "colab": {
          "base_uri": "https://localhost:8080/"
        },
        "outputId": "6de3f868-2db3-4a36-fd37-040e64816f28"
      },
      "execution_count": 45,
      "outputs": [
        {
          "output_type": "execute_result",
          "data": {
            "text/plain": [
              "0.9426711716718407"
            ]
          },
          "metadata": {},
          "execution_count": 45
        }
      ]
    },
    {
      "cell_type": "markdown",
      "source": [
        "Ver ejemplo para balancear dataset"
      ],
      "metadata": {
        "id": "Pzcc3bwy9lD0"
      }
    },
    {
      "cell_type": "code",
      "source": [
        "from imblearn.over_sampling import RandomOverSampler\n",
        "from collections import Counter\n",
        "over_sampler = RandomOverSampler(random_state=42)\n",
        "x_res_over_sampler, y_res_over_sampler = over_sampler.fit_resample(x_train, y_train)\n",
        "print(f\"Training target statistics: {Counter(y_res_over_sampler)}\")\n",
        "print(f\"Testing target statistics: {Counter(y_test)}\")\n",
        "classes = y_res_over_sampler\n",
        "unique, counts = np.unique(classes, return_counts=True)\n",
        "plt.bar(unique,counts)\n",
        "plt.title('Class Frequency')\n",
        "plt.xlabel('Class')\n",
        "plt.ylabel('Frequency')\n",
        "plt.show()\n",
        "from imblearn.under_sampling import RandomUnderSampler\n",
        "under_sampler = RandomUnderSampler(random_state=42)\n",
        "x_res_under_sampler, y_res_under_sampler = under_sampler.fit_resample(x_train, y_train)\n",
        "print(f\"Training target statistics: {Counter(y_res)}\")\n",
        "print(f\"Testing target statistics: {Counter(y_test)}\")\n",
        "classes = y_res_under_sampler\n",
        "unique, counts = np.unique(classes, return_counts=True)\n",
        "plt.bar(unique,counts)\n",
        "plt.title('Class Frequency')\n",
        "plt.xlabel('Class')\n",
        "plt.ylabel('Frequency')\n",
        "plt.show()"
      ],
      "metadata": {
        "id": "6JVIfoSU9heY"
      },
      "execution_count": null,
      "outputs": []
    }
  ]
}